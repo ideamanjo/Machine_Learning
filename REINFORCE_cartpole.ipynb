{
  "nbformat": 4,
  "nbformat_minor": 0,
  "metadata": {
    "colab": {
      "name": "REINFORCE_cartpole.ipynb",
      "provenance": [],
      "collapsed_sections": [],
      "toc_visible": true,
      "include_colab_link": true
    },
    "kernelspec": {
      "name": "python3",
      "display_name": "Python 3"
    },
    "accelerator": "GPU"
  },
  "cells": [
    {
      "cell_type": "markdown",
      "metadata": {
        "id": "view-in-github",
        "colab_type": "text"
      },
      "source": [
        "<a href=\"https://colab.research.google.com/github/ideamanjo/Machine_Learning/blob/master/REINFORCE_cartpole.ipynb\" target=\"_parent\"><img src=\"https://colab.research.google.com/assets/colab-badge.svg\" alt=\"Open In Colab\"/></a>"
      ]
    },
    {
      "cell_type": "code",
      "metadata": {
        "id": "_qCg_I9__Tec",
        "colab_type": "code",
        "colab": {}
      },
      "source": [
        "!pip install gym pyvirtualdisplay > /dev/null 2>&1\n",
        "!apt-get install -y xvfb python-opengl ffmpeg > /dev/null 2>&1"
      ],
      "execution_count": 0,
      "outputs": []
    },
    {
      "cell_type": "code",
      "metadata": {
        "id": "5ZlAh9N08udm",
        "colab_type": "code",
        "colab": {}
      },
      "source": [
        "%matplotlib inline\n",
        "import numpy as np\n",
        "import matplotlib\n",
        "import matplotlib.pyplot as plt\n",
        "\n",
        "import torch\n",
        "import torch.nn as nn\n",
        "import torch.optim as optim\n",
        "import torch.nn.functional as F\n",
        "from torch.autograd import Variable\n",
        "import torchvision.transforms as T"
      ],
      "execution_count": 0,
      "outputs": []
    },
    {
      "cell_type": "code",
      "metadata": {
        "id": "9bTdPEXH-O0u",
        "colab_type": "code",
        "outputId": "3c0ff3b6-b0fe-40a5-ea51-3f0913ad7fbd",
        "colab": {
          "base_uri": "https://localhost:8080/",
          "height": 71
        }
      },
      "source": [
        "from pyvirtualdisplay import Display\n",
        "display = Display(visible=0, size=(1400, 900))\n",
        "display.start()"
      ],
      "execution_count": 0,
      "outputs": [
        {
          "output_type": "stream",
          "text": [
            "xdpyinfo was not found, X start can not be checked! Please install xdpyinfo!\n"
          ],
          "name": "stderr"
        },
        {
          "output_type": "execute_result",
          "data": {
            "text/plain": [
              "<Display cmd_param=['Xvfb', '-br', '-nolisten', 'tcp', '-screen', '0', '1400x900x24', ':1001'] cmd=['Xvfb', '-br', '-nolisten', 'tcp', '-screen', '0', '1400x900x24', ':1001'] oserror=None return_code=None stdout=\"None\" stderr=\"None\" timeout_happened=False>"
            ]
          },
          "metadata": {
            "tags": []
          },
          "execution_count": 3
        }
      ]
    },
    {
      "cell_type": "code",
      "metadata": {
        "id": "ccKBhd0j-UWT",
        "colab_type": "code",
        "outputId": "c44a701a-1c56-4fe2-8b00-c1dbfa1cff79",
        "colab": {
          "base_uri": "https://localhost:8080/",
          "height": 51
        }
      },
      "source": [
        "import gym\n",
        "from gym.wrappers import Monitor\n",
        "gym_env = \"CartPole-v0\"\n",
        "env = gym.envs.make(gym_env)\n",
        "state = env.reset()\n",
        "print(env.action_space.n)\n",
        "print(state)"
      ],
      "execution_count": 0,
      "outputs": [
        {
          "output_type": "stream",
          "text": [
            "2\n",
            "[ 0.04909349 -0.03779625  0.03739267  0.01148315]\n"
          ],
          "name": "stdout"
        }
      ]
    },
    {
      "cell_type": "code",
      "metadata": {
        "id": "Q0pSCQLN-XD_",
        "colab_type": "code",
        "outputId": "a63c5e5b-2221-4796-fe25-af5de2714224",
        "colab": {
          "base_uri": "https://localhost:8080/",
          "height": 34
        }
      },
      "source": [
        "use_gpu = torch.cuda.is_available()\n",
        "print('Use GPU: {}'.format(use_gpu))"
      ],
      "execution_count": 0,
      "outputs": [
        {
          "output_type": "stream",
          "text": [
            "Use GPU: True\n"
          ],
          "name": "stdout"
        }
      ]
    },
    {
      "cell_type": "markdown",
      "metadata": {
        "id": "y6dZa5Zh-YR8",
        "colab_type": "text"
      },
      "source": [
        "## Policy Class"
      ]
    },
    {
      "cell_type": "code",
      "metadata": {
        "id": "o0EwGY8X-bSE",
        "colab_type": "code",
        "colab": {}
      },
      "source": [
        "class Policy(nn.Module):\n",
        "    def __init__(self, state_size, action_size, hidden_dim):\n",
        "        super(Policy, self).__init__()\n",
        "        self.fc1 = nn.Linear(state_size, hidden_dim)\n",
        "        self.fc2 = nn.Linear(hidden_dim, action_size)\n",
        "        \n",
        "    def forward(self, x):\n",
        "        x = self.fc1(x)\n",
        "        x = F.relu(x)\n",
        "        x = self.fc2(x)\n",
        "        x = F.softmax(x, dim=1)\n",
        "        return x"
      ],
      "execution_count": 0,
      "outputs": []
    },
    {
      "cell_type": "markdown",
      "metadata": {
        "id": "47drgjip-b5Q",
        "colab_type": "text"
      },
      "source": [
        "## REINFORCE"
      ]
    },
    {
      "cell_type": "code",
      "metadata": {
        "id": "45tBQMbi-8xd",
        "colab_type": "code",
        "colab": {}
      },
      "source": [
        "class REINFORCE:\n",
        "    def __init__(self):\n",
        "        self.policy_model = Policy(4, 2, 128)\n",
        "        self.policy_model = self.policy_model.cuda()\n",
        "        self.policy_model.train()\n",
        "        self.optimizer = optim.Adam(self.policy_model.parameters(), lr=1e-3)\n",
        "        \n",
        "    def select_action(self, state):\n",
        "        state_tensor = torch.Tensor([state]) # [1 x 4]\n",
        "        state_tensor = Variable(state_tensor).cuda() # [1 x 4]\n",
        "        probs = self.policy_model(state_tensor) # [1 x 2]\n",
        "        probs_cpu = probs.data.cpu()[0] # Tensor cpu [2]\n",
        "        # Sampling\n",
        "        if np.random.rand() < probs_cpu[0]:\n",
        "            action = 0\n",
        "        else:\n",
        "            action = 1\n",
        "        prob = probs[:,action].view(1, -1) # Tensor gpu [1 x 1]\n",
        "        log_prob = prob.log() # Tensor\n",
        "        return action, log_prob\n",
        "\n",
        "    def update_parameters(self, rewards, log_probs, gamma):\n",
        "        R = 0\n",
        "        policy_loss = []\n",
        "        for i in reversed(range(len(rewards))):\n",
        "            R = rewards[i] + gamma * R\n",
        "            policy_loss.append(-log_probs[i] * R)\n",
        "        policy_loss = torch.cat(policy_loss).sum()\n",
        "        self.optimizer.zero_grad()\n",
        "        policy_loss.backward()\n",
        "        self.optimizer.step()"
      ],
      "execution_count": 0,
      "outputs": []
    },
    {
      "cell_type": "markdown",
      "metadata": {
        "id": "JH1arNeY-fKv",
        "colab_type": "text"
      },
      "source": [
        "## Start Training"
      ]
    },
    {
      "cell_type": "code",
      "metadata": {
        "id": "JYxv6mfj-gvh",
        "colab_type": "code",
        "outputId": "6d1abdf4-ea33-4352-cc08-5be4e5862e63",
        "colab": {
          "base_uri": "https://localhost:8080/",
          "height": 34
        }
      },
      "source": [
        "env = gym.envs.make(gym_env)\n",
        "\n",
        "epi_rewards = []\n",
        "max_episode = 1000\n",
        "max_steps = 1000\n",
        "gamma = 0.99\n",
        "\n",
        "env = Monitor(env, './video', force=True, video_callable=lambda episode_id: episode_id == (max_episode -1) )\n",
        "agent = REINFORCE()\n",
        "for i_episode in range(max_episode):\n",
        "    state = env.reset()\n",
        "    log_probs = []\n",
        "    rewards = []\n",
        "    for t in range(max_steps):\n",
        "        action, log_prob = agent.select_action(state)\n",
        "\n",
        "        next_state, reward, done, _ = env.step(action)\n",
        "\n",
        "        log_probs.append(log_prob)\n",
        "        rewards.append(reward)\n",
        "        state = next_state\n",
        "        if done:\n",
        "            break\n",
        "\n",
        "    agent.update_parameters(rewards, log_probs, gamma)\n",
        "    # Max tot_reward of CartPole-v0 is 200.\n",
        "    tot_reward = np.sum(rewards)\n",
        "    epi_rewards.append(tot_reward)\n",
        "    print(\"\\rEpisode: {}, reward: {}\".format(i_episode, tot_reward), end=\" \")\n",
        "\n",
        "env.close()"
      ],
      "execution_count": 0,
      "outputs": [
        {
          "output_type": "stream",
          "text": [
            "Episode: 999, reward: 200.0 "
          ],
          "name": "stdout"
        }
      ]
    },
    {
      "cell_type": "code",
      "metadata": {
        "id": "fa3GQ6MJ-lPA",
        "colab_type": "code",
        "outputId": "69bbe39e-1082-4594-a6cc-677fa1284e38",
        "colab": {
          "base_uri": "https://localhost:8080/",
          "height": 265
        }
      },
      "source": [
        "plt.plot(epi_rewards)\n",
        "plt.show()"
      ],
      "execution_count": 0,
      "outputs": [
        {
          "output_type": "display_data",
          "data": {
            "image/png": "[encoded data removed]",
            "text/plain": [
              "<Figure size 432x288 with 1 Axes>"
            ]
          },
          "metadata": {
            "tags": []
          }
        }
      ]
    },
    {
      "cell_type": "code",
      "metadata": {
        "id": "tjXGU1qfAzkQ",
        "colab_type": "code",
        "outputId": "8d8ff923-4b94-4670-dc09-6415f92f5fb7",
        "colab": {
          "base_uri": "https://localhost:8080/",
          "height": 421
        }
      },
      "source": [
        "import glob\n",
        "import base64\n",
        "import io\n",
        "from IPython.display import HTML\n",
        "from IPython import display as ipythondisplay\n",
        "\n",
        "def show_video():\n",
        "    mp4list = glob.glob('video/*.mp4')\n",
        "    if len(mp4list) > 0:\n",
        "        mp4 = mp4list[0]\n",
        "        video = io.open(mp4, 'r+b').read()\n",
        "        encoded = base64.b64encode(video)\n",
        "        ipythondisplay.display(HTML(data='''<video alt=\"test\" autoplay \n",
        "                loop controls style=\"height: 400px;\">\n",
        "                <source src=\"data:video/mp4;base64,{0}\" type=\"video/mp4\" />\n",
        "                </video>'''.format(encoded.decode('ascii'))))\n",
        "    else: \n",
        "        print(\"Could not find video\")\n",
        "        \n",
        "show_video()"
      ],
      "execution_count": 0,
      "outputs": [
        {
          "output_type": "display_data",
          "data": {
            "text/html": [
              "<video alt=\"test\" autoplay \n",
              "                loop controls style=\"height: 400px;\">\n",
              "                <source src=\"data:video/mp4;base64,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\" type=\"video/mp4\" />\n",
              "                </video>"
            ],
            "text/plain": [
              "<IPython.core.display.HTML object>"
            ]
          },
          "metadata": {
            "tags": []
          }
        }
      ]
    }
  ]
}