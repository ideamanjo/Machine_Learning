{
 "cells": [
  {
   "cell_type": "code",
   "execution_count": null,
   "metadata": {},
   "outputs": [],
   "source": [
    "# This code is written with TensorFlow 1.11\n",
    "import tensorflow as tf\n",
    "import numpy as np"
   ]
  },
  {
   "cell_type": "code",
   "execution_count": null,
   "metadata": {},
   "outputs": [],
   "source": [
    "char_arr = [c for c in \n",
    "            'SEabcdefghijklmnopqrstuvwxyz'\n",
    "            '단어나무놀이사과범컴퓨터']\n",
    "num_dic = {n: i for i, n in enumerate(char_arr)}\n",
    "dic_len = len(num_dic)"
   ]
  },
  {
   "cell_type": "code",
   "execution_count": null,
   "metadata": {},
   "outputs": [],
   "source": [
    "seq_data = [['word', '단어'], ['wood', '나무'], \n",
    "            ['game', '놀이'], ['apple', '사과'], \n",
    "            ['tiger', '범'], ['computer', '컴퓨터']]\n",
    "max_length = 10"
   ]
  },
  {
   "cell_type": "code",
   "execution_count": null,
   "metadata": {},
   "outputs": [],
   "source": [
    "def make_batch(seq_data):\n",
    "    batch_e, batch_d, batch_y, len_y = [], [], [], []\n",
    "    \n",
    "    for seq in seq_data:\n",
    "        input = np.zeros((max_length, dic_len))\n",
    "        for i, n in enumerate(seq[0]):\n",
    "            input[i, num_dic[n]] = 1\n",
    "\n",
    "        output = np.zeros((max_length, dic_len))\n",
    "        for i, n in enumerate('S' + seq[1]):\n",
    "            output[i, num_dic[n]] = 1\n",
    "            \n",
    "        target = np.zeros(max_length, dtype=int)\n",
    "        for i, n in enumerate(seq[1] + 'E'):\n",
    "            target[i] = num_dic[n]\n",
    "        \n",
    "        batch_e.append(input)\n",
    "        batch_d.append(output)\n",
    "        batch_y.append(target)\n",
    "        len_y.append(len(seq[1]) + 1)\n",
    "        \n",
    "    return batch_e, batch_d, batch_y, len_y"
   ]
  },
  {
   "cell_type": "code",
   "execution_count": null,
   "metadata": {},
   "outputs": [],
   "source": [
    "# def make_batch(seq_data):\n",
    "#     batch_e, batch_d, batch_y, len_y = [], [], [], []\n",
    "    \n",
    "#     for seq in seq_data:\n",
    "#         pass\n",
    "        \n",
    "#     return batch_e, batch_d, batch_y, len_y"
   ]
  },
  {
   "cell_type": "code",
   "execution_count": null,
   "metadata": {},
   "outputs": [],
   "source": [
    "# input = np.zeros((max_length, dic_len))\n",
    "# output = np.zeros((max_length, dic_len))\n",
    "# target = np.zeros(max_length, dtype=int)\n",
    "\n",
    "# for i, n in enumerate(seq[0]):\n",
    "#     input[i, num_dic[n]] = 1\n",
    "# for i, n in enumerate('S' + seq[1]):\n",
    "#     output[i, num_dic[n]] = 1\n",
    "# for i, n in enumerate(seq[1] + 'E'):\n",
    "#     target[i] = num_dic[n]\n",
    "        \n",
    "# batch_e.append(input)\n",
    "# batch_d.append(output)\n",
    "# batch_y.append(target)\n",
    "# len_y.append(len(seq[1]) + 1)"
   ]
  },
  {
   "cell_type": "code",
   "execution_count": null,
   "metadata": {},
   "outputs": [],
   "source": [
    "learning_rate = 0.01\n",
    "n_hidden = 128\n",
    "total_epoch = 100\n",
    "n_class = n_input = dic_len"
   ]
  },
  {
   "cell_type": "code",
   "execution_count": null,
   "metadata": {},
   "outputs": [],
   "source": [
    "enc_input = tf.placeholder(\n",
    "    tf.float32, [None, max_length, n_input])\n",
    "dec_input = tf.placeholder(\n",
    "    tf.float32, [None, max_length, n_input])\n",
    "targets = tf.placeholder(tf.int64, [None, max_length])\n",
    "target_lengths = tf.placeholder(tf.int64, [None])"
   ]
  },
  {
   "cell_type": "code",
   "execution_count": null,
   "metadata": {},
   "outputs": [],
   "source": [
    "# Fill in the details"
   ]
  }
 ],
 "metadata": {
  "kernelspec": {
   "display_name": "Python 3",
   "language": "python",
   "name": "python3"
  },
  "language_info": {
   "codemirror_mode": {
    "name": "ipython",
    "version": 3
   },
   "file_extension": ".py",
   "mimetype": "text/x-python",
   "name": "python",
   "nbconvert_exporter": "python",
   "pygments_lexer": "ipython3",
   "version": "3.6.5"
  }
 },
 "nbformat": 4,
 "nbformat_minor": 2
}
