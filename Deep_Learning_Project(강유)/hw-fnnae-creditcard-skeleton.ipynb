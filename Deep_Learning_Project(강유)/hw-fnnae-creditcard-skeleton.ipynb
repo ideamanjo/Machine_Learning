{
 "cells": [
  {
   "cell_type": "code",
   "execution_count": 32,
   "metadata": {},
   "outputs": [],
   "source": [
    "import pandas as pd # to import csv and for data manipulation\n",
    "import matplotlib.pyplot as plt # to plot graph\n",
    "import seaborn as sns # for intractve graphs\n",
    "import numpy as np # for linear algebra\n",
    "import datetime # to dela with date and time\n",
    "%matplotlib inline\n",
    "from sklearn.preprocessing import StandardScaler # for preprocessing the data\n",
    "from sklearn.ensemble import RandomForestClassifier # Random forest classifier\n",
    "from sklearn.tree import DecisionTreeClassifier # for Decision Tree classifier\n",
    "from sklearn.svm import SVC # for SVM classification\n",
    "from sklearn.linear_model import LogisticRegression\n",
    "from sklearn.model_selection import train_test_split\n",
    "from sklearn.model_selection import KFold\n",
    "#from sklearn.cross_validation import train_test_split # to split the data\n",
    "#from sklearn.cross_validation import KFold # For cross vbalidation\n",
    "from sklearn.model_selection import GridSearchCV # for tunnig hyper parameter it will use all combination of given parameters\n",
    "from sklearn.model_selection import RandomizedSearchCV # same for tunning hyper parameter but will use random combinations of parameters\n",
    "from sklearn.metrics import confusion_matrix,recall_score,precision_recall_curve,auc,roc_curve,roc_auc_score,classification_report\n",
    "import warnings\n",
    "warnings.filterwarnings('ignore')"
   ]
  },
  {
   "cell_type": "code",
   "execution_count": 33,
   "metadata": {},
   "outputs": [],
   "source": [
    "import os\n",
    "os.environ[\"CUDA_VISIBLE_DEVICES\"] = '3'\n"
   ]
  },
  {
   "cell_type": "code",
   "execution_count": 34,
   "metadata": {},
   "outputs": [],
   "source": [
    "import tensorflow.compat.v1 as tf\n",
    "tf.disable_v2_behavior()"
   ]
  },
  {
   "cell_type": "code",
   "execution_count": 140,
   "metadata": {},
   "outputs": [],
   "source": [
    "import pandas as pd\n",
    "import tensorflow as tf\n",
    "import numpy as np\n",
    "\n",
    "df = pd.read_csv('data/creditcard.csv')"
   ]
  },
  {
   "cell_type": "markdown",
   "metadata": {},
   "source": [
    "## Preprocessing"
   ]
  },
  {
   "cell_type": "code",
   "execution_count": 36,
   "metadata": {},
   "outputs": [
    {
     "data": {
      "text/html": [
       "<div>\n",
       "<style scoped>\n",
       "    .dataframe tbody tr th:only-of-type {\n",
       "        vertical-align: middle;\n",
       "    }\n",
       "\n",
       "    .dataframe tbody tr th {\n",
       "        vertical-align: top;\n",
       "    }\n",
       "\n",
       "    .dataframe thead th {\n",
       "        text-align: right;\n",
       "    }\n",
       "</style>\n",
       "<table border=\"1\" class=\"dataframe\">\n",
       "  <thead>\n",
       "    <tr style=\"text-align: right;\">\n",
       "      <th></th>\n",
       "      <th>Time</th>\n",
       "      <th>V1</th>\n",
       "      <th>V2</th>\n",
       "      <th>V3</th>\n",
       "      <th>V4</th>\n",
       "      <th>V5</th>\n",
       "      <th>V6</th>\n",
       "      <th>V7</th>\n",
       "      <th>V8</th>\n",
       "      <th>V9</th>\n",
       "      <th>...</th>\n",
       "      <th>V21</th>\n",
       "      <th>V22</th>\n",
       "      <th>V23</th>\n",
       "      <th>V24</th>\n",
       "      <th>V25</th>\n",
       "      <th>V26</th>\n",
       "      <th>V27</th>\n",
       "      <th>V28</th>\n",
       "      <th>Amount</th>\n",
       "      <th>Class</th>\n",
       "    </tr>\n",
       "  </thead>\n",
       "  <tbody>\n",
       "    <tr>\n",
       "      <th>0</th>\n",
       "      <td>0.0</td>\n",
       "      <td>-1.359807</td>\n",
       "      <td>-0.072781</td>\n",
       "      <td>2.536347</td>\n",
       "      <td>1.378155</td>\n",
       "      <td>-0.338321</td>\n",
       "      <td>0.462388</td>\n",
       "      <td>0.239599</td>\n",
       "      <td>0.098698</td>\n",
       "      <td>0.363787</td>\n",
       "      <td>...</td>\n",
       "      <td>-0.018307</td>\n",
       "      <td>0.277838</td>\n",
       "      <td>-0.110474</td>\n",
       "      <td>0.066928</td>\n",
       "      <td>0.128539</td>\n",
       "      <td>-0.189115</td>\n",
       "      <td>0.133558</td>\n",
       "      <td>-0.021053</td>\n",
       "      <td>149.62</td>\n",
       "      <td>0</td>\n",
       "    </tr>\n",
       "    <tr>\n",
       "      <th>1</th>\n",
       "      <td>0.0</td>\n",
       "      <td>1.191857</td>\n",
       "      <td>0.266151</td>\n",
       "      <td>0.166480</td>\n",
       "      <td>0.448154</td>\n",
       "      <td>0.060018</td>\n",
       "      <td>-0.082361</td>\n",
       "      <td>-0.078803</td>\n",
       "      <td>0.085102</td>\n",
       "      <td>-0.255425</td>\n",
       "      <td>...</td>\n",
       "      <td>-0.225775</td>\n",
       "      <td>-0.638672</td>\n",
       "      <td>0.101288</td>\n",
       "      <td>-0.339846</td>\n",
       "      <td>0.167170</td>\n",
       "      <td>0.125895</td>\n",
       "      <td>-0.008983</td>\n",
       "      <td>0.014724</td>\n",
       "      <td>2.69</td>\n",
       "      <td>0</td>\n",
       "    </tr>\n",
       "    <tr>\n",
       "      <th>2</th>\n",
       "      <td>1.0</td>\n",
       "      <td>-1.358354</td>\n",
       "      <td>-1.340163</td>\n",
       "      <td>1.773209</td>\n",
       "      <td>0.379780</td>\n",
       "      <td>-0.503198</td>\n",
       "      <td>1.800499</td>\n",
       "      <td>0.791461</td>\n",
       "      <td>0.247676</td>\n",
       "      <td>-1.514654</td>\n",
       "      <td>...</td>\n",
       "      <td>0.247998</td>\n",
       "      <td>0.771679</td>\n",
       "      <td>0.909412</td>\n",
       "      <td>-0.689281</td>\n",
       "      <td>-0.327642</td>\n",
       "      <td>-0.139097</td>\n",
       "      <td>-0.055353</td>\n",
       "      <td>-0.059752</td>\n",
       "      <td>378.66</td>\n",
       "      <td>0</td>\n",
       "    </tr>\n",
       "    <tr>\n",
       "      <th>3</th>\n",
       "      <td>1.0</td>\n",
       "      <td>-0.966272</td>\n",
       "      <td>-0.185226</td>\n",
       "      <td>1.792993</td>\n",
       "      <td>-0.863291</td>\n",
       "      <td>-0.010309</td>\n",
       "      <td>1.247203</td>\n",
       "      <td>0.237609</td>\n",
       "      <td>0.377436</td>\n",
       "      <td>-1.387024</td>\n",
       "      <td>...</td>\n",
       "      <td>-0.108300</td>\n",
       "      <td>0.005274</td>\n",
       "      <td>-0.190321</td>\n",
       "      <td>-1.175575</td>\n",
       "      <td>0.647376</td>\n",
       "      <td>-0.221929</td>\n",
       "      <td>0.062723</td>\n",
       "      <td>0.061458</td>\n",
       "      <td>123.50</td>\n",
       "      <td>0</td>\n",
       "    </tr>\n",
       "    <tr>\n",
       "      <th>4</th>\n",
       "      <td>2.0</td>\n",
       "      <td>-1.158233</td>\n",
       "      <td>0.877737</td>\n",
       "      <td>1.548718</td>\n",
       "      <td>0.403034</td>\n",
       "      <td>-0.407193</td>\n",
       "      <td>0.095921</td>\n",
       "      <td>0.592941</td>\n",
       "      <td>-0.270533</td>\n",
       "      <td>0.817739</td>\n",
       "      <td>...</td>\n",
       "      <td>-0.009431</td>\n",
       "      <td>0.798278</td>\n",
       "      <td>-0.137458</td>\n",
       "      <td>0.141267</td>\n",
       "      <td>-0.206010</td>\n",
       "      <td>0.502292</td>\n",
       "      <td>0.219422</td>\n",
       "      <td>0.215153</td>\n",
       "      <td>69.99</td>\n",
       "      <td>0</td>\n",
       "    </tr>\n",
       "  </tbody>\n",
       "</table>\n",
       "<p>5 rows × 31 columns</p>\n",
       "</div>"
      ],
      "text/plain": [
       "   Time        V1        V2        V3        V4        V5        V6        V7  \\\n",
       "0   0.0 -1.359807 -0.072781  2.536347  1.378155 -0.338321  0.462388  0.239599   \n",
       "1   0.0  1.191857  0.266151  0.166480  0.448154  0.060018 -0.082361 -0.078803   \n",
       "2   1.0 -1.358354 -1.340163  1.773209  0.379780 -0.503198  1.800499  0.791461   \n",
       "3   1.0 -0.966272 -0.185226  1.792993 -0.863291 -0.010309  1.247203  0.237609   \n",
       "4   2.0 -1.158233  0.877737  1.548718  0.403034 -0.407193  0.095921  0.592941   \n",
       "\n",
       "         V8        V9  ...         V21       V22       V23       V24  \\\n",
       "0  0.098698  0.363787  ...   -0.018307  0.277838 -0.110474  0.066928   \n",
       "1  0.085102 -0.255425  ...   -0.225775 -0.638672  0.101288 -0.339846   \n",
       "2  0.247676 -1.514654  ...    0.247998  0.771679  0.909412 -0.689281   \n",
       "3  0.377436 -1.387024  ...   -0.108300  0.005274 -0.190321 -1.175575   \n",
       "4 -0.270533  0.817739  ...   -0.009431  0.798278 -0.137458  0.141267   \n",
       "\n",
       "        V25       V26       V27       V28  Amount  Class  \n",
       "0  0.128539 -0.189115  0.133558 -0.021053  149.62      0  \n",
       "1  0.167170  0.125895 -0.008983  0.014724    2.69      0  \n",
       "2 -0.327642 -0.139097 -0.055353 -0.059752  378.66      0  \n",
       "3  0.647376 -0.221929  0.062723  0.061458  123.50      0  \n",
       "4 -0.206010  0.502292  0.219422  0.215153   69.99      0  \n",
       "\n",
       "[5 rows x 31 columns]"
      ]
     },
     "execution_count": 36,
     "metadata": {},
     "output_type": "execute_result"
    }
   ],
   "source": [
    "df.head()"
   ]
  },
  {
   "cell_type": "code",
   "execution_count": 37,
   "metadata": {},
   "outputs": [],
   "source": [
    "fraud = df[df.Class == 1]\n",
    "normal = df[df.Class == 0]"
   ]
  },
  {
   "cell_type": "code",
   "execution_count": 38,
   "metadata": {},
   "outputs": [],
   "source": [
    "X_train = pd.concat([fraud.sample(frac=0.8, random_state = 0),\n",
    "                    normal.sample(frac=0.8, random_state=0)],\n",
    "                   axis = 0)\n",
    "X_test = df.loc[~df.index.isin(X_train.index)]"
   ]
  },
  {
   "cell_type": "code",
   "execution_count": 39,
   "metadata": {},
   "outputs": [],
   "source": [
    "import numpy as np\n",
    "\n",
    "y_train = np.zeros((X_train.shape[0],2), dtype = float)\n",
    "y_train[:,1] = X_train.Class\n",
    "y_train[:,0] = 1- y_train[:,1]\n",
    "\n",
    "y_test = np.zeros((X_test.shape[0],2), dtype = float)\n",
    "y_test[:,1] = X_test.Class\n",
    "y_test[:,0] = 1 - y_test[:,1]"
   ]
  },
  {
   "cell_type": "code",
   "execution_count": 40,
   "metadata": {},
   "outputs": [],
   "source": [
    "split = (X_train.shape[0]*7)//8\n",
    "\n",
    "inputX = X_train.as_matrix()[:split]\n",
    "inputX_valid = X_train.as_matrix()[split:]\n",
    "inputX_test = X_test.as_matrix()\n",
    "\n",
    "inputY = y_train[:split]\n",
    "inputY_valid = y_train[split:]\n",
    "iputY_test = y_test"
   ]
  },
  {
   "cell_type": "code",
   "execution_count": 41,
   "metadata": {},
   "outputs": [],
   "source": [
    "ratio = len(X_train)/len(X_train[X_train.Class == 1])\n",
    "y_train[:,1]*=ratio"
   ]
  },
  {
   "cell_type": "code",
   "execution_count": 42,
   "metadata": {},
   "outputs": [],
   "source": [
    "fields = ['Class']\n",
    "X_train = X_train.drop(fields, axis=1)\n",
    "X_test = X_test.drop(fields, axis = 1)"
   ]
  },
  {
   "cell_type": "code",
   "execution_count": 43,
   "metadata": {},
   "outputs": [],
   "source": [
    "features = X_train.columns.values\n",
    "for feature in features:\n",
    "    mean = df[feature].mean()\n",
    "    std = df[feature].std()\n",
    "    X_train.loc[:, feature] = \\\n",
    "        (X_train[feature] - mean)/ std\n",
    "    X_test.loc[:, feature] = \\\n",
    "        (X_test[feature] - mean)/std"
   ]
  },
  {
   "cell_type": "code",
   "execution_count": 44,
   "metadata": {
    "scrolled": true
   },
   "outputs": [],
   "source": [
    "input_nodes = inputX.shape[1]\n",
    "\n",
    "x = tf.compat.v1.placeholder(tf.float32, [None, input_nodes])\n",
    "y_ = tf.compat.v1.placeholder(tf.float32, [None, 2])\n",
    "pkeep = tf.compat.v1.placeholder(tf.float32)"
   ]
  },
  {
   "cell_type": "code",
   "execution_count": 45,
   "metadata": {},
   "outputs": [],
   "source": [
    "hidden_nodes1 = 60\n",
    "hidden_nodes2 = 30\n",
    "hidden_nodes3 = 15"
   ]
  },
  {
   "cell_type": "code",
   "execution_count": 46,
   "metadata": {},
   "outputs": [],
   "source": [
    "W1 = tf.Variable(tf.zeros([input_nodes, hidden_nodes1]))\n",
    "b1 = tf.Variable(tf.zeros([hidden_nodes1]))\n",
    "y1 = tf.nn.sigmoid(tf.matmul(x,W1) + b1)"
   ]
  },
  {
   "cell_type": "code",
   "execution_count": 47,
   "metadata": {},
   "outputs": [],
   "source": [
    "W2 = tf.Variable(tf.zeros([hidden_nodes1,hidden_nodes2]))\n",
    "b2 = tf.Variable(tf.zeros([hidden_nodes2]))\n",
    "y2 = tf.nn.sigmoid(tf.matmul(y1,W2) + b2)"
   ]
  },
  {
   "cell_type": "code",
   "execution_count": 48,
   "metadata": {},
   "outputs": [],
   "source": [
    "W3 = tf.Variable(tf.zeros([hidden_nodes2, hidden_nodes3]))\n",
    "b3 = tf.Variable(tf.zeros([hidden_nodes3]))\n",
    "y3 = tf.nn.sigmoid(tf.matmul(y2,W3) + b3)\n",
    "y3 = tf.nn.dropout(y3, pkeep)"
   ]
  },
  {
   "cell_type": "code",
   "execution_count": 49,
   "metadata": {},
   "outputs": [],
   "source": [
    "W4 = tf.Variable(tf.zeros([ hidden_nodes3, 2]))\n",
    "b4 = tf.Variable(tf.zeros([2]))\n",
    "y4 = tf.nn.sigmoid(tf.matmul(y3, W4) + b4)\n",
    "y = y4"
   ]
  },
  {
   "cell_type": "code",
   "execution_count": 50,
   "metadata": {},
   "outputs": [],
   "source": [
    "learning_rate = 0.005\n",
    "cost = -tf.reduce_sum(y_ * tf.compat.v1.log(y))\n",
    "optimizer = tf.compat.v1.train.AdamOptimizer(0.005)\n",
    "optimizer = optimizer.minimize(cost)"
   ]
  },
  {
   "cell_type": "code",
   "execution_count": 51,
   "metadata": {},
   "outputs": [],
   "source": [
    "labels = tf.argmax(y_,1)\n",
    "predictions = tf.argmax(y,1)\n",
    "correct = tf.equal(labels, predictions)\n",
    "accuracy = tf.reduce_mean(tf.cast(correct, tf.float32))"
   ]
  },
  {
   "cell_type": "code",
   "execution_count": 52,
   "metadata": {},
   "outputs": [],
   "source": [
    "_, pre_op = tf.compat.v1.metrics.precision(labels, predictions)\n",
    "_, rec_op = tf.compat.v1.metrics.recall(labels, predictions)"
   ]
  },
  {
   "cell_type": "code",
   "execution_count": 53,
   "metadata": {},
   "outputs": [],
   "source": [
    "n_epochs = 100\n",
    "n_samples = inputY.shape[0]\n",
    "batch_size = 2048\n",
    "n_batches = n_samples//batch_size\n",
    "dropout = 0.9"
   ]
  },
  {
   "cell_type": "code",
   "execution_count": 57,
   "metadata": {},
   "outputs": [
    {
     "name": "stdout",
     "output_type": "stream",
     "text": [
      "Epoch : 0\n",
      "Training (acc=0.9980, prec=0.0000, recall=0.0000, cost=140673.8)\n",
      "VAlidation (acc = 1.0000, prec=0.0000, reall = 0.0000, cost = nan)\n",
      "\n",
      "Epoch : 5\n",
      "Training (acc=0.9980, prec=0.0000, recall=0.0000, cost=54277.1)\n",
      "VAlidation (acc = 1.0000, prec=0.0000, reall = 0.0000, cost = nan)\n",
      "\n",
      "Epoch : 10\n",
      "Training (acc=0.9980, prec=0.0000, recall=0.0000, cost=34399.5)\n",
      "VAlidation (acc = 1.0000, prec=0.0000, reall = 0.0000, cost = nan)\n",
      "\n",
      "Epoch : 15\n",
      "Training (acc=0.9980, prec=0.0000, recall=0.0000, cost=29552.5)\n",
      "VAlidation (acc = 1.0000, prec=0.0000, reall = 0.0000, cost = nan)\n",
      "\n",
      "Epoch : 20\n",
      "Training (acc=0.9980, prec=0.0000, recall=0.0000, cost=23637.6)\n",
      "VAlidation (acc = 1.0000, prec=0.0000, reall = 0.0000, cost = nan)\n",
      "\n",
      "Epoch : 25\n",
      "Training (acc=0.9980, prec=0.0000, recall=0.0000, cost=24580.3)\n",
      "VAlidation (acc = 1.0000, prec=0.0000, reall = 0.0000, cost = nan)\n",
      "\n",
      "Epoch : 30\n",
      "Training (acc=0.9980, prec=0.0000, recall=0.0000, cost=17619.4)\n",
      "VAlidation (acc = 1.0000, prec=0.0000, reall = 0.0000, cost = nan)\n",
      "\n",
      "Epoch : 35\n",
      "Training (acc=0.9980, prec=0.0000, recall=0.0000, cost=16311.8)\n",
      "VAlidation (acc = 1.0000, prec=0.0000, reall = 0.0000, cost = nan)\n",
      "\n",
      "Epoch : 40\n",
      "Training (acc=0.9980, prec=0.0000, recall=0.0000, cost=14905.2)\n",
      "VAlidation (acc = 1.0000, prec=0.0000, reall = 0.0000, cost = nan)\n",
      "\n",
      "Epoch : 45\n",
      "Training (acc=0.9980, prec=0.0000, recall=0.0000, cost=13197.1)\n",
      "VAlidation (acc = 1.0000, prec=0.0000, reall = 0.0000, cost = nan)\n",
      "\n",
      "Epoch : 50\n",
      "Training (acc=0.9980, prec=0.0000, recall=0.0000, cost=8627.4)\n",
      "VAlidation (acc = 1.0000, prec=0.0000, reall = 0.0000, cost = nan)\n",
      "\n",
      "Epoch : 55\n",
      "Training (acc=0.9980, prec=0.0000, recall=0.0000, cost=9462.0)\n",
      "VAlidation (acc = 1.0000, prec=0.0000, reall = 0.0000, cost = nan)\n",
      "\n",
      "Epoch : 60\n",
      "Training (acc=0.9980, prec=0.0000, recall=0.0000, cost=6735.0)\n",
      "VAlidation (acc = 1.0000, prec=0.0000, reall = 0.0000, cost = nan)\n",
      "\n",
      "Epoch : 65\n",
      "Training (acc=0.9980, prec=0.0000, recall=0.0000, cost=5982.3)\n",
      "VAlidation (acc = 1.0000, prec=0.0000, reall = 0.0000, cost = nan)\n",
      "\n",
      "Epoch : 70\n",
      "Training (acc=0.9980, prec=0.0000, recall=0.0000, cost=4864.3)\n",
      "VAlidation (acc = 1.0000, prec=0.0000, reall = 0.0000, cost = nan)\n",
      "\n",
      "Epoch : 75\n",
      "Training (acc=0.9980, prec=0.0000, recall=0.0000, cost=4078.1)\n",
      "VAlidation (acc = 1.0000, prec=0.0000, reall = 0.0000, cost = nan)\n",
      "\n",
      "Epoch : 80\n",
      "Training (acc=0.9980, prec=0.0000, recall=0.0000, cost=4329.4)\n",
      "VAlidation (acc = 1.0000, prec=0.0000, reall = 0.0000, cost = nan)\n",
      "\n",
      "Epoch : 85\n",
      "Training (acc=0.9980, prec=0.0000, recall=0.0000, cost=3766.2)\n",
      "VAlidation (acc = 1.0000, prec=0.0000, reall = 0.0000, cost = nan)\n",
      "\n",
      "Epoch : 90\n",
      "Training (acc=0.9980, prec=0.0000, recall=0.0000, cost=2883.6)\n",
      "VAlidation (acc = 1.0000, prec=0.0000, reall = 0.0000, cost = nan)\n",
      "\n",
      "Epoch : 95\n",
      "Training (acc=0.9980, prec=0.0000, recall=0.0000, cost=2137.8)\n",
      "VAlidation (acc = 1.0000, prec=0.0000, reall = 0.0000, cost = nan)\n",
      "\n"
     ]
    }
   ],
   "source": [
    "with tf.compat.v1.Session() as sess:\n",
    "    sess.run(tf.compat.v1.global_variables_initializer())\n",
    "    sess.run(tf.compat.v1.local_variables_initializer())\n",
    "    \n",
    "    for epoch in range(n_epochs):\n",
    "        for batch in range(n_batches):\n",
    "            idx1 = batch * batch_size\n",
    "            idx2 = (1+batch)*batch_size\n",
    "            batch_x = inputX[idx1:idx2]\n",
    "            batch_y = inputY[idx1:idx2]\n",
    "            \n",
    "            sess.run([optimizer], feed_dict={\n",
    "                x: batch_x, y_: batch_y, pkeep: dropout})\n",
    "            \n",
    "        if epoch % 5 == 0:\n",
    "            print_epoch(epoch)"
   ]
  },
  {
   "cell_type": "code",
   "execution_count": 55,
   "metadata": {},
   "outputs": [],
   "source": [
    "def print_epoch(epoch):\n",
    "    trn_res = sess.run([accuracy, pre_op, rec_op, cost],\n",
    "                      feed_dict={x: inputX,\n",
    "                                y_ : inputY,\n",
    "                                pkeep : dropout})\n",
    "    vld_res = sess.run([accuracy, pre_op, rec_op, cost],\n",
    "                      feed_dict={x: inputX_valid,\n",
    "                                y_: inputY_valid,\n",
    "                                pkeep:1})\n",
    "    print('Epoch : {}'.format(epoch))\n",
    "    print('Training (acc={:.4f}, prec={:.4f}, '\n",
    "         'recall={:.4f}, cost={:.1f})'. format(*trn_res))\n",
    "    print('VAlidation (acc = {:.4f}, prec={:.4f}, '\n",
    "          'reall = {:.4f}, cost = {:.1f})\\n'.format(*vld_res))"
   ]
  },
  {
   "cell_type": "code",
   "execution_count": 56,
   "metadata": {},
   "outputs": [
    {
     "ename": "AttributeError",
     "evalue": "'DataFrame' object has no attribute 'Class'",
     "output_type": "error",
     "traceback": [
      "\u001b[0;31m---------------------------------------------------------------------------\u001b[0m",
      "\u001b[0;31mAttributeError\u001b[0m                            Traceback (most recent call last)",
      "\u001b[0;32m<ipython-input-56-f80e16d23859>\u001b[0m in \u001b[0;36m<module>\u001b[0;34m\u001b[0m\n\u001b[0;32m----> 1\u001b[0;31m \u001b[0mratio\u001b[0m \u001b[0;34m=\u001b[0m \u001b[0mlen\u001b[0m\u001b[0;34m(\u001b[0m\u001b[0mX_train\u001b[0m\u001b[0;34m)\u001b[0m\u001b[0;34m/\u001b[0m \u001b[0mlen\u001b[0m\u001b[0;34m(\u001b[0m\u001b[0mX_train\u001b[0m\u001b[0;34m[\u001b[0m\u001b[0mX_train\u001b[0m\u001b[0;34m.\u001b[0m\u001b[0mClass\u001b[0m \u001b[0;34m==\u001b[0m\u001b[0;36m1\u001b[0m\u001b[0;34m]\u001b[0m\u001b[0;34m)\u001b[0m\u001b[0;34m\u001b[0m\u001b[0;34m\u001b[0m\u001b[0m\n\u001b[0m\u001b[1;32m      2\u001b[0m \u001b[0my_train\u001b[0m\u001b[0;34m[\u001b[0m\u001b[0;34m:\u001b[0m\u001b[0;34m,\u001b[0m\u001b[0;36m1\u001b[0m\u001b[0;34m]\u001b[0m\u001b[0;34m*=\u001b[0m \u001b[0mratio\u001b[0m\u001b[0;34m\u001b[0m\u001b[0;34m\u001b[0m\u001b[0m\n",
      "\u001b[0;32m/home/anaconda/lib/python3.7/site-packages/pandas/core/generic.py\u001b[0m in \u001b[0;36m__getattr__\u001b[0;34m(self, name)\u001b[0m\n\u001b[1;32m   4374\u001b[0m             \u001b[0;32mif\u001b[0m \u001b[0mself\u001b[0m\u001b[0;34m.\u001b[0m\u001b[0m_info_axis\u001b[0m\u001b[0;34m.\u001b[0m\u001b[0m_can_hold_identifiers_and_holds_name\u001b[0m\u001b[0;34m(\u001b[0m\u001b[0mname\u001b[0m\u001b[0;34m)\u001b[0m\u001b[0;34m:\u001b[0m\u001b[0;34m\u001b[0m\u001b[0;34m\u001b[0m\u001b[0m\n\u001b[1;32m   4375\u001b[0m                 \u001b[0;32mreturn\u001b[0m \u001b[0mself\u001b[0m\u001b[0;34m[\u001b[0m\u001b[0mname\u001b[0m\u001b[0;34m]\u001b[0m\u001b[0;34m\u001b[0m\u001b[0;34m\u001b[0m\u001b[0m\n\u001b[0;32m-> 4376\u001b[0;31m             \u001b[0;32mreturn\u001b[0m \u001b[0mobject\u001b[0m\u001b[0;34m.\u001b[0m\u001b[0m__getattribute__\u001b[0m\u001b[0;34m(\u001b[0m\u001b[0mself\u001b[0m\u001b[0;34m,\u001b[0m \u001b[0mname\u001b[0m\u001b[0;34m)\u001b[0m\u001b[0;34m\u001b[0m\u001b[0;34m\u001b[0m\u001b[0m\n\u001b[0m\u001b[1;32m   4377\u001b[0m \u001b[0;34m\u001b[0m\u001b[0m\n\u001b[1;32m   4378\u001b[0m     \u001b[0;32mdef\u001b[0m \u001b[0m__setattr__\u001b[0m\u001b[0;34m(\u001b[0m\u001b[0mself\u001b[0m\u001b[0;34m,\u001b[0m \u001b[0mname\u001b[0m\u001b[0;34m,\u001b[0m \u001b[0mvalue\u001b[0m\u001b[0;34m)\u001b[0m\u001b[0;34m:\u001b[0m\u001b[0;34m\u001b[0m\u001b[0;34m\u001b[0m\u001b[0m\n",
      "\u001b[0;31mAttributeError\u001b[0m: 'DataFrame' object has no attribute 'Class'"
     ]
    }
   ],
   "source": [
    "ratio = len(X_train)/ len(X_train[X_train.Class ==1])\n",
    "y_train[:,1]*= ratio"
   ]
  },
  {
   "cell_type": "code",
   "execution_count": null,
   "metadata": {},
   "outputs": [],
   "source": []
  },
  {
   "cell_type": "code",
   "execution_count": null,
   "metadata": {},
   "outputs": [],
   "source": []
  },
  {
   "cell_type": "code",
   "execution_count": null,
   "metadata": {},
   "outputs": [],
   "source": []
  },
  {
   "cell_type": "code",
   "execution_count": null,
   "metadata": {},
   "outputs": [],
   "source": []
  },
  {
   "cell_type": "code",
   "execution_count": null,
   "metadata": {},
   "outputs": [],
   "source": []
  },
  {
   "cell_type": "code",
   "execution_count": null,
   "metadata": {},
   "outputs": [],
   "source": []
  },
  {
   "cell_type": "code",
   "execution_count": null,
   "metadata": {},
   "outputs": [],
   "source": []
  },
  {
   "cell_type": "code",
   "execution_count": 141,
   "metadata": {},
   "outputs": [
    {
     "data": {
      "text/plain": [
       "<matplotlib.axes._subplots.AxesSubplot at 0x7f527ecc3630>"
      ]
     },
     "execution_count": 141,
     "metadata": {},
     "output_type": "execute_result"
    },
    {
     "data": {
      "image/png": "[encoded data removed]",
      "text/plain": [
       "<Figure size 432x288 with 1 Axes>"
      ]
     },
     "metadata": {
      "needs_background": "light"
     },
     "output_type": "display_data"
    }
   ],
   "source": [
    "# Now lets check the class distributions\n",
    "sns.countplot(\"Class\",data=df)"
   ]
  },
  {
   "cell_type": "code",
   "execution_count": 142,
   "metadata": {},
   "outputs": [
    {
     "name": "stdout",
     "output_type": "stream",
     "text": [
      "percentage of normal transacation is 99.82725143693798\n",
      "percentage of fraud transacation 0.1727485630620034\n"
     ]
    }
   ],
   "source": [
    "Count_Normal_transacation = len(df[df[\"Class\"]==0]) # normal transaction are repersented by 0\n",
    "Count_Fraud_transacation = len(df[df[\"Class\"]==1]) # fraud by 1\n",
    "Percentage_of_Normal_transacation = Count_Normal_transacation/(Count_Normal_transacation+Count_Fraud_transacation)\n",
    "print(\"percentage of normal transacation is\",Percentage_of_Normal_transacation*100)\n",
    "Percentage_of_Fraud_transacation= Count_Fraud_transacation/(Count_Normal_transacation+Count_Fraud_transacation)\n",
    "print(\"percentage of fraud transacation\",Percentage_of_Fraud_transacation*100)"
   ]
  },
  {
   "cell_type": "code",
   "execution_count": 143,
   "metadata": {},
   "outputs": [
    {
     "data": {
      "text/plain": [
       "<matplotlib.axes._subplots.AxesSubplot at 0x7f527ea9c780>"
      ]
     },
     "execution_count": 143,
     "metadata": {},
     "output_type": "execute_result"
    },
    {
     "data": {
      "image/png": "[encoded data removed]",
      "text/plain": [
       "<Figure size 720x432 with 2 Axes>"
      ]
     },
     "metadata": {
      "needs_background": "light"
     },
     "output_type": "display_data"
    }
   ],
   "source": [
    "Fraud_transacation = df[df[\"Class\"]==1]\n",
    "Normal_transacation= df[df[\"Class\"]==0]\n",
    "plt.figure(figsize=(10,6))\n",
    "plt.subplot(121)\n",
    "Fraud_transacation[Fraud_transacation[\"Amount\"]<= 2500].Amount.plot.hist(title=\"Fraud Tranascation\")\n",
    "plt.subplot(122)\n",
    "Normal_transacation[Normal_transacation[\"Amount\"]<=2500].Amount.plot.hist(title=\"Normal Transaction\")"
   ]
  },
  {
   "cell_type": "code",
   "execution_count": 144,
   "metadata": {},
   "outputs": [],
   "source": [
    "# for undersampling we need a portion of majority class and will take whole data of minority class\n",
    "# count fraud transaction is the total number of fraud transaction\n",
    "# now lets us see the index of fraud cases\n",
    "fraud_indices= np.array(df[df.Class==1].index)\n",
    "normal_indices = np.array(df[df.Class==0].index)\n",
    "#now let us a define a function for make undersample data with different proportion\n",
    "#different proportion means with different proportion of normal classes of data\n",
    "def undersample(normal_indices,fraud_indices,times):#times denote the normal data = times*fraud data\n",
    "    Normal_indices_undersample = np.array(np.random.choice(normal_indices,(times*Count_Fraud_transacation),replace=False))\n",
    "    undersample_data= np.concatenate([fraud_indices,Normal_indices_undersample])\n",
    "    undersample_data = df.iloc[undersample_data,:]\n",
    "    \n",
    "    print(\"the normal transacation proportion is :\",len(undersample_data[undersample_data.Class==0])/len(undersample_data[undersample_data.Class]))\n",
    "    print(\"the fraud transacation proportion is :\",len(undersample_data[undersample_data.Class==1])/len(undersample_data[undersample_data.Class]))\n",
    "    print(\"total number of record in resampled data is:\",len(undersample_data[undersample_data.Class]))\n",
    "    return(undersample_data)"
   ]
  },
  {
   "cell_type": "code",
   "execution_count": 145,
   "metadata": {},
   "outputs": [],
   "source": [
    "def model(model,features_train,features_test,labels_train,labels_test):\n",
    "    clf= model\n",
    "    clf.fit(features_train,labels_train.values.ravel())\n",
    "    pred=clf.predict(features_test)\n",
    "    cnf_matrix=confusion_matrix(labels_test,pred)\n",
    "    print(\"the recall for this model is :\",cnf_matrix[1,1]/(cnf_matrix[1,1]+cnf_matrix[1,0]))\n",
    "    fig= plt.figure(figsize=(6,3))# to plot the graph\n",
    "    print(\"TP\",cnf_matrix[1,1,]) # no of fraud transaction which are predicted fraud\n",
    "    print(\"TN\",cnf_matrix[0,0]) # no. of normal transaction which are predited normal\n",
    "    print(\"FP\",cnf_matrix[0,1]) # no of normal transaction which are predicted fraud\n",
    "    print(\"FN\",cnf_matrix[1,0]) # no of fraud Transaction which are predicted normal\n",
    "    sns.heatmap(cnf_matrix,cmap=\"coolwarm_r\",annot=True,linewidths=0.5)\n",
    "    plt.title(\"Confusion_matrix\")\n",
    "    plt.xlabel(\"Predicted_class\")\n",
    "    plt.ylabel(\"Real class\")\n",
    "    plt.show()\n",
    "    print(\"\\n----------Classification Report------------------------------------\")\n",
    "    print(classification_report(labels_test,pred))"
   ]
  },
  {
   "cell_type": "code",
   "execution_count": null,
   "metadata": {},
   "outputs": [],
   "source": []
  },
  {
   "cell_type": "code",
   "execution_count": null,
   "metadata": {},
   "outputs": [],
   "source": []
  },
  {
   "cell_type": "code",
   "execution_count": 187,
   "metadata": {},
   "outputs": [],
   "source": [
    "data = pd.read_csv('data/creditcard.csv')"
   ]
  },
  {
   "cell_type": "code",
   "execution_count": 156,
   "metadata": {},
   "outputs": [
    {
     "name": "stdout",
     "output_type": "stream",
     "text": [
      "length of training data 284807\n",
      "length of normal data 284315\n",
      "length of fraud  data 492\n"
     ]
    }
   ],
   "source": [
    "print(\"length of training data\",len(data))\n",
    "print(\"length of normal data\",len(data[data[\"Class\"]==0]))\n",
    "print(\"length of fraud  data\",len(data[data[\"Class\"]==1]))"
   ]
  },
  {
   "cell_type": "code",
   "execution_count": 157,
   "metadata": {},
   "outputs": [
    {
     "name": "stdout",
     "output_type": "stream",
     "text": [
      "length of training data\n",
      "199364\n",
      "length of test data\n",
      "85443\n"
     ]
    },
    {
     "data": {
      "text/plain": [
       "Index(['Class'], dtype='object')"
      ]
     },
     "execution_count": 157,
     "metadata": {},
     "output_type": "execute_result"
    }
   ],
   "source": [
    "data_train_X,data_test_X,data_train_y,data_test_y=data_prepration(data)\n",
    "data_train_X.columns\n",
    "data_train_y.columns"
   ]
  },
  {
   "cell_type": "code",
   "execution_count": 158,
   "metadata": {},
   "outputs": [
    {
     "name": "stdout",
     "output_type": "stream",
     "text": [
      "length of training data 199364\n",
      "length of normal data 199026\n",
      "length of fraud data 338\n"
     ]
    }
   ],
   "source": [
    "# ok Now we have a traing data\n",
    "data_train_X[\"Class\"]= data_train_y[\"Class\"] # combining class with original data\n",
    "data_train = data_train_X.copy() # for naming conevntion\n",
    "print(\"length of training data\",len(data_train))\n",
    "# Now make data set of normal transction from train data\n",
    "normal_data = data_train[data_train[\"Class\"]==0]\n",
    "print(\"length of normal data\",len(normal_data))\n",
    "fraud_data = data_train[data_train[\"Class\"]==1]\n",
    "print(\"length of fraud data\",len(fraud_data))"
   ]
  },
  {
   "cell_type": "code",
   "execution_count": 159,
   "metadata": {},
   "outputs": [
    {
     "name": "stdout",
     "output_type": "stream",
     "text": [
      "length of oversampled data is  322396\n",
      "Number of normal transcation in oversampled data 199026\n",
      "No.of fraud transcation 123370\n",
      "Proportion of Normal data in oversampled data is  0.6173339619598258\n",
      "Proportion of fraud data in oversampled data is  0.3826660380401742\n"
     ]
    }
   ],
   "source": [
    "# Now start oversamoling of training data \n",
    "# means we will duplicate many times the value of fraud data\n",
    "for i in range (365): # the number is choosen by myself on basis of nnumber of fraud transaction\n",
    "    normal_data= normal_data.append(fraud_data)\n",
    "os_data = normal_data.copy() \n",
    "print(\"length of oversampled data is \",len(os_data))\n",
    "print(\"Number of normal transcation in oversampled data\",len(os_data[os_data[\"Class\"]==0]))\n",
    "print(\"No.of fraud transcation\",len(os_data[os_data[\"Class\"]==1]))\n",
    "print(\"Proportion of Normal data in oversampled data is \",len(os_data[os_data[\"Class\"]==0])/len(os_data))\n",
    "print(\"Proportion of fraud data in oversampled data is \",len(os_data[os_data[\"Class\"]==1])/len(os_data))"
   ]
  },
  {
   "cell_type": "code",
   "execution_count": 161,
   "metadata": {},
   "outputs": [
    {
     "data": {
      "text/html": [
       "<div>\n",
       "<style scoped>\n",
       "    .dataframe tbody tr th:only-of-type {\n",
       "        vertical-align: middle;\n",
       "    }\n",
       "\n",
       "    .dataframe tbody tr th {\n",
       "        vertical-align: top;\n",
       "    }\n",
       "\n",
       "    .dataframe thead th {\n",
       "        text-align: right;\n",
       "    }\n",
       "</style>\n",
       "<table border=\"1\" class=\"dataframe\">\n",
       "  <thead>\n",
       "    <tr style=\"text-align: right;\">\n",
       "      <th></th>\n",
       "      <th>V1</th>\n",
       "      <th>V2</th>\n",
       "      <th>V3</th>\n",
       "      <th>V4</th>\n",
       "      <th>V5</th>\n",
       "      <th>V6</th>\n",
       "      <th>V7</th>\n",
       "      <th>V8</th>\n",
       "      <th>V9</th>\n",
       "      <th>V10</th>\n",
       "      <th>...</th>\n",
       "      <th>V21</th>\n",
       "      <th>V22</th>\n",
       "      <th>V23</th>\n",
       "      <th>V24</th>\n",
       "      <th>V25</th>\n",
       "      <th>V26</th>\n",
       "      <th>V27</th>\n",
       "      <th>V28</th>\n",
       "      <th>Class</th>\n",
       "      <th>Normalized Amount</th>\n",
       "    </tr>\n",
       "  </thead>\n",
       "  <tbody>\n",
       "    <tr>\n",
       "      <th>23635</th>\n",
       "      <td>-1.111180</td>\n",
       "      <td>0.488062</td>\n",
       "      <td>1.574197</td>\n",
       "      <td>0.117696</td>\n",
       "      <td>1.494138</td>\n",
       "      <td>-1.545635</td>\n",
       "      <td>1.127500</td>\n",
       "      <td>-0.436162</td>\n",
       "      <td>-0.803863</td>\n",
       "      <td>-0.472697</td>\n",
       "      <td>...</td>\n",
       "      <td>0.063990</td>\n",
       "      <td>0.113860</td>\n",
       "      <td>-0.378432</td>\n",
       "      <td>0.397011</td>\n",
       "      <td>0.874979</td>\n",
       "      <td>-0.410202</td>\n",
       "      <td>-0.178266</td>\n",
       "      <td>-0.155620</td>\n",
       "      <td>0</td>\n",
       "      <td>-0.398035</td>\n",
       "    </tr>\n",
       "    <tr>\n",
       "      <th>113307</th>\n",
       "      <td>1.155020</td>\n",
       "      <td>-0.087787</td>\n",
       "      <td>1.113016</td>\n",
       "      <td>1.207574</td>\n",
       "      <td>-0.808011</td>\n",
       "      <td>0.228282</td>\n",
       "      <td>-0.740631</td>\n",
       "      <td>0.292216</td>\n",
       "      <td>0.626402</td>\n",
       "      <td>0.120185</td>\n",
       "      <td>...</td>\n",
       "      <td>0.139803</td>\n",
       "      <td>0.507071</td>\n",
       "      <td>-0.125359</td>\n",
       "      <td>0.005351</td>\n",
       "      <td>0.488751</td>\n",
       "      <td>-0.236149</td>\n",
       "      <td>0.058087</td>\n",
       "      <td>0.019627</td>\n",
       "      <td>0</td>\n",
       "      <td>-0.401069</td>\n",
       "    </tr>\n",
       "    <tr>\n",
       "      <th>125671</th>\n",
       "      <td>-8.838201</td>\n",
       "      <td>7.090699</td>\n",
       "      <td>-7.615316</td>\n",
       "      <td>0.014220</td>\n",
       "      <td>-3.115910</td>\n",
       "      <td>3.621317</td>\n",
       "      <td>-7.945156</td>\n",
       "      <td>2.136112</td>\n",
       "      <td>-2.482299</td>\n",
       "      <td>-2.279181</td>\n",
       "      <td>...</td>\n",
       "      <td>-1.640863</td>\n",
       "      <td>0.711052</td>\n",
       "      <td>1.136335</td>\n",
       "      <td>0.934447</td>\n",
       "      <td>0.198898</td>\n",
       "      <td>-0.445902</td>\n",
       "      <td>-2.998625</td>\n",
       "      <td>-0.566475</td>\n",
       "      <td>0</td>\n",
       "      <td>-0.393541</td>\n",
       "    </tr>\n",
       "    <tr>\n",
       "      <th>59644</th>\n",
       "      <td>-3.672287</td>\n",
       "      <td>2.427329</td>\n",
       "      <td>-0.490603</td>\n",
       "      <td>-1.307071</td>\n",
       "      <td>-1.526968</td>\n",
       "      <td>-1.431511</td>\n",
       "      <td>-0.546984</td>\n",
       "      <td>1.541659</td>\n",
       "      <td>0.685910</td>\n",
       "      <td>0.567629</td>\n",
       "      <td>...</td>\n",
       "      <td>-0.235393</td>\n",
       "      <td>-0.512431</td>\n",
       "      <td>0.395807</td>\n",
       "      <td>0.588687</td>\n",
       "      <td>-0.113574</td>\n",
       "      <td>0.660290</td>\n",
       "      <td>0.164980</td>\n",
       "      <td>-0.011680</td>\n",
       "      <td>0</td>\n",
       "      <td>-0.404909</td>\n",
       "    </tr>\n",
       "    <tr>\n",
       "      <th>133930</th>\n",
       "      <td>-0.567212</td>\n",
       "      <td>0.242119</td>\n",
       "      <td>0.167650</td>\n",
       "      <td>-1.328514</td>\n",
       "      <td>-0.234984</td>\n",
       "      <td>0.560538</td>\n",
       "      <td>-0.149508</td>\n",
       "      <td>0.682745</td>\n",
       "      <td>-1.468155</td>\n",
       "      <td>-0.454765</td>\n",
       "      <td>...</td>\n",
       "      <td>0.074991</td>\n",
       "      <td>-0.096716</td>\n",
       "      <td>-0.011775</td>\n",
       "      <td>-1.247403</td>\n",
       "      <td>0.132504</td>\n",
       "      <td>-0.254305</td>\n",
       "      <td>-0.099331</td>\n",
       "      <td>-0.041131</td>\n",
       "      <td>0</td>\n",
       "      <td>-0.054277</td>\n",
       "    </tr>\n",
       "  </tbody>\n",
       "</table>\n",
       "<p>5 rows × 30 columns</p>\n",
       "</div>"
      ],
      "text/plain": [
       "              V1        V2        V3        V4        V5        V6        V7  \\\n",
       "23635  -1.111180  0.488062  1.574197  0.117696  1.494138 -1.545635  1.127500   \n",
       "113307  1.155020 -0.087787  1.113016  1.207574 -0.808011  0.228282 -0.740631   \n",
       "125671 -8.838201  7.090699 -7.615316  0.014220 -3.115910  3.621317 -7.945156   \n",
       "59644  -3.672287  2.427329 -0.490603 -1.307071 -1.526968 -1.431511 -0.546984   \n",
       "133930 -0.567212  0.242119  0.167650 -1.328514 -0.234984  0.560538 -0.149508   \n",
       "\n",
       "              V8        V9       V10        ...               V21       V22  \\\n",
       "23635  -0.436162 -0.803863 -0.472697        ...          0.063990  0.113860   \n",
       "113307  0.292216  0.626402  0.120185        ...          0.139803  0.507071   \n",
       "125671  2.136112 -2.482299 -2.279181        ...         -1.640863  0.711052   \n",
       "59644   1.541659  0.685910  0.567629        ...         -0.235393 -0.512431   \n",
       "133930  0.682745 -1.468155 -0.454765        ...          0.074991 -0.096716   \n",
       "\n",
       "             V23       V24       V25       V26       V27       V28  Class  \\\n",
       "23635  -0.378432  0.397011  0.874979 -0.410202 -0.178266 -0.155620      0   \n",
       "113307 -0.125359  0.005351  0.488751 -0.236149  0.058087  0.019627      0   \n",
       "125671  1.136335  0.934447  0.198898 -0.445902 -2.998625 -0.566475      0   \n",
       "59644   0.395807  0.588687 -0.113574  0.660290  0.164980 -0.011680      0   \n",
       "133930 -0.011775 -1.247403  0.132504 -0.254305 -0.099331 -0.041131      0   \n",
       "\n",
       "        Normalized Amount  \n",
       "23635           -0.398035  \n",
       "113307          -0.401069  \n",
       "125671          -0.393541  \n",
       "59644           -0.404909  \n",
       "133930          -0.054277  \n",
       "\n",
       "[5 rows x 30 columns]"
      ]
     },
     "execution_count": 161,
     "metadata": {},
     "output_type": "execute_result"
    }
   ],
   "source": [
    "os_data[\"Normalized Amount\"] = StandardScaler().fit_transform(os_data['Amount'].values.reshape(-1, 1))\n",
    "os_data.drop([\"Time\",\"Amount\"],axis=1,inplace=True)\n",
    "os_data.head()"
   ]
  },
  {
   "cell_type": "code",
   "execution_count": 162,
   "metadata": {},
   "outputs": [
    {
     "name": "stdout",
     "output_type": "stream",
     "text": [
      "length of training data\n",
      "225677\n",
      "length of test data\n",
      "96719\n",
      "the recall for this model is : 1.0\n",
      "TP 37035\n",
      "TN 59680\n",
      "FP 4\n",
      "FN 0\n"
     ]
    },
    {
     "data": {
      "image/png": "[encoded data removed]",
      "text/plain": [
       "<Figure size 432x216 with 2 Axes>"
      ]
     },
     "metadata": {
      "needs_background": "light"
     },
     "output_type": "display_data"
    },
    {
     "name": "stdout",
     "output_type": "stream",
     "text": [
      "\n",
      "----------Classification Report------------------------------------\n",
      "              precision    recall  f1-score   support\n",
      "\n",
      "           0       1.00      1.00      1.00     59684\n",
      "           1       1.00      1.00      1.00     37035\n",
      "\n",
      "   micro avg       1.00      1.00      1.00     96719\n",
      "   macro avg       1.00      1.00      1.00     96719\n",
      "weighted avg       1.00      1.00      1.00     96719\n",
      "\n"
     ]
    }
   ],
   "source": [
    "os_train_X,os_test_X,os_train_y,os_test_y=data_prepration(os_data)\n",
    "clf= RandomForestClassifier(n_estimators=100)\n",
    "model(clf,os_train_X,os_test_X,os_train_y,os_test_y)"
   ]
  },
  {
   "cell_type": "code",
   "execution_count": 180,
   "metadata": {},
   "outputs": [
    {
     "data": {
      "text/html": [
       "<div>\n",
       "<style scoped>\n",
       "    .dataframe tbody tr th:only-of-type {\n",
       "        vertical-align: middle;\n",
       "    }\n",
       "\n",
       "    .dataframe tbody tr th {\n",
       "        vertical-align: top;\n",
       "    }\n",
       "\n",
       "    .dataframe thead th {\n",
       "        text-align: right;\n",
       "    }\n",
       "</style>\n",
       "<table border=\"1\" class=\"dataframe\">\n",
       "  <thead>\n",
       "    <tr style=\"text-align: right;\">\n",
       "      <th></th>\n",
       "      <th>V1</th>\n",
       "      <th>V2</th>\n",
       "      <th>V3</th>\n",
       "      <th>V4</th>\n",
       "      <th>V5</th>\n",
       "      <th>V6</th>\n",
       "      <th>V7</th>\n",
       "      <th>V8</th>\n",
       "      <th>V9</th>\n",
       "      <th>V10</th>\n",
       "      <th>...</th>\n",
       "      <th>V20</th>\n",
       "      <th>V21</th>\n",
       "      <th>V22</th>\n",
       "      <th>V23</th>\n",
       "      <th>V24</th>\n",
       "      <th>V25</th>\n",
       "      <th>V26</th>\n",
       "      <th>V27</th>\n",
       "      <th>V28</th>\n",
       "      <th>Normalized Amount</th>\n",
       "    </tr>\n",
       "  </thead>\n",
       "  <tbody>\n",
       "    <tr>\n",
       "      <th>105367</th>\n",
       "      <td>-0.147373</td>\n",
       "      <td>0.789323</td>\n",
       "      <td>0.622057</td>\n",
       "      <td>-0.582143</td>\n",
       "      <td>0.651374</td>\n",
       "      <td>-0.531725</td>\n",
       "      <td>0.639956</td>\n",
       "      <td>0.046745</td>\n",
       "      <td>-0.423778</td>\n",
       "      <td>-0.581660</td>\n",
       "      <td>...</td>\n",
       "      <td>-0.155906</td>\n",
       "      <td>-0.093052</td>\n",
       "      <td>-0.361029</td>\n",
       "      <td>0.131302</td>\n",
       "      <td>-0.421719</td>\n",
       "      <td>-1.234660</td>\n",
       "      <td>-0.236602</td>\n",
       "      <td>0.184803</td>\n",
       "      <td>0.229373</td>\n",
       "      <td>-0.339084</td>\n",
       "    </tr>\n",
       "    <tr>\n",
       "      <th>19175</th>\n",
       "      <td>-0.174573</td>\n",
       "      <td>-0.292719</td>\n",
       "      <td>1.633864</td>\n",
       "      <td>-2.166797</td>\n",
       "      <td>-1.757145</td>\n",
       "      <td>-0.248346</td>\n",
       "      <td>-1.970192</td>\n",
       "      <td>-2.675862</td>\n",
       "      <td>-2.245625</td>\n",
       "      <td>0.262899</td>\n",
       "      <td>...</td>\n",
       "      <td>0.299960</td>\n",
       "      <td>-1.368580</td>\n",
       "      <td>0.355764</td>\n",
       "      <td>-0.206692</td>\n",
       "      <td>0.363486</td>\n",
       "      <td>1.303935</td>\n",
       "      <td>-0.091334</td>\n",
       "      <td>0.020797</td>\n",
       "      <td>0.171985</td>\n",
       "      <td>-0.291100</td>\n",
       "    </tr>\n",
       "    <tr>\n",
       "      <th>242167</th>\n",
       "      <td>-1.031791</td>\n",
       "      <td>1.166991</td>\n",
       "      <td>-0.135839</td>\n",
       "      <td>-0.779336</td>\n",
       "      <td>0.689600</td>\n",
       "      <td>-0.637809</td>\n",
       "      <td>0.724443</td>\n",
       "      <td>0.307198</td>\n",
       "      <td>-0.291207</td>\n",
       "      <td>-0.450531</td>\n",
       "      <td>...</td>\n",
       "      <td>0.049390</td>\n",
       "      <td>-0.236798</td>\n",
       "      <td>-0.478814</td>\n",
       "      <td>0.324553</td>\n",
       "      <td>0.615054</td>\n",
       "      <td>-0.421154</td>\n",
       "      <td>0.126244</td>\n",
       "      <td>0.376908</td>\n",
       "      <td>0.212422</td>\n",
       "      <td>-0.298779</td>\n",
       "    </tr>\n",
       "    <tr>\n",
       "      <th>55369</th>\n",
       "      <td>1.013886</td>\n",
       "      <td>-1.813948</td>\n",
       "      <td>0.613326</td>\n",
       "      <td>-1.176938</td>\n",
       "      <td>-1.850081</td>\n",
       "      <td>-0.179643</td>\n",
       "      <td>-1.033002</td>\n",
       "      <td>-0.092681</td>\n",
       "      <td>-1.699229</td>\n",
       "      <td>1.244834</td>\n",
       "      <td>...</td>\n",
       "      <td>0.169581</td>\n",
       "      <td>0.170849</td>\n",
       "      <td>0.489380</td>\n",
       "      <td>-0.212579</td>\n",
       "      <td>0.124797</td>\n",
       "      <td>0.245457</td>\n",
       "      <td>-0.044803</td>\n",
       "      <td>0.035379</td>\n",
       "      <td>0.065555</td>\n",
       "      <td>0.589064</td>\n",
       "    </tr>\n",
       "    <tr>\n",
       "      <th>48955</th>\n",
       "      <td>-12.665062</td>\n",
       "      <td>-8.632804</td>\n",
       "      <td>-8.318791</td>\n",
       "      <td>1.875694</td>\n",
       "      <td>-22.064519</td>\n",
       "      <td>14.672360</td>\n",
       "      <td>23.863052</td>\n",
       "      <td>-6.156826</td>\n",
       "      <td>2.520556</td>\n",
       "      <td>-0.287792</td>\n",
       "      <td>...</td>\n",
       "      <td>-13.684210</td>\n",
       "      <td>-5.733766</td>\n",
       "      <td>1.051820</td>\n",
       "      <td>-1.292170</td>\n",
       "      <td>0.751013</td>\n",
       "      <td>0.759148</td>\n",
       "      <td>1.070889</td>\n",
       "      <td>2.412802</td>\n",
       "      <td>-0.853621</td>\n",
       "      <td>17.693781</td>\n",
       "    </tr>\n",
       "  </tbody>\n",
       "</table>\n",
       "<p>5 rows × 29 columns</p>\n",
       "</div>"
      ],
      "text/plain": [
       "               V1        V2        V3        V4         V5         V6  \\\n",
       "105367  -0.147373  0.789323  0.622057 -0.582143   0.651374  -0.531725   \n",
       "19175   -0.174573 -0.292719  1.633864 -2.166797  -1.757145  -0.248346   \n",
       "242167  -1.031791  1.166991 -0.135839 -0.779336   0.689600  -0.637809   \n",
       "55369    1.013886 -1.813948  0.613326 -1.176938  -1.850081  -0.179643   \n",
       "48955  -12.665062 -8.632804 -8.318791  1.875694 -22.064519  14.672360   \n",
       "\n",
       "               V7        V8        V9       V10        ...                V20  \\\n",
       "105367   0.639956  0.046745 -0.423778 -0.581660        ...          -0.155906   \n",
       "19175   -1.970192 -2.675862 -2.245625  0.262899        ...           0.299960   \n",
       "242167   0.724443  0.307198 -0.291207 -0.450531        ...           0.049390   \n",
       "55369   -1.033002 -0.092681 -1.699229  1.244834        ...           0.169581   \n",
       "48955   23.863052 -6.156826  2.520556 -0.287792        ...         -13.684210   \n",
       "\n",
       "             V21       V22       V23       V24       V25       V26       V27  \\\n",
       "105367 -0.093052 -0.361029  0.131302 -0.421719 -1.234660 -0.236602  0.184803   \n",
       "19175  -1.368580  0.355764 -0.206692  0.363486  1.303935 -0.091334  0.020797   \n",
       "242167 -0.236798 -0.478814  0.324553  0.615054 -0.421154  0.126244  0.376908   \n",
       "55369   0.170849  0.489380 -0.212579  0.124797  0.245457 -0.044803  0.035379   \n",
       "48955  -5.733766  1.051820 -1.292170  0.751013  0.759148  1.070889  2.412802   \n",
       "\n",
       "             V28  Normalized Amount  \n",
       "105367  0.229373          -0.339084  \n",
       "19175   0.171985          -0.291100  \n",
       "242167  0.212422          -0.298779  \n",
       "55369   0.065555           0.589064  \n",
       "48955  -0.853621          17.693781  \n",
       "\n",
       "[5 rows x 29 columns]"
      ]
     },
     "execution_count": 180,
     "metadata": {},
     "output_type": "execute_result"
    }
   ],
   "source": [
    "os_data_X = os_data.ix[:,os_data.columns != \"Class\"]\n",
    "os_data_y = os_data.ix[:,os_data.columns == \"Class\"]\n",
    "#for that we have to standrdize the normal amount and drop the time from it\n",
    "data_test_X[\"Normalized Amount\"] = StandardScaler().fit_transform(data_test_X['Amount'].values.reshape(-1, 1))\n",
    "data_test_X.drop([\"Time\",\"Amount\"],axis=1,inplace=True)\n",
    "data_test_X.head()"
   ]
  },
  {
   "cell_type": "code",
   "execution_count": 181,
   "metadata": {},
   "outputs": [
    {
     "name": "stdout",
     "output_type": "stream",
     "text": [
      "the recall for this model is : 0.7662337662337663\n",
      "TP 118\n",
      "TN 85285\n",
      "FP 4\n",
      "FN 36\n"
     ]
    },
    {
     "data": {
      "image/png": "[encoded data removed]",
      "text/plain": [
       "<Figure size 432x216 with 2 Axes>"
      ]
     },
     "metadata": {
      "needs_background": "light"
     },
     "output_type": "display_data"
    },
    {
     "name": "stdout",
     "output_type": "stream",
     "text": [
      "\n",
      "----------Classification Report------------------------------------\n",
      "              precision    recall  f1-score   support\n",
      "\n",
      "           0       1.00      1.00      1.00     85289\n",
      "           1       0.97      0.77      0.86       154\n",
      "\n",
      "   micro avg       1.00      1.00      1.00     85443\n",
      "   macro avg       0.98      0.88      0.93     85443\n",
      "weighted avg       1.00      1.00      1.00     85443\n",
      "\n"
     ]
    }
   ],
   "source": [
    "clf= RandomForestClassifier(n_estimators=100)\n",
    "model(clf,os_data_X,data_test_X,os_data_y,data_test_y)"
   ]
  },
  {
   "cell_type": "code",
   "execution_count": null,
   "metadata": {},
   "outputs": [],
   "source": []
  },
  {
   "cell_type": "code",
   "execution_count": null,
   "metadata": {},
   "outputs": [],
   "source": []
  },
  {
   "cell_type": "code",
   "execution_count": 188,
   "metadata": {},
   "outputs": [
    {
     "name": "stdout",
     "output_type": "stream",
     "text": [
      "length of training data\n",
      "199364\n",
      "length of test data\n",
      "85443\n"
     ]
    }
   ],
   "source": [
    "os = SMOTE(random_state=0) #   We are using SMOTE as the function for oversampling\n",
    "# now we can devided our data into training and test data\n",
    "# Call our method data prepration on our dataset\n",
    "data_train_X,data_test_X,data_train_y,data_test_y=data_prepration(data)\n",
    "columns = data_train_X.columns"
   ]
  },
  {
   "cell_type": "code",
   "execution_count": 189,
   "metadata": {},
   "outputs": [
    {
     "name": "stdout",
     "output_type": "stream",
     "text": [
      "length of oversampled data is  398018\n",
      "Number of normal transcation in oversampled data 199009\n",
      "No.of fraud transcation 199009\n",
      "Proportion of Normal data in oversampled data is  0.5\n",
      "Proportion of fraud data in oversampled data is  0.5\n"
     ]
    }
   ],
   "source": [
    "os_data_X,os_data_y=os.fit_sample(data_train_X,data_train_y)\n",
    "os_data_X = pd.DataFrame(data=os_data_X,columns=columns )\n",
    "os_data_y= pd.DataFrame(data=os_data_y,columns=[\"Class\"])\n",
    "# we can Check the numbers of our data\n",
    "print(\"length of oversampled data is \",len(os_data_X))\n",
    "print(\"Number of normal transcation in oversampled data\",len(os_data_y[os_data_y[\"Class\"]==0]))\n",
    "print(\"No.of fraud transcation\",len(os_data_y[os_data_y[\"Class\"]==1]))\n",
    "print(\"Proportion of Normal data in oversampled data is \",len(os_data_y[os_data_y[\"Class\"]==0])/len(os_data_X))\n",
    "print(\"Proportion of fraud data in oversampled data is \",len(os_data_y[os_data_y[\"Class\"]==1])/len(os_data_X))"
   ]
  },
  {
   "cell_type": "code",
   "execution_count": 190,
   "metadata": {},
   "outputs": [],
   "source": [
    "os_data_X[\"Normalized Amount\"] = StandardScaler().fit_transform(os_data_X['Amount'].values.reshape(-1, 1))\n",
    "os_data_X.drop([\"Time\",\"Amount\"],axis=1,inplace=True)\n",
    "data_test_X[\"Normalized Amount\"] = StandardScaler().fit_transform(data_test_X['Amount'].values.reshape(-1, 1))\n",
    "data_test_X.drop([\"Time\",\"Amount\"],axis=1,inplace=True)"
   ]
  },
  {
   "cell_type": "code",
   "execution_count": 191,
   "metadata": {},
   "outputs": [
    {
     "name": "stdout",
     "output_type": "stream",
     "text": [
      "the recall for this model is : 0.7737226277372263\n",
      "TP 106\n",
      "TN 85288\n",
      "FP 18\n",
      "FN 31\n"
     ]
    },
    {
     "data": {
      "image/png": "[encoded data removed]",
      "text/plain": [
       "<Figure size 432x216 with 2 Axes>"
      ]
     },
     "metadata": {
      "needs_background": "light"
     },
     "output_type": "display_data"
    },
    {
     "name": "stdout",
     "output_type": "stream",
     "text": [
      "\n",
      "----------Classification Report------------------------------------\n",
      "              precision    recall  f1-score   support\n",
      "\n",
      "           0       1.00      1.00      1.00     85306\n",
      "           1       0.85      0.77      0.81       137\n",
      "\n",
      "   micro avg       1.00      1.00      1.00     85443\n",
      "   macro avg       0.93      0.89      0.91     85443\n",
      "weighted avg       1.00      1.00      1.00     85443\n",
      "\n"
     ]
    }
   ],
   "source": [
    "clf= RandomForestClassifier(n_estimators=100)\n",
    "# train data using oversampled data and predict for the test data\n",
    "model(clf,os_data_X,data_test_X,os_data_y,data_test_y)"
   ]
  },
  {
   "cell_type": "code",
   "execution_count": null,
   "metadata": {},
   "outputs": [],
   "source": []
  }
 ],
 "metadata": {
  "kernelspec": {
   "display_name": "Python 3.7",
   "language": "python",
   "name": "python3"
  },
  "language_info": {
   "codemirror_mode": {
    "name": "ipython",
    "version": 3
   },
   "file_extension": ".py",
   "mimetype": "text/x-python",
   "name": "python",
   "nbconvert_exporter": "python",
   "pygments_lexer": "ipython3",
   "version": "3.7.1"
  }
 },
 "nbformat": 4,
 "nbformat_minor": 2
}
