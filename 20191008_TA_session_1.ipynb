{
  "nbformat": 4,
  "nbformat_minor": 0,
  "metadata": {
    "kernelspec": {
      "display_name": "Python 3",
      "language": "python",
      "name": "python3"
    },
    "language_info": {
      "codemirror_mode": {
        "name": "ipython",
        "version": 3
      },
      "file_extension": ".py",
      "mimetype": "text/x-python",
      "name": "python",
      "nbconvert_exporter": "python",
      "pygments_lexer": "ipython3",
      "version": "3.7.3"
    },
    "colab": {
      "name": "20191008_TA_session_1.ipynb",
      "provenance": []
    }
  },
  "cells": [
    {
      "cell_type": "markdown",
      "metadata": {
        "id": "X2iI79Qo-RGB",
        "colab_type": "text"
      },
      "source": [
        "# TA session #01: simple salary prediction model of hitters"
      ]
    },
    {
      "cell_type": "markdown",
      "metadata": {
        "id": "AHpW5nDo-RGE",
        "colab_type": "text"
      },
      "source": [
        "Your team and team members here"
      ]
    },
    {
      "cell_type": "code",
      "metadata": {
        "id": "5jz4HO7C-RGF",
        "colab_type": "code",
        "colab": {}
      },
      "source": [
        "import pandas as pd\n",
        "import numpy as np\n",
        "import seaborn as sns\n",
        "import matplotlib.pyplot as plt\n",
        "from matplotlib.colors import ListedColormap\n",
        "from sklearn import neighbors, datasets"
      ],
      "execution_count": 0,
      "outputs": []
    },
    {
      "cell_type": "markdown",
      "metadata": {
        "id": "HL1IndOs-RGI",
        "colab_type": "text"
      },
      "source": [
        "To exericse variance-bias tradeoff, we use Hitters.csv\n",
        "For details of dataset, see [description](https://rdrr.io/cran/ISLR/man/Hitters.html)"
      ]
    },
    {
      "cell_type": "code",
      "metadata": {
        "id": "QprdTc6O-RGJ",
        "colab_type": "code",
        "colab": {}
      },
      "source": [
        "data = pd.read_csv('Data/Hitters.csv', index_col=0)\n",
        "data.head()"
      ],
      "execution_count": 0,
      "outputs": []
    },
    {
      "cell_type": "code",
      "metadata": {
        "id": "FrC22US5-RGM",
        "colab_type": "code",
        "colab": {}
      },
      "source": [
        "output = 'Salary'"
      ],
      "execution_count": 0,
      "outputs": []
    },
    {
      "cell_type": "markdown",
      "metadata": {
        "id": "C6LsBM-6-RGO",
        "colab_type": "text"
      },
      "source": [
        "## 1. Preprocessing & EDA (in brief)"
      ]
    },
    {
      "cell_type": "code",
      "metadata": {
        "id": "Yxb5ztuf-RGP",
        "colab_type": "code",
        "colab": {}
      },
      "source": [
        "#TODO: evaluate data dimension"
      ],
      "execution_count": 0,
      "outputs": []
    },
    {
      "cell_type": "code",
      "metadata": {
        "id": "8FyXqKLL-RGR",
        "colab_type": "code",
        "colab": {}
      },
      "source": [
        "#TODO:summarize data"
      ],
      "execution_count": 0,
      "outputs": []
    },
    {
      "cell_type": "code",
      "metadata": {
        "scrolled": true,
        "id": "HgIdbNHd-RGU",
        "colab_type": "code",
        "colab": {}
      },
      "source": [
        "# TODO:dataset validation (e.g. check whether missing values)"
      ],
      "execution_count": 0,
      "outputs": []
    },
    {
      "cell_type": "code",
      "metadata": {
        "id": "LO1DN8sB-RGW",
        "colab_type": "code",
        "colab": {}
      },
      "source": [
        "# TODO: data preprocessing (e.g. handling missing values, one-hot encoding for categorical variables, normalization...)"
      ],
      "execution_count": 0,
      "outputs": []
    },
    {
      "cell_type": "code",
      "metadata": {
        "id": "1cn8HKNh-RGZ",
        "colab_type": "code",
        "colab": {}
      },
      "source": [
        "# TODO:looking output (dependent) variable  (e.g. box-ploting, histogram)\n"
      ],
      "execution_count": 0,
      "outputs": []
    },
    {
      "cell_type": "code",
      "metadata": {
        "id": "xP45Bkls-RGb",
        "colab_type": "code",
        "colab": {}
      },
      "source": [
        "#TODO: looking for correlations (use pairplot)\n"
      ],
      "execution_count": 0,
      "outputs": []
    },
    {
      "cell_type": "code",
      "metadata": {
        "id": "fyz9D3UI-RGe",
        "colab_type": "code",
        "colab": {}
      },
      "source": [
        "# TODO: feature selection (you can also choose any two features which are correlated in output variable )\n",
        "\n",
        "features = ['AtBat', 'CRuns']"
      ],
      "execution_count": 0,
      "outputs": []
    },
    {
      "cell_type": "markdown",
      "metadata": {
        "id": "PejARSBl-RGg",
        "colab_type": "text"
      },
      "source": [
        "Describe your opinions after EDA "
      ]
    },
    {
      "cell_type": "markdown",
      "metadata": {
        "id": "Xn75rSWB-RGh",
        "colab_type": "text"
      },
      "source": [
        "## 2. Training data generation - train/test split"
      ]
    },
    {
      "cell_type": "code",
      "metadata": {
        "id": "dzKFC0zj-RGi",
        "colab_type": "code",
        "colab": {}
      },
      "source": [
        "from sklearn.model_selection import train_test_split\n",
        "X = data[features]\n",
        "y = np.array([int(i > 425) for i in data[output]])\n",
        "X_train, X_test, y_train, y_test = train_test_split(X, y, test_size=0.2, random_state=1008)"
      ],
      "execution_count": 0,
      "outputs": []
    },
    {
      "cell_type": "markdown",
      "metadata": {
        "id": "Yll41_p--RGk",
        "colab_type": "text"
      },
      "source": [
        "## 3. KNN model tuning (regarding model flexibility)"
      ]
    },
    {
      "cell_type": "markdown",
      "metadata": {
        "id": "i4OmY9uT-RGl",
        "colab_type": "text"
      },
      "source": [
        "Here is a function to plot K-Nearest Neighbors.\n",
        "\n",
        "You can invoke the function with 3 mandatory parameters:\n",
        "\n",
        "- n_neighbors : number of neighbors which is reated to the model plexibility\n",
        "- predictor_1: name of feature which will be shown in x-axis\n",
        "- predictor_2: name of feature which will be shown in y-axis"
      ]
    },
    {
      "cell_type": "code",
      "metadata": {
        "id": "wHryd0D4-RGm",
        "colab_type": "code",
        "colab": {}
      },
      "source": [
        "def knnclassifier(n_neighbors, predictor_1, predictor_2, X=X, y=y, X_test=X_test, y_test=y_test):\n",
        "    \n",
        "    clf = neighbors.KNeighborsClassifier(n_neighbors)\n",
        "    clf.fit(X, y)\n",
        "    y_pred = clf.predict(X)\n",
        "\n",
        "    h = 0.5\n",
        "\n",
        "    cmap_light = ListedColormap(['#FFAAAA', '#AAFFAA'])\n",
        "    cmap_bold = ListedColormap(['#FF0000', '#00FF00'])\n",
        "    cmap = ListedColormap(['magenta', 'darkblue'])\n",
        "\n",
        "    x_min, x_max = X[predictor_1].min() - 1, X[predictor_1].max() + 1\n",
        "    y_min, y_max = X[predictor_2].min() - 1, X[predictor_2].max() + 1\n",
        "    xx, yy = np.meshgrid(np.arange(x_min, x_max, h), np.arange(y_min, y_max, h))\n",
        "    Z = clf.predict(np.c_[xx.ravel(), yy.ravel()]).reshape(xx.shape)\n",
        "\n",
        "    score = clf.score(data[[predictor_1, predictor_2]].iloc[:10], \n",
        "                      np.array([int(i > 425) for i in data['Salary'].iloc[:10]]))\n",
        "    \n",
        "    plt.figure(figsize=(10, 6))\n",
        "    plt.pcolormesh(xx, yy, Z, cmap=cmap_light)\n",
        "    plt.scatter(X[predictor_1], X[predictor_2], c=y, cmap=cmap_bold, s=10, label='Train')\n",
        "    plt.scatter(X_test[predictor_1], X_test[predictor_2], c=y_test, cmap=cmap, s=25, marker='x', label='Test')\n",
        "    plt.title('K=%i, Accuracy=%.2f' %(n_neighbors, score))\n",
        "    plt.xlim(xx.min(), xx.max())\n",
        "    plt.ylim(yy.min(), yy.max())\n",
        "    plt.xlabel(predictor_1)\n",
        "    plt.ylabel(predictor_2)\n",
        "    \n",
        "    plt.legend(loc='best')\n",
        "    plt.show()"
      ],
      "execution_count": 0,
      "outputs": []
    },
    {
      "cell_type": "code",
      "metadata": {
        "scrolled": false,
        "id": "Y4seCU6K-RGo",
        "colab_type": "code",
        "colab": {}
      },
      "source": [
        "# TODO: Show how the number of neighbors takes effect on the decision boundary. \n"
      ],
      "execution_count": 0,
      "outputs": []
    },
    {
      "cell_type": "markdown",
      "metadata": {
        "id": "XKGT2G85-RGr",
        "colab_type": "text"
      },
      "source": [
        "## 4. 5-fold Cross Validation"
      ]
    },
    {
      "cell_type": "code",
      "metadata": {
        "id": "TjsT0VMR-RGr",
        "colab_type": "code",
        "colab": {}
      },
      "source": [
        "from sklearn.model_selection import cross_val_score\n",
        "import numpy as np\n",
        "\n",
        "n_neighbors  = 1\n",
        "knn_cv = neighbors.KNeighborsClassifier(n_neighbors=n_neighbors)\n",
        "knn_cv.fit(X, y)\n",
        "\n",
        "cv_scores = cross_val_score(knn_cv, X, y, cv=5)\n",
        "\n",
        "print(\"k: {}, cv_scores mean:{}\".format(n_neighbors, np.mean(cv_scores)))\n",
        "print(knn_cv.score(X_test, y_test))"
      ],
      "execution_count": 0,
      "outputs": []
    },
    {
      "cell_type": "code",
      "metadata": {
        "id": "BkF0Ca2F-RGu",
        "colab_type": "code",
        "colab": {}
      },
      "source": [
        "#additional exercise: use of Grid search CV\n",
        "from sklearn.model_selection import GridSearchCV\n",
        "\n",
        "# TODO:invoke GridSearchCV to find the best n_neighbors"
      ],
      "execution_count": 0,
      "outputs": []
    },
    {
      "cell_type": "markdown",
      "metadata": {
        "id": "jF1xR0ld-RGw",
        "colab_type": "text"
      },
      "source": [
        "Describe how many the number of neighbors will be proper here"
      ]
    },
    {
      "cell_type": "markdown",
      "metadata": {
        "id": "GTlYYgQG-RGx",
        "colab_type": "text"
      },
      "source": [
        "## 5. Checking fitness of model"
      ]
    },
    {
      "cell_type": "code",
      "metadata": {
        "scrolled": true,
        "id": "C0iss2_w-RGy",
        "colab_type": "code",
        "colab": {}
      },
      "source": [
        "k = [] # list for number of neighbors\n",
        "acc = [] # test accuracies per each number of neighbors\n",
        "acc_train = [] # train accuracies per each number of neighbors\n",
        "\n",
        "# TODO: fill-in the values into above lists"
      ],
      "execution_count": 0,
      "outputs": []
    },
    {
      "cell_type": "code",
      "metadata": {
        "id": "Ix9NcDEL-RG0",
        "colab_type": "code",
        "colab": {}
      },
      "source": [
        "# TODO: plot here\n",
        "markers_on = [np.argmax(acc)]\n",
        "\n",
        "plt.figure(figsize=(10, 7))\n",
        "plt.plot(k, acc_train, label='Train')\n",
        "plt.plot(k, acc, '-gD', markevery=markers_on, c='orange', label='Test')\n",
        "plt.legend(fontsize=15)\n",
        "plt.xlabel('K', size=20)\n",
        "plt.ylabel('Accuracy', size=20)\n",
        "plt.show()"
      ],
      "execution_count": 0,
      "outputs": []
    },
    {
      "cell_type": "markdown",
      "metadata": {
        "id": "Dc6PpEmm-RG5",
        "colab_type": "text"
      },
      "source": [
        "Describe your answers here"
      ]
    },
    {
      "cell_type": "markdown",
      "metadata": {
        "id": "mynHB1KT-RG6",
        "colab_type": "text"
      },
      "source": [
        "## Summary"
      ]
    },
    {
      "cell_type": "code",
      "metadata": {
        "id": "7WAXVidm-RG7",
        "colab_type": "code",
        "colab": {}
      },
      "source": [
        "Describe overall comment here"
      ],
      "execution_count": 0,
      "outputs": []
    }
  ]
}