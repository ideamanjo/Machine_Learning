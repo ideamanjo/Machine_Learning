{
 "cells": [
  {
   "cell_type": "code",
   "execution_count": 1,
   "metadata": {},
   "outputs": [],
   "source": [
    "import skimage\n",
    "from skimage import measure\n",
    "from skimage.transform import radon\n",
    "from skimage.transform import probabilistic_hough_line\n",
    "from skimage import measure\n",
    "from scipy import interpolate\n",
    "from scipy import stats\n",
    "# %load ../standard_import.txt\n",
    "import pandas as pd\n",
    "import numpy as np\n",
    "import matplotlib.pyplot as plt\n",
    "import seaborn as sns\n",
    "from sklearn.preprocessing import label_binarize\n",
    "from sklearn.model_selection import train_test_split, GridSearchCV\n",
    "from sklearn.svm import SVC, LinearSVC\n",
    "from sklearn.discriminant_analysis import LinearDiscriminantAnalysis\n",
    "from sklearn.metrics import confusion_matrix, roc_curve, auc, classification_report\n",
    "import warnings\n",
    "warnings.filterwarnings('ignore')\n",
    "\n",
    "%matplotlib inline\n",
    "plt.style.use('seaborn-white')\n",
    "import sklearn.linear_model as skl_lm\n",
    "from sklearn.metrics import mean_squared_error\n",
    "from sklearn.model_selection import train_test_split, LeaveOneOut, KFold, cross_val_score\n",
    "from sklearn.preprocessing import PolynomialFeatures\n",
    "from matplotlib.colors import ListedColormap\n",
    "from sklearn import neighbors, datasets\n",
    "from sklearn.ensemble import RandomForestClassifier, RandomForestRegressor\n",
    "from sklearn.model_selection import train_test_split, GridSearchCV\n",
    "from sklearn.metrics import mean_squared_error,confusion_matrix, classification_report, roc_curve, auc, accuracy_score\n",
    "from sklearn.svm import SVC\n",
    "from sklearn.preprocessing import MinMaxScaler\n",
    "from sklearn.linear_model import LinearRegression, Ridge, RidgeCV, Lasso, LassoCV\n",
    "from sklearn.decomposition import PCA\n",
    "from sklearn.cross_decomposition import PLSRegression\n",
    "from sklearn.model_selection import KFold, cross_val_score\n",
    "from sklearn.preprocessing import scale \n",
    "from sklearn import model_selection\n",
    "from sklearn.metrics import mean_squared_error"
   ]
  },
  {
   "cell_type": "code",
   "execution_count": 2,
   "metadata": {},
   "outputs": [],
   "source": [
    "import pandas as pd\n",
    "import numpy as np\n",
    "import matplotlib.pyplot as plt\n",
    "import seaborn as sns\n",
    "\n",
    "from IPython.display import Image\n",
    "\n",
    "from sklearn.model_selection import train_test_split, cross_val_score\n",
    "from sklearn.externals.six import StringIO  \n",
    "from sklearn.tree import DecisionTreeRegressor, DecisionTreeClassifier, export_graphviz\n",
    "from sklearn.ensemble import BaggingClassifier, RandomForestClassifier, BaggingRegressor, RandomForestRegressor, GradientBoostingRegressor\n",
    "from sklearn.metrics import mean_squared_error,confusion_matrix, classification_report"
   ]
  },
  {
   "cell_type": "code",
   "execution_count": 3,
   "metadata": {},
   "outputs": [
    {
     "name": "stdout",
     "output_type": "stream",
     "text": [
      "<class 'pandas.core.frame.DataFrame'>\n",
      "RangeIndex: 811457 entries, 0 to 811456\n",
      "Data columns (total 6 columns):\n",
      "waferMap          811457 non-null object\n",
      "dieSize           811457 non-null float64\n",
      "lotName           811457 non-null object\n",
      "waferIndex        811457 non-null float64\n",
      "trianTestLabel    811457 non-null object\n",
      "failureType       811457 non-null object\n",
      "dtypes: float64(2), object(4)\n",
      "memory usage: 37.1+ MB\n"
     ]
    }
   ],
   "source": [
    "import pickle\n",
    "df=pd.read_pickle(\"./LSWMD.pkl\")\n",
    "df.info()"
   ]
  },
  {
   "cell_type": "code",
   "execution_count": 4,
   "metadata": {},
   "outputs": [],
   "source": [
    "#df = df.drop(['waferIndex'], axis = 1)"
   ]
  },
  {
   "cell_type": "code",
   "execution_count": 5,
   "metadata": {},
   "outputs": [
    {
     "data": {
      "text/html": [
       "<div>\n",
       "<style scoped>\n",
       "    .dataframe tbody tr th:only-of-type {\n",
       "        vertical-align: middle;\n",
       "    }\n",
       "\n",
       "    .dataframe tbody tr th {\n",
       "        vertical-align: top;\n",
       "    }\n",
       "\n",
       "    .dataframe thead th {\n",
       "        text-align: right;\n",
       "    }\n",
       "</style>\n",
       "<table border=\"1\" class=\"dataframe\">\n",
       "  <thead>\n",
       "    <tr style=\"text-align: right;\">\n",
       "      <th></th>\n",
       "      <th>waferMap</th>\n",
       "      <th>dieSize</th>\n",
       "      <th>lotName</th>\n",
       "      <th>waferIndex</th>\n",
       "      <th>trianTestLabel</th>\n",
       "      <th>failureType</th>\n",
       "      <th>waferMapDim</th>\n",
       "    </tr>\n",
       "  </thead>\n",
       "  <tbody>\n",
       "    <tr>\n",
       "      <th>681501</th>\n",
       "      <td>[[0, 0, 0, 0, 0, 0, 0, 0, 0, 0, 0, 0, 1, 1, 2,...</td>\n",
       "      <td>843.0</td>\n",
       "      <td>lot42270</td>\n",
       "      <td>25.0</td>\n",
       "      <td>[[Test]]</td>\n",
       "      <td>[[none]]</td>\n",
       "      <td>(35, 31)</td>\n",
       "    </tr>\n",
       "    <tr>\n",
       "      <th>719047</th>\n",
       "      <td>[[0, 0, 0, 0, 0, 0, 0, 0, 0, 0, 0, 0, 0, 0, 0,...</td>\n",
       "      <td>1256.0</td>\n",
       "      <td>lot43791</td>\n",
       "      <td>17.0</td>\n",
       "      <td>[[Test]]</td>\n",
       "      <td>[[none]]</td>\n",
       "      <td>(41, 40)</td>\n",
       "    </tr>\n",
       "    <tr>\n",
       "      <th>600450</th>\n",
       "      <td>[[0, 0, 0, 0, 0, 0, 0, 0, 0, 0, 0, 0, 0, 0, 0,...</td>\n",
       "      <td>1513.0</td>\n",
       "      <td>lot37733</td>\n",
       "      <td>9.0</td>\n",
       "      <td>[]</td>\n",
       "      <td>[]</td>\n",
       "      <td>(49, 39)</td>\n",
       "    </tr>\n",
       "    <tr>\n",
       "      <th>437445</th>\n",
       "      <td>[[0, 0, 0, 0, 0, 0, 0, 0, 0, 0, 0, 0, 0, 0, 0,...</td>\n",
       "      <td>1080.0</td>\n",
       "      <td>lot26448</td>\n",
       "      <td>17.0</td>\n",
       "      <td>[]</td>\n",
       "      <td>[]</td>\n",
       "      <td>(35, 40)</td>\n",
       "    </tr>\n",
       "    <tr>\n",
       "      <th>631481</th>\n",
       "      <td>[[0, 0, 0, 0, 0, 0, 0, 0, 0, 0, 0, 1, 1, 1, 1,...</td>\n",
       "      <td>515.0</td>\n",
       "      <td>lot39737</td>\n",
       "      <td>8.0</td>\n",
       "      <td>[]</td>\n",
       "      <td>[]</td>\n",
       "      <td>(25, 27)</td>\n",
       "    </tr>\n",
       "  </tbody>\n",
       "</table>\n",
       "</div>"
      ],
      "text/plain": [
       "                                                 waferMap  dieSize   lotName  \\\n",
       "681501  [[0, 0, 0, 0, 0, 0, 0, 0, 0, 0, 0, 0, 1, 1, 2,...    843.0  lot42270   \n",
       "719047  [[0, 0, 0, 0, 0, 0, 0, 0, 0, 0, 0, 0, 0, 0, 0,...   1256.0  lot43791   \n",
       "600450  [[0, 0, 0, 0, 0, 0, 0, 0, 0, 0, 0, 0, 0, 0, 0,...   1513.0  lot37733   \n",
       "437445  [[0, 0, 0, 0, 0, 0, 0, 0, 0, 0, 0, 0, 0, 0, 0,...   1080.0  lot26448   \n",
       "631481  [[0, 0, 0, 0, 0, 0, 0, 0, 0, 0, 0, 1, 1, 1, 1,...    515.0  lot39737   \n",
       "\n",
       "        waferIndex trianTestLabel failureType waferMapDim  \n",
       "681501        25.0       [[Test]]    [[none]]    (35, 31)  \n",
       "719047        17.0       [[Test]]    [[none]]    (41, 40)  \n",
       "600450         9.0             []          []    (49, 39)  \n",
       "437445        17.0             []          []    (35, 40)  \n",
       "631481         8.0             []          []    (25, 27)  "
      ]
     },
     "execution_count": 5,
     "metadata": {},
     "output_type": "execute_result"
    }
   ],
   "source": [
    "def find_dim(x):\n",
    "    dim0=np.size(x,axis=0)\n",
    "    dim1=np.size(x,axis=1)\n",
    "    return dim0,dim1\n",
    "df['waferMapDim']=df.waferMap.apply(find_dim)\n",
    "df.sample(5)"
   ]
  },
  {
   "cell_type": "code",
   "execution_count": 6,
   "metadata": {},
   "outputs": [],
   "source": [
    "df['failureNum']=df.failureType\n",
    "df['trainTestNum']=df.trianTestLabel\n",
    "mapping_type={'Center':0,'Donut':1,'Edge-Loc':2,'Edge-Ring':3,'Loc':4,'Random':5,'Scratch':6,'Near-full':7,'none':8}\n",
    "mapping_traintest={'Training':0,'Test':1}\n",
    "df=df.replace({'failureNum':mapping_type, 'trainTestNum':mapping_traintest})"
   ]
  },
  {
   "cell_type": "code",
   "execution_count": 7,
   "metadata": {},
   "outputs": [],
   "source": [
    "tol_wafers = df.shape[0]"
   ]
  },
  {
   "cell_type": "code",
   "execution_count": 8,
   "metadata": {},
   "outputs": [
    {
     "data": {
      "text/plain": [
       "(172950, 25519, 147431)"
      ]
     },
     "execution_count": 8,
     "metadata": {},
     "output_type": "execute_result"
    }
   ],
   "source": [
    "df_withlabel = df[(df['failureNum']>=0) & (df['failureNum']<=8)]\n",
    "df_withlabel =df_withlabel.reset_index()\n",
    "df_withpattern = df[(df['failureNum']>=0) & (df['failureNum']<=7)]\n",
    "df_withpattern = df_withpattern.reset_index()\n",
    "df_nonpattern = df[(df['failureNum']==8)]\n",
    "df_withlabel.shape[0], df_withpattern.shape[0], df_nonpattern.shape[0]"
   ]
  },
  {
   "cell_type": "code",
   "execution_count": 9,
   "metadata": {},
   "outputs": [
    {
     "data": {
      "text/html": [
       "<div>\n",
       "<style scoped>\n",
       "    .dataframe tbody tr th:only-of-type {\n",
       "        vertical-align: middle;\n",
       "    }\n",
       "\n",
       "    .dataframe tbody tr th {\n",
       "        vertical-align: top;\n",
       "    }\n",
       "\n",
       "    .dataframe thead th {\n",
       "        text-align: right;\n",
       "    }\n",
       "</style>\n",
       "<table border=\"1\" class=\"dataframe\">\n",
       "  <thead>\n",
       "    <tr style=\"text-align: right;\">\n",
       "      <th></th>\n",
       "      <th>waferMap</th>\n",
       "      <th>dieSize</th>\n",
       "      <th>lotName</th>\n",
       "      <th>waferIndex</th>\n",
       "      <th>trianTestLabel</th>\n",
       "      <th>failureType</th>\n",
       "      <th>waferMapDim</th>\n",
       "      <th>failureNum</th>\n",
       "      <th>trainTestNum</th>\n",
       "    </tr>\n",
       "  </thead>\n",
       "  <tbody>\n",
       "    <tr>\n",
       "      <th>0</th>\n",
       "      <td>[[0, 0, 0, 0, 0, 0, 0, 0, 0, 0, 0, 0, 0, 0, 0,...</td>\n",
       "      <td>1683.0</td>\n",
       "      <td>lot1</td>\n",
       "      <td>1.0</td>\n",
       "      <td>[[Training]]</td>\n",
       "      <td>[[none]]</td>\n",
       "      <td>(45, 48)</td>\n",
       "      <td>8</td>\n",
       "      <td>0</td>\n",
       "    </tr>\n",
       "    <tr>\n",
       "      <th>1</th>\n",
       "      <td>[[0, 0, 0, 0, 0, 0, 0, 0, 0, 0, 0, 0, 0, 0, 0,...</td>\n",
       "      <td>1683.0</td>\n",
       "      <td>lot1</td>\n",
       "      <td>2.0</td>\n",
       "      <td>[[Training]]</td>\n",
       "      <td>[[none]]</td>\n",
       "      <td>(45, 48)</td>\n",
       "      <td>8</td>\n",
       "      <td>0</td>\n",
       "    </tr>\n",
       "    <tr>\n",
       "      <th>2</th>\n",
       "      <td>[[0, 0, 0, 0, 0, 0, 0, 0, 0, 0, 0, 0, 0, 0, 0,...</td>\n",
       "      <td>1683.0</td>\n",
       "      <td>lot1</td>\n",
       "      <td>3.0</td>\n",
       "      <td>[[Training]]</td>\n",
       "      <td>[[none]]</td>\n",
       "      <td>(45, 48)</td>\n",
       "      <td>8</td>\n",
       "      <td>0</td>\n",
       "    </tr>\n",
       "    <tr>\n",
       "      <th>3</th>\n",
       "      <td>[[0, 0, 0, 0, 0, 0, 0, 0, 0, 0, 0, 0, 0, 0, 0,...</td>\n",
       "      <td>1683.0</td>\n",
       "      <td>lot1</td>\n",
       "      <td>4.0</td>\n",
       "      <td>[[Training]]</td>\n",
       "      <td>[[none]]</td>\n",
       "      <td>(45, 48)</td>\n",
       "      <td>8</td>\n",
       "      <td>0</td>\n",
       "    </tr>\n",
       "    <tr>\n",
       "      <th>4</th>\n",
       "      <td>[[0, 0, 0, 0, 0, 0, 0, 0, 0, 0, 0, 0, 0, 0, 0,...</td>\n",
       "      <td>1683.0</td>\n",
       "      <td>lot1</td>\n",
       "      <td>5.0</td>\n",
       "      <td>[[Training]]</td>\n",
       "      <td>[[none]]</td>\n",
       "      <td>(45, 48)</td>\n",
       "      <td>8</td>\n",
       "      <td>0</td>\n",
       "    </tr>\n",
       "    <tr>\n",
       "      <th>...</th>\n",
       "      <td>...</td>\n",
       "      <td>...</td>\n",
       "      <td>...</td>\n",
       "      <td>...</td>\n",
       "      <td>...</td>\n",
       "      <td>...</td>\n",
       "      <td>...</td>\n",
       "      <td>...</td>\n",
       "      <td>...</td>\n",
       "    </tr>\n",
       "    <tr>\n",
       "      <th>811452</th>\n",
       "      <td>[[0, 0, 0, 0, 0, 0, 0, 0, 0, 0, 0, 1, 2, 1, 1,...</td>\n",
       "      <td>600.0</td>\n",
       "      <td>lot47542</td>\n",
       "      <td>23.0</td>\n",
       "      <td>[[Test]]</td>\n",
       "      <td>[[Edge-Ring]]</td>\n",
       "      <td>(26, 30)</td>\n",
       "      <td>3</td>\n",
       "      <td>1</td>\n",
       "    </tr>\n",
       "    <tr>\n",
       "      <th>811453</th>\n",
       "      <td>[[0, 0, 0, 0, 0, 0, 0, 0, 0, 0, 0, 2, 2, 1, 1,...</td>\n",
       "      <td>600.0</td>\n",
       "      <td>lot47542</td>\n",
       "      <td>24.0</td>\n",
       "      <td>[[Test]]</td>\n",
       "      <td>[[Edge-Loc]]</td>\n",
       "      <td>(26, 30)</td>\n",
       "      <td>2</td>\n",
       "      <td>1</td>\n",
       "    </tr>\n",
       "    <tr>\n",
       "      <th>811454</th>\n",
       "      <td>[[0, 0, 0, 0, 0, 0, 0, 0, 0, 0, 0, 1, 2, 1, 1,...</td>\n",
       "      <td>600.0</td>\n",
       "      <td>lot47542</td>\n",
       "      <td>25.0</td>\n",
       "      <td>[[Test]]</td>\n",
       "      <td>[[Edge-Ring]]</td>\n",
       "      <td>(26, 30)</td>\n",
       "      <td>3</td>\n",
       "      <td>1</td>\n",
       "    </tr>\n",
       "    <tr>\n",
       "      <th>811455</th>\n",
       "      <td>[[0, 0, 0, 0, 0, 0, 0, 0, 0, 0, 0, 1, 1, 1, 1,...</td>\n",
       "      <td>600.0</td>\n",
       "      <td>lot47543</td>\n",
       "      <td>1.0</td>\n",
       "      <td>[]</td>\n",
       "      <td>[]</td>\n",
       "      <td>(26, 30)</td>\n",
       "      <td>[]</td>\n",
       "      <td>[]</td>\n",
       "    </tr>\n",
       "    <tr>\n",
       "      <th>811456</th>\n",
       "      <td>[[0, 0, 0, 0, 0, 0, 0, 0, 0, 0, 0, 1, 2, 1, 1,...</td>\n",
       "      <td>600.0</td>\n",
       "      <td>lot47543</td>\n",
       "      <td>2.0</td>\n",
       "      <td>[]</td>\n",
       "      <td>[]</td>\n",
       "      <td>(26, 30)</td>\n",
       "      <td>[]</td>\n",
       "      <td>[]</td>\n",
       "    </tr>\n",
       "  </tbody>\n",
       "</table>\n",
       "<p>811457 rows × 9 columns</p>\n",
       "</div>"
      ],
      "text/plain": [
       "                                                 waferMap  dieSize   lotName  \\\n",
       "0       [[0, 0, 0, 0, 0, 0, 0, 0, 0, 0, 0, 0, 0, 0, 0,...   1683.0      lot1   \n",
       "1       [[0, 0, 0, 0, 0, 0, 0, 0, 0, 0, 0, 0, 0, 0, 0,...   1683.0      lot1   \n",
       "2       [[0, 0, 0, 0, 0, 0, 0, 0, 0, 0, 0, 0, 0, 0, 0,...   1683.0      lot1   \n",
       "3       [[0, 0, 0, 0, 0, 0, 0, 0, 0, 0, 0, 0, 0, 0, 0,...   1683.0      lot1   \n",
       "4       [[0, 0, 0, 0, 0, 0, 0, 0, 0, 0, 0, 0, 0, 0, 0,...   1683.0      lot1   \n",
       "...                                                   ...      ...       ...   \n",
       "811452  [[0, 0, 0, 0, 0, 0, 0, 0, 0, 0, 0, 1, 2, 1, 1,...    600.0  lot47542   \n",
       "811453  [[0, 0, 0, 0, 0, 0, 0, 0, 0, 0, 0, 2, 2, 1, 1,...    600.0  lot47542   \n",
       "811454  [[0, 0, 0, 0, 0, 0, 0, 0, 0, 0, 0, 1, 2, 1, 1,...    600.0  lot47542   \n",
       "811455  [[0, 0, 0, 0, 0, 0, 0, 0, 0, 0, 0, 1, 1, 1, 1,...    600.0  lot47543   \n",
       "811456  [[0, 0, 0, 0, 0, 0, 0, 0, 0, 0, 0, 1, 2, 1, 1,...    600.0  lot47543   \n",
       "\n",
       "        waferIndex trianTestLabel    failureType waferMapDim failureNum  \\\n",
       "0              1.0   [[Training]]       [[none]]    (45, 48)          8   \n",
       "1              2.0   [[Training]]       [[none]]    (45, 48)          8   \n",
       "2              3.0   [[Training]]       [[none]]    (45, 48)          8   \n",
       "3              4.0   [[Training]]       [[none]]    (45, 48)          8   \n",
       "4              5.0   [[Training]]       [[none]]    (45, 48)          8   \n",
       "...            ...            ...            ...         ...        ...   \n",
       "811452        23.0       [[Test]]  [[Edge-Ring]]    (26, 30)          3   \n",
       "811453        24.0       [[Test]]   [[Edge-Loc]]    (26, 30)          2   \n",
       "811454        25.0       [[Test]]  [[Edge-Ring]]    (26, 30)          3   \n",
       "811455         1.0             []             []    (26, 30)         []   \n",
       "811456         2.0             []             []    (26, 30)         []   \n",
       "\n",
       "       trainTestNum  \n",
       "0                 0  \n",
       "1                 0  \n",
       "2                 0  \n",
       "3                 0  \n",
       "4                 0  \n",
       "...             ...  \n",
       "811452            1  \n",
       "811453            1  \n",
       "811454            1  \n",
       "811455           []  \n",
       "811456           []  \n",
       "\n",
       "[811457 rows x 9 columns]"
      ]
     },
     "execution_count": 9,
     "metadata": {},
     "output_type": "execute_result"
    }
   ],
   "source": [
    "df"
   ]
  },
  {
   "cell_type": "code",
   "execution_count": 10,
   "metadata": {
    "scrolled": true
   },
   "outputs": [
    {
     "data": {
      "image/png": "[encoded data removed]",
      "text/plain": [
       "<Figure size 432x288 with 1 Axes>"
      ]
     },
     "metadata": {},
     "output_type": "display_data"
    }
   ],
   "source": [
    "an = np.linspace(0, 2*np.pi, 100)\n",
    "plt.plot(2.5*np.cos(an), 2.5*np.sin(an))\n",
    "plt.axis('equal')\n",
    "plt.axis([-4, 4, -4, 4])\n",
    "plt.plot([-2.5, 2.5], [1.5, 1.5])\n",
    "plt.plot([-2.5, 2.5], [0.5, 0.5 ])\n",
    "plt.plot([-2.5, 2.5], [-0.5, -0.5 ])\n",
    "plt.plot([-2.5, 2.5], [-1.5,-1.5 ])\n",
    "\n",
    "plt.plot([0.5, 0.5], [-2.5, 2.5])\n",
    "plt.plot([1.5, 1.5], [-2.5, 2.5])\n",
    "plt.plot([-0.5, -0.5], [-2.5, 2.5])\n",
    "plt.plot([-1.5, -1.5], [-2.5, 2.5])\n",
    "plt.title(\" Devide wafer map to 13 regions\")\n",
    "plt.xticks([])\n",
    "plt.yticks([])\n",
    "plt.show()"
   ]
  },
  {
   "cell_type": "code",
   "execution_count": 11,
   "metadata": {},
   "outputs": [],
   "source": [
    "from matplotlib import pyplot as plt\n",
    "import numpy as np\n",
    "\n",
    "def cal_den1(x):\n",
    "    return 100*(np.sum(x==2)/np.size(x))  \n",
    "\n",
    "def find_regions1(x):\n",
    "    rows=np.size(x,axis=0)\n",
    "    rows = rows/2\n",
    "    cols=np.size(x,axis=1)\n",
    "    cols = cols/2\n",
    "    ind3 = np.arange(rows/2+cols/2, (2 * np.pi*np.sqrt(1/2*(rows*rows + cols*cols))),rows//10)\n",
    "    ind3 = ind3.astype('int')\n",
    "    reg1 = x[ind3[0]:ind3[1]]\n",
    "    reg2 = x[ind3[1]:ind3[2]]\n",
    "    reg3 = x[ind3[2]:ind3[3]]\n",
    "    reg4 = x[ind3[3]:ind3[4]]\n",
    "    reg5 = x[ind3[4]:ind3[5]]                 \n",
    "    reg6 = x[ind3[5]:ind3[6]]                 \n",
    "    reg7 = x[ind3[6]:ind3[7]]                 \n",
    "    reg8 = x[ind3[7]:ind3[8]]                 \n",
    "    reg9 = x[ind3[8]:ind3[9]]                  \n",
    "             \n",
    "    fea_reg_den1 = []\n",
    "    fea_reg_den1 = [cal_den1(reg1),cal_den1(reg2),cal_den1(reg3),cal_den1(reg4),cal_den1(reg5),cal_den1(reg6),cal_den1(reg7),cal_den1(reg8),cal_den1(reg9)]\n",
    "    \n",
    "    return fea_reg_den1\n",
    "\n",
    "df_withpattern['fea_cir'] = df_withpattern.waferMap.apply(find_regions1)"
   ]
  },
  {
   "cell_type": "code",
   "execution_count": 12,
   "metadata": {},
   "outputs": [],
   "source": [
    "def cal_den(x):\n",
    "    return 100*(np.sum(x==2)/np.size(x))  \n",
    "\n",
    "def find_regions(x):\n",
    "    rows=np.size(x,axis=0)\n",
    "    cols=np.size(x,axis=1)\n",
    "    ind1=np.arange(0,rows,rows//5)\n",
    "    ind2=np.arange(0,cols,cols//5)\n",
    "\n",
    "   \n",
    "    reg1=x[ind1[0]:ind1[1],:]\n",
    "    reg3=x[ind1[4]:,:]\n",
    "    reg4=x[:,ind2[0]:ind2[1]]\n",
    "    reg2=x[:,ind2[4]:]\n",
    "\n",
    "\n",
    "    reg5=x[ind1[1]:ind1[2],ind2[1]:ind2[2]]\n",
    "    reg6=x[ind1[1]:ind1[2],ind2[2]:ind2[3]]\n",
    "    reg7=x[ind1[1]:ind1[2],ind2[3]:ind2[4]]\n",
    "    reg8=x[ind1[2]:ind1[3],ind2[1]:ind2[2]]\n",
    "    reg9=x[ind1[2]:ind1[3],ind2[2]:ind2[3]]\n",
    "    reg10=x[ind1[2]:ind1[3],ind2[3]:ind2[4]]\n",
    "    reg11=x[ind1[3]:ind1[4],ind2[1]:ind2[2]]\n",
    "    reg12=x[ind1[3]:ind1[4],ind2[2]:ind2[3]]\n",
    "    reg13=x[ind1[3]:ind1[4],ind2[3]:ind2[4]]\n",
    "    \n",
    "    fea_reg_den = []\n",
    "    fea_reg_den = [cal_den(reg1),cal_den(reg2),cal_den(reg3),cal_den(reg4),cal_den(reg5),cal_den(reg6),cal_den(reg7),cal_den(reg8),cal_den(reg9),cal_den(reg10),cal_den(reg11),cal_den(reg12),cal_den(reg13)]\n",
    "    return fea_reg_den\n",
    "\n",
    "\n"
   ]
  },
  {
   "cell_type": "code",
   "execution_count": 13,
   "metadata": {},
   "outputs": [],
   "source": [
    "df_withpattern['fea_reg']=df_withpattern.waferMap.apply(find_regions)"
   ]
  },
  {
   "cell_type": "code",
   "execution_count": 14,
   "metadata": {},
   "outputs": [],
   "source": [
    "def change_val(img):\n",
    "    img[img==1] =0  \n",
    "    return img\n",
    "\n",
    "df_withpattern_copy = df_withpattern.copy()\n",
    "df_withpattern_copy['new_waferMap'] =df_withpattern_copy.waferMap.apply(change_val)"
   ]
  },
  {
   "cell_type": "code",
   "execution_count": 15,
   "metadata": {},
   "outputs": [
    {
     "data": {
      "image/png": "[encoded data removed]",
      "text/plain": [
       "<Figure size 1440x720 with 8 Axes>"
      ]
     },
     "metadata": {
      "needs_background": "light"
     },
     "output_type": "display_data"
    }
   ],
   "source": [
    "x = [9,340, 3, 16, 0, 25, 84, 37]\n",
    "labels2 = ['Center','Donut','Edge-Loc','Edge-Ring','Loc','Random','Scratch','Near-full']\n",
    "\n",
    "fig, ax = plt.subplots(nrows = 2, ncols = 4, figsize=(20, 10))\n",
    "ax = ax.ravel(order='C')\n",
    "for i in range(8):\n",
    "    img = df_withpattern_copy.waferMap[x[i]]\n",
    "    theta = np.linspace(0., 180., max(img.shape), endpoint=False)\n",
    "    sinogram = radon(img, theta=theta)    \n",
    "      \n",
    "    ax[i].imshow(sinogram, cmap=plt.cm.Greys_r, extent=(0, 180, 0, sinogram.shape[0]), aspect='auto')\n",
    "    ax[i].set_title(df_withpattern_copy.failureType[x[i]][0][0],fontsize=15)\n",
    "    ax[i].set_xticks([])\n",
    "plt.tight_layout()\n",
    "\n",
    "plt.show() "
   ]
  },
  {
   "cell_type": "code",
   "execution_count": 16,
   "metadata": {},
   "outputs": [],
   "source": [
    "def cubic_inter_mean(img):\n",
    "    theta = np.linspace(0., 180., max(img.shape), endpoint=False)\n",
    "    sinogram = radon(img, theta=theta)\n",
    "    xMean_Row = np.mean(sinogram, axis = 1)\n",
    "    x = np.linspace(1, xMean_Row.size, xMean_Row.size)\n",
    "    y = xMean_Row\n",
    "    f = interpolate.interp1d(x, y, kind = 'cubic')\n",
    "    xnew = np.linspace(1, xMean_Row.size, 20)\n",
    "    ynew = f(xnew)/100   # use interpolation function returned by `interp1d`\n",
    "    return ynew\n",
    "\n",
    "def cubic_inter_std(img):\n",
    "    theta = np.linspace(0., 180., max(img.shape), endpoint=False)\n",
    "    sinogram = radon(img, theta=theta)\n",
    "    xStd_Row = np.std(sinogram, axis=1)\n",
    "    x = np.linspace(1, xStd_Row.size, xStd_Row.size)\n",
    "    y = xStd_Row\n",
    "    f = interpolate.interp1d(x, y, kind = 'cubic')\n",
    "    xnew = np.linspace(1, xStd_Row.size, 20)\n",
    "    ynew = f(xnew)/100   # use interpolation function returned by `interp1d`\n",
    "    return ynew  "
   ]
  },
  {
   "cell_type": "code",
   "execution_count": 17,
   "metadata": {},
   "outputs": [],
   "source": [
    "df_withpattern_copy['fea_cub_mean'] =df_withpattern_copy.waferMap.apply(cubic_inter_mean)\n",
    "df_withpattern_copy['fea_cub_std'] =df_withpattern_copy.waferMap.apply(cubic_inter_std)"
   ]
  },
  {
   "cell_type": "code",
   "execution_count": 18,
   "metadata": {},
   "outputs": [],
   "source": [
    "def cal_dist(img,x,y):\n",
    "    dim0=np.size(img,axis=0)    \n",
    "    dim1=np.size(img,axis=1)\n",
    "    dist = np.sqrt((x-dim0/2)**2+(y-dim1/2)**2)\n",
    "    return dist  \n",
    "\n",
    "def fea_geom(img):\n",
    "    norm_area=img.shape[0]*img.shape[1]\n",
    "    norm_perimeter=np.sqrt((img.shape[0])**2+(img.shape[1])**2)\n",
    "    \n",
    "    img_labels = measure.label(img, neighbors=4, connectivity=1, background=0)\n",
    "\n",
    "    if img_labels.max()==0:\n",
    "        img_labels[img_labels==0]=1\n",
    "        no_region = 0\n",
    "    else:\n",
    "        info_region = stats.mode(img_labels[img_labels>0], axis = None)\n",
    "        no_region = info_region[0][0]-1       \n",
    "    \n",
    "    prop = measure.regionprops(img_labels)\n",
    "    prop_area = prop[no_region].area/norm_area\n",
    "    prop_perimeter = prop[no_region].perimeter/norm_perimeter \n",
    "    \n",
    "    prop_cent = prop[no_region].local_centroid \n",
    "    prop_cent = cal_dist(img,prop_cent[0],prop_cent[1])\n",
    "    \n",
    "    prop_majaxis = prop[no_region].major_axis_length/norm_perimeter \n",
    "    prop_minaxis = prop[no_region].minor_axis_length/norm_perimeter  \n",
    "    prop_ecc = prop[no_region].eccentricity  \n",
    "    prop_solidity = prop[no_region].solidity  \n",
    "    \n",
    "    return prop_area,prop_perimeter,prop_majaxis,prop_minaxis,prop_ecc,prop_solidity\n",
    "\n",
    "df_withpattern_copy['fea_geom'] =df_withpattern_copy.waferMap.apply(fea_geom)"
   ]
  },
  {
   "cell_type": "code",
   "execution_count": 19,
   "metadata": {},
   "outputs": [],
   "source": [
    "df_all=df_withpattern_copy.copy()"
   ]
  },
  {
   "cell_type": "code",
   "execution_count": 20,
   "metadata": {},
   "outputs": [],
   "source": [
    "a = df_all.groupby('lotName').lotName.agg([('count', 'count')]).reset_index()"
   ]
  },
  {
   "cell_type": "code",
   "execution_count": 21,
   "metadata": {},
   "outputs": [],
   "source": [
    "df_all = pd.merge(df_all, a, how = 'inner', on = 'lotName' )"
   ]
  },
  {
   "cell_type": "code",
   "execution_count": 22,
   "metadata": {},
   "outputs": [],
   "source": [
    "#failer = pd.DataFrame({\"fail_list\":[[0.0204],[0.0513],[0.7621],[0.0102],[0.0167],[0.1248],[0],[0.0211],[0]],\"failureNum\":[0,1,2,3,4,5,6,7,8]})"
   ]
  },
  {
   "cell_type": "code",
   "execution_count": 23,
   "metadata": {},
   "outputs": [],
   "source": [
    "b = pd.read_csv(\"./failer.csv\")"
   ]
  },
  {
   "cell_type": "code",
   "execution_count": 24,
   "metadata": {},
   "outputs": [
    {
     "data": {
      "text/html": [
       "<div>\n",
       "<style scoped>\n",
       "    .dataframe tbody tr th:only-of-type {\n",
       "        vertical-align: middle;\n",
       "    }\n",
       "\n",
       "    .dataframe tbody tr th {\n",
       "        vertical-align: top;\n",
       "    }\n",
       "\n",
       "    .dataframe thead th {\n",
       "        text-align: right;\n",
       "    }\n",
       "</style>\n",
       "<table border=\"1\" class=\"dataframe\">\n",
       "  <thead>\n",
       "    <tr style=\"text-align: right;\">\n",
       "      <th></th>\n",
       "      <th>failureNum</th>\n",
       "      <th>fail_all</th>\n",
       "      <th>fail_etc</th>\n",
       "      <th>fail_only</th>\n",
       "      <th>fail_cycle</th>\n",
       "    </tr>\n",
       "  </thead>\n",
       "  <tbody>\n",
       "    <tr>\n",
       "      <th>0</th>\n",
       "      <td>0</td>\n",
       "      <td>0.0023</td>\n",
       "      <td>0.3093</td>\n",
       "      <td>0.1626</td>\n",
       "      <td>0.0769</td>\n",
       "    </tr>\n",
       "    <tr>\n",
       "      <th>1</th>\n",
       "      <td>1</td>\n",
       "      <td>0.0029</td>\n",
       "      <td>0.0421</td>\n",
       "      <td>0.0161</td>\n",
       "      <td>0.0440</td>\n",
       "    </tr>\n",
       "    <tr>\n",
       "      <th>2</th>\n",
       "      <td>2</td>\n",
       "      <td>0.0073</td>\n",
       "      <td>0.2258</td>\n",
       "      <td>0.3339</td>\n",
       "      <td>0.4725</td>\n",
       "    </tr>\n",
       "    <tr>\n",
       "      <th>3</th>\n",
       "      <td>3</td>\n",
       "      <td>0.9728</td>\n",
       "      <td>0.2071</td>\n",
       "      <td>0.0745</td>\n",
       "      <td>0.2747</td>\n",
       "    </tr>\n",
       "    <tr>\n",
       "      <th>4</th>\n",
       "      <td>4</td>\n",
       "      <td>0.0040</td>\n",
       "      <td>0.1430</td>\n",
       "      <td>0.2494</td>\n",
       "      <td>0.1319</td>\n",
       "    </tr>\n",
       "    <tr>\n",
       "      <th>5</th>\n",
       "      <td>5</td>\n",
       "      <td>0.0003</td>\n",
       "      <td>0.0030</td>\n",
       "      <td>0.0133</td>\n",
       "      <td>0.0000</td>\n",
       "    </tr>\n",
       "    <tr>\n",
       "      <th>6</th>\n",
       "      <td>6</td>\n",
       "      <td>0.0104</td>\n",
       "      <td>0.0460</td>\n",
       "      <td>0.0415</td>\n",
       "      <td>0.0000</td>\n",
       "    </tr>\n",
       "    <tr>\n",
       "      <th>7</th>\n",
       "      <td>7</td>\n",
       "      <td>0.0000</td>\n",
       "      <td>0.0238</td>\n",
       "      <td>0.1086</td>\n",
       "      <td>0.0000</td>\n",
       "    </tr>\n",
       "    <tr>\n",
       "      <th>8</th>\n",
       "      <td>8</td>\n",
       "      <td>0.0000</td>\n",
       "      <td>0.0000</td>\n",
       "      <td>0.0000</td>\n",
       "      <td>0.0000</td>\n",
       "    </tr>\n",
       "  </tbody>\n",
       "</table>\n",
       "</div>"
      ],
      "text/plain": [
       "   failureNum  fail_all  fail_etc  fail_only  fail_cycle\n",
       "0           0    0.0023    0.3093     0.1626      0.0769\n",
       "1           1    0.0029    0.0421     0.0161      0.0440\n",
       "2           2    0.0073    0.2258     0.3339      0.4725\n",
       "3           3    0.9728    0.2071     0.0745      0.2747\n",
       "4           4    0.0040    0.1430     0.2494      0.1319\n",
       "5           5    0.0003    0.0030     0.0133      0.0000\n",
       "6           6    0.0104    0.0460     0.0415      0.0000\n",
       "7           7    0.0000    0.0238     0.1086      0.0000\n",
       "8           8    0.0000    0.0000     0.0000      0.0000"
      ]
     },
     "execution_count": 24,
     "metadata": {},
     "output_type": "execute_result"
    }
   ],
   "source": [
    "b"
   ]
  },
  {
   "cell_type": "code",
   "execution_count": 25,
   "metadata": {},
   "outputs": [],
   "source": [
    "df_all = pd.merge(b, df_all, how = 'inner', on = 'failureNum' )"
   ]
  },
  {
   "cell_type": "code",
   "execution_count": 26,
   "metadata": {},
   "outputs": [],
   "source": [
    "#failer = pd.DataFrame({\"fail_list\":[[0.0023,0.3093,0.1626,0.0769],[0.0029,0.0421,0.0161,0.044],[0.0073,0.2258,0.3339,0.4725],[0.9728,0.2071,0.0745,0.2747],[0.004,0.143,0.2494,0.1319],[0.0003,0.003,0.0133,0],[0.0104,0.046,0.0415,0],[0,0.0238,0.1086,0],[0,0,0,0]],\"failureNum\":[0,1,2,3,4,5,6,7,8]})"
   ]
  },
  {
   "cell_type": "code",
   "execution_count": 27,
   "metadata": {},
   "outputs": [],
   "source": [
    "#df_all = pd.merge(failer, df_all, how = 'inner', on = 'failureNum' )"
   ]
  },
  {
   "cell_type": "code",
   "execution_count": 28,
   "metadata": {},
   "outputs": [],
   "source": [
    "result = []\n",
    "for i in df_all.index:\n",
    "    a = [(x)*df_all.fail_all[i]/(26-df_all['count'][i]) for x in  df_all.fea_cir[i]]\n",
    "    \n",
    "    result.append(a)\n",
    "df_all[\"fail_list_all\"] = result      "
   ]
  },
  {
   "cell_type": "code",
   "execution_count": 29,
   "metadata": {},
   "outputs": [],
   "source": [
    "result_a = []\n",
    "for i in df_all.index:\n",
    "    b = [(x)*df_all.fail_cycle[i]/(26-df_all['count'][i]) for x in  df_all.fea_reg[i]]\n",
    "    \n",
    "    result_a.append(b)\n",
    "df_all[\"fail_list_cycle\"] = result_a    "
   ]
  },
  {
   "cell_type": "code",
   "execution_count": 30,
   "metadata": {},
   "outputs": [],
   "source": [
    "df_all_train = df_all[df_all.trianTestLabel == 'Training'].reset_index(drop=True)\n",
    "df_all_test = df_all[df_all.trianTestLabel == 'Test'].reset_index(drop=True)"
   ]
  },
  {
   "cell_type": "code",
   "execution_count": 31,
   "metadata": {},
   "outputs": [
    {
     "data": {
      "text/plain": [
       "17625"
      ]
     },
     "execution_count": 31,
     "metadata": {},
     "output_type": "execute_result"
    }
   ],
   "source": [
    "len(df_all_train)"
   ]
  },
  {
   "cell_type": "code",
   "execution_count": 32,
   "metadata": {},
   "outputs": [
    {
     "data": {
      "text/plain": [
       "7894"
      ]
     },
     "execution_count": 32,
     "metadata": {},
     "output_type": "execute_result"
    }
   ],
   "source": [
    "len(df_all_test)"
   ]
  },
  {
   "cell_type": "code",
   "execution_count": 33,
   "metadata": {},
   "outputs": [],
   "source": [
    "a=[df_all_train.fea_reg[i] for i in df_all_train.index] #13\n",
    "b=[df_all_train.fea_cub_mean[i] for i in df_all_train.index] #20\n",
    "c=[df_all_train.fea_cub_std[i] for i in df_all_train.index] #20\n",
    "d=[df_all_train.fea_geom[i] for i in df_all_train.index] #6\n",
    "e=[df_all_train.fail_list_all[i] for i in df_all_train.index] \n",
    "k=[df_all_train.fail_list_cycle[i] for i in df_all_train.index] \n",
    "#fea_all_train = np.concatenate((np.array(a),np.array(b),np.array(c),np.array(d),np.array(e),np.array(k)),axis=1)#63 in total\n",
    "#fea_all_train = np.concatenate((np.array(a),np.array(b),np.array(c),np.array(k)),axis=1)#63 in total\n",
    "fea_all_train = np.concatenate((np.array(b),np.array(c),np.array(e),np.array(k)),axis=1)#63 in total\n",
    "\n",
    "f=[df_all_test.fea_reg[i] for i in df_all_test.index] #13\n",
    "g=[df_all_test.fea_cub_mean[i] for i in df_all_test.index] #20\n",
    "h=[df_all_test.fea_cub_std[i] for i in df_all_test.index] #20\n",
    "i=[df_all_test.fea_geom[i] for i in df_all_test.index] #6\n",
    "j=[df_all_test.fail_list_all[i] for i in df_all_test.index] \n",
    "l=[df_all_test.fail_list_cycle[i] for i in df_all_test.index] \n",
    "#fea_all_test = np.concatenate((np.array(f),np.array(g),np.array(h),np.array(i),np.array(j),np.array(l)),axis=1)#63 in total\n",
    "#fea_all_test = np.concatenate((np.array(f),np.array(g),np.array(h),np.array(l)),axis=1)#63 in total\n",
    "fea_all_test = np.concatenate((np.array(g),np.array(h),np.array(j),np.array(l)),axis=1)#63 in total"
   ]
  },
  {
   "cell_type": "code",
   "execution_count": 34,
   "metadata": {},
   "outputs": [],
   "source": [
    "label_train=[df_all_train.failureNum[i] for i in df_all_train.index]\n",
    "label_train=np.array(label_train)\n",
    "\n",
    "label_test=[df_all_test.failureNum[i] for i in df_all_test.index]\n",
    "label_test=np.array(label_test)\n",
    "\n",
    "#label=[df_all.failureNum[i] for i in df_all.index]\n",
    "#label=np.array(label)"
   ]
  },
  {
   "cell_type": "code",
   "execution_count": 35,
   "metadata": {},
   "outputs": [],
   "source": [
    "from sklearn.model_selection import train_test_split\n",
    "\n",
    "X_train = fea_all_train\n",
    "y_train = label_train\n",
    "X_test = fea_all_test\n",
    "y_test= label_test\n",
    "\n",
    "#from collections import  Counter\n",
    "#X_train, X_test, y_train, y_test = train_test_split(X, y, random_state=42)                      \n",
    "#print('Training target statistics: {}'.format(Counter(y_train)))\n",
    "#print('Testing target statistics: {}'.format(Counter(y_test)))\n",
    "\n",
    "#RANDOM_STATE =42"
   ]
  },
  {
   "cell_type": "code",
   "execution_count": 36,
   "metadata": {},
   "outputs": [
    {
     "name": "stdout",
     "output_type": "stream",
     "text": [
      "Requirement already satisfied: imblearn in ./miniconda3/envs/dm_env/lib/python3.7/site-packages (0.0)\n",
      "Requirement already satisfied: imbalanced-learn in ./miniconda3/envs/dm_env/lib/python3.7/site-packages (from imblearn) (0.5.0)\n",
      "Requirement already satisfied: scikit-learn>=0.21 in ./miniconda3/envs/dm_env/lib/python3.7/site-packages (from imbalanced-learn->imblearn) (0.21.3)\n",
      "Requirement already satisfied: joblib>=0.11 in ./miniconda3/envs/dm_env/lib/python3.7/site-packages (from imbalanced-learn->imblearn) (0.13.2)\n",
      "Requirement already satisfied: numpy>=1.11 in ./miniconda3/envs/dm_env/lib/python3.7/site-packages (from imbalanced-learn->imblearn) (1.17.3)\n",
      "Requirement already satisfied: scipy>=0.17 in ./miniconda3/envs/dm_env/lib/python3.7/site-packages (from imbalanced-learn->imblearn) (1.3.1)\n",
      "Note: you may need to restart the kernel to use updated packages.\n"
     ]
    }
   ],
   "source": [
    "pip install imblearn"
   ]
  },
  {
   "cell_type": "code",
   "execution_count": 37,
   "metadata": {},
   "outputs": [
    {
     "data": {
      "text/plain": [
       "'\\nfrom sklearn.datasets import make_classification\\nfrom sklearn.decomposition import PCA\\nfrom imblearn.over_sampling import SMOTE\\n\\n# 모델설정\\nsm = SMOTE(ratio=\\'auto\\', kind=\\'regular\\')\\n\\n# train데이터를 넣어 복제함\\nX_resampled, y_resampled = sm.fit_sample(X_test,list(y_test))\\n\\nprint(\\'After OverSampling, the shape of train_X: {}\\'.format(X_resampled.shape))\\nprint(\\'After OverSampling, the shape of train_y: {} \\n\\'.format(X_resampled.shape))\\n\\nprint(\"After OverSampling, counts of label \\'1\\': {}\".format(sum(y_resampled==1)))\\nprint(\"After OverSampling, counts of label \\'0\\': {}\".format(sum(y_resampled==0)))\\n\\n'"
      ]
     },
     "execution_count": 37,
     "metadata": {},
     "output_type": "execute_result"
    }
   ],
   "source": [
    "\"\"\"\n",
    "from sklearn.datasets import make_classification\n",
    "from sklearn.decomposition import PCA\n",
    "from imblearn.over_sampling import SMOTE\n",
    "\n",
    "# 모델설정\n",
    "sm = SMOTE(ratio='auto', kind='regular')\n",
    "\n",
    "# train데이터를 넣어 복제함\n",
    "X_resampled, y_resampled = sm.fit_sample(X_test,list(y_test))\n",
    "\n",
    "print('After OverSampling, the shape of train_X: {}'.format(X_resampled.shape))\n",
    "print('After OverSampling, the shape of train_y: {} \\n'.format(X_resampled.shape))\n",
    "\n",
    "print(\"After OverSampling, counts of label '1': {}\".format(sum(y_resampled==1)))\n",
    "print(\"After OverSampling, counts of label '0': {}\".format(sum(y_resampled==0)))\n",
    "\n",
    "\"\"\""
   ]
  },
  {
   "cell_type": "code",
   "execution_count": 38,
   "metadata": {},
   "outputs": [],
   "source": [
    "#from collections import  Counter\n",
    "#X_train, X_test, y_train, y_test = train_test_split(X, y, random_state=42)                      \n",
    "#print('Training target statistics: {}'.format(Counter(y_train)))\n",
    "#print('Testing target statistics: {}'.format(Counter(y_test)))\n",
    "\n",
    "#RANDOM_STATE =42"
   ]
  },
  {
   "cell_type": "code",
   "execution_count": 39,
   "metadata": {},
   "outputs": [],
   "source": [
    "from sklearn.ensemble import VotingClassifier\n",
    "from sklearn.model_selection import GridSearchCV, StratifiedKFold\n",
    "k_fold = StratifiedKFold(n_splits = 5, shuffle = True, random_state = 0)"
   ]
  },
  {
   "cell_type": "code",
   "execution_count": 40,
   "metadata": {},
   "outputs": [],
   "source": [
    "X_train = np.nan_to_num(X_train)\n",
    "y_train = np.nan_to_num(y_train)\n",
    "X_test = np.nan_to_num(X_test)\n",
    "y_test = np.nan_to_num(y_test)"
   ]
  },
  {
   "cell_type": "code",
   "execution_count": null,
   "metadata": {},
   "outputs": [],
   "source": []
  },
  {
   "cell_type": "code",
   "execution_count": null,
   "metadata": {},
   "outputs": [],
   "source": []
  },
  {
   "cell_type": "code",
   "execution_count": 41,
   "metadata": {},
   "outputs": [
    {
     "name": "stdout",
     "output_type": "stream",
     "text": [
      "Fitting 5 folds for each of 1 candidates, totalling 5 fits\n"
     ]
    },
    {
     "name": "stderr",
     "output_type": "stream",
     "text": [
      "[Parallel(n_jobs=1)]: Using backend SequentialBackend with 1 concurrent workers.\n",
      "[Parallel(n_jobs=1)]: Done   5 out of   5 | elapsed:    2.5s finished\n"
     ]
    },
    {
     "data": {
      "text/plain": [
       "0.9869503546099291"
      ]
     },
     "execution_count": 41,
     "metadata": {},
     "output_type": "execute_result"
    }
   ],
   "source": [
    "from sklearn.ensemble import RandomForestClassifier\n",
    "RFC = RandomForestClassifier()\n",
    "rf_param_grid = {\"criterion\":[\"gini\"]}\n",
    "gsRFC = GridSearchCV(RFC, rf_param_grid, cv=k_fold, scoring=\"accuracy\",verbose=1)\n",
    "gsRFC.fit(X_train, y_train)\n",
    "RFC_best = gsRFC.best_estimator_\n",
    "gsRFC.best_score_"
   ]
  },
  {
   "cell_type": "code",
   "execution_count": 42,
   "metadata": {},
   "outputs": [
    {
     "name": "stdout",
     "output_type": "stream",
     "text": [
      "accuracy : 0.9184190524448949\n"
     ]
    }
   ],
   "source": [
    "prediction = gsRFC.predict(X_test)\n",
    "print('accuracy :' , accuracy_score(prediction, y_test))"
   ]
  },
  {
   "cell_type": "code",
   "execution_count": 43,
   "metadata": {},
   "outputs": [
    {
     "name": "stdout",
     "output_type": "stream",
     "text": [
      "Fitting 5 folds for each of 1 candidates, totalling 5 fits\n"
     ]
    },
    {
     "name": "stderr",
     "output_type": "stream",
     "text": [
      "[Parallel(n_jobs=4)]: Using backend LokyBackend with 4 concurrent workers.\n",
      "[Parallel(n_jobs=4)]: Done   5 out of   5 | elapsed:  1.4min finished\n"
     ]
    },
    {
     "data": {
      "text/plain": [
       "0.9889361702127659"
      ]
     },
     "execution_count": 43,
     "metadata": {},
     "output_type": "execute_result"
    }
   ],
   "source": [
    "from sklearn.ensemble import GradientBoostingClassifier\n",
    "GBC = GradientBoostingClassifier()\n",
    "\n",
    "gb_param_grid = { \"learning_rate\":[0.1],\n",
    "                 }\n",
    "gsGBC = GridSearchCV(GBC, param_grid=gb_param_grid, cv=k_fold, scoring=\"accuracy\",n_jobs=4,verbose=1)\n",
    "gsGBC.fit(X_train, y_train)\n",
    "GBC_best = gsGBC.best_estimator_\n",
    "gsGBC.best_score_"
   ]
  },
  {
   "cell_type": "code",
   "execution_count": 44,
   "metadata": {},
   "outputs": [
    {
     "name": "stdout",
     "output_type": "stream",
     "text": [
      "accuracy : 0.9310869014441348\n"
     ]
    }
   ],
   "source": [
    "prediction = gsGBC.predict(X_test)\n",
    "print('accuracy :' , accuracy_score(prediction, y_test))"
   ]
  },
  {
   "cell_type": "code",
   "execution_count": 45,
   "metadata": {},
   "outputs": [
    {
     "name": "stdout",
     "output_type": "stream",
     "text": [
      "Fitting 5 folds for each of 1 candidates, totalling 5 fits\n"
     ]
    },
    {
     "name": "stderr",
     "output_type": "stream",
     "text": [
      "[Parallel(n_jobs=4)]: Using backend LokyBackend with 4 concurrent workers.\n",
      "[Parallel(n_jobs=4)]: Done   5 out of   5 | elapsed:   10.7s finished\n"
     ]
    },
    {
     "data": {
      "text/plain": [
       "0.16692198581560283"
      ]
     },
     "execution_count": 45,
     "metadata": {},
     "output_type": "execute_result"
    }
   ],
   "source": [
    "from sklearn.ensemble import AdaBoostClassifier\n",
    "ABC = AdaBoostClassifier()\n",
    "ab_param_grid = { \"learning_rate\":[0.1],\n",
    "                 }\n",
    "gsABC = GridSearchCV(ABC, param_grid=ab_param_grid, cv=k_fold, scoring=\"accuracy\",n_jobs=4,verbose=1)\n",
    "gsABC.fit(X_train, y_train)\n",
    "ABC_best = gsRFC.best_estimator_\n",
    "gsABC.best_score_"
   ]
  },
  {
   "cell_type": "code",
   "execution_count": 46,
   "metadata": {},
   "outputs": [
    {
     "name": "stdout",
     "output_type": "stream",
     "text": [
      "accuracy : 0.9184190524448949\n"
     ]
    }
   ],
   "source": [
    "prediction = gsRFC.predict(X_test)\n",
    "print('accuracy :' , accuracy_score(prediction, y_test))"
   ]
  },
  {
   "cell_type": "code",
   "execution_count": 47,
   "metadata": {},
   "outputs": [
    {
     "data": {
      "text/plain": [
       "0.9830921985815603"
      ]
     },
     "execution_count": 47,
     "metadata": {},
     "output_type": "execute_result"
    }
   ],
   "source": [
    "from sklearn.linear_model import LogisticRegression\n",
    "param_grid = {'C': [50, 150] }\n",
    "gsLR = GridSearchCV(LogisticRegression(penalty='l2'), param_grid=param_grid,cv=k_fold,  scoring=\"accuracy\")\n",
    "gsLR.fit(X_train, y_train)\n",
    "LR_best = gsLR.best_estimator_\n",
    "gsLR.best_score_"
   ]
  },
  {
   "cell_type": "code",
   "execution_count": 48,
   "metadata": {},
   "outputs": [
    {
     "name": "stdout",
     "output_type": "stream",
     "text": [
      "accuracy : 0.9174056245249557\n"
     ]
    }
   ],
   "source": [
    "prediction = gsLR.predict(X_test)\n",
    "print('accuracy :' , accuracy_score(prediction, y_test))"
   ]
  },
  {
   "cell_type": "code",
   "execution_count": 49,
   "metadata": {},
   "outputs": [
    {
     "name": "stdout",
     "output_type": "stream",
     "text": [
      "Fitting 5 folds for each of 1 candidates, totalling 5 fits\n"
     ]
    },
    {
     "name": "stderr",
     "output_type": "stream",
     "text": [
      "[Parallel(n_jobs=4)]: Using backend LokyBackend with 4 concurrent workers.\n",
      "[Parallel(n_jobs=4)]: Done   5 out of   5 | elapsed:  1.9min finished\n"
     ]
    },
    {
     "data": {
      "text/plain": [
       "0.7479716312056738"
      ]
     },
     "execution_count": 49,
     "metadata": {},
     "output_type": "execute_result"
    }
   ],
   "source": [
    "from sklearn.svm import SVC\n",
    "SVMC = SVC(probability=True)\n",
    "svc_param_grid = {'kernel':['rbf'], 'gamma':[0.001]}\n",
    "gsSVMC = GridSearchCV(SVMC,param_grid = svc_param_grid, cv = k_fold, scoring=\"accuracy\",n_jobs=4,verbose=1)\n",
    "gsSVMC.fit(X_train, y_train)\n",
    "SVMC_best = gsSVMC.best_estimator_\n",
    "gsSVMC.best_score_"
   ]
  },
  {
   "cell_type": "code",
   "execution_count": 50,
   "metadata": {},
   "outputs": [
    {
     "name": "stdout",
     "output_type": "stream",
     "text": [
      "accuracy : 0.3927033189764378\n"
     ]
    }
   ],
   "source": [
    "prediction = gsSVMC.predict(X_test)\n",
    "print('accuracy :' , accuracy_score(prediction, y_test))"
   ]
  },
  {
   "cell_type": "code",
   "execution_count": 51,
   "metadata": {},
   "outputs": [
    {
     "name": "stdout",
     "output_type": "stream",
     "text": [
      "Fitting 5 folds for each of 1 candidates, totalling 5 fits\n"
     ]
    },
    {
     "name": "stderr",
     "output_type": "stream",
     "text": [
      "[Parallel(n_jobs=1)]: Using backend SequentialBackend with 1 concurrent workers.\n",
      "[Parallel(n_jobs=1)]: Done   5 out of   5 | elapsed:  2.5min finished\n"
     ]
    },
    {
     "data": {
      "text/plain": [
       "0.9895602836879432"
      ]
     },
     "execution_count": 51,
     "metadata": {},
     "output_type": "execute_result"
    }
   ],
   "source": [
    "from xgboost.sklearn import  XGBClassifier\n",
    "XGBC = XGBClassifier()\n",
    "xgb_param_grid = {'learning_rate':[0.1]}\n",
    "gsXGBC = GridSearchCV(XGBC,param_grid=xgb_param_grid, cv=k_fold, scoring=\"accuracy\", n_jobs=1, verbose=1)\n",
    "\n",
    "gsXGBC.fit(X_train, y_train)\n",
    "XGBC_best = gsXGBC.best_estimator_\n",
    "gsXGBC.best_score_"
   ]
  },
  {
   "cell_type": "code",
   "execution_count": 52,
   "metadata": {},
   "outputs": [
    {
     "name": "stdout",
     "output_type": "stream",
     "text": [
      "accuracy : 0.9272865467443628\n"
     ]
    }
   ],
   "source": [
    "prediction = gsXGBC.predict(X_test)\n",
    "print('accuracy :' , accuracy_score(prediction, y_test))"
   ]
  },
  {
   "cell_type": "code",
   "execution_count": 53,
   "metadata": {
    "scrolled": true
   },
   "outputs": [
    {
     "data": {
      "text/plain": [
       "array([0, 0, 0, ..., 7, 7, 7])"
      ]
     },
     "execution_count": 53,
     "metadata": {},
     "output_type": "execute_result"
    }
   ],
   "source": [
    "votingC = VotingClassifier(estimators = [('rfc', RFC_best),('svc',SVMC_best),('gbc',GBC_best),('abc',ABC_best),('lr',LR_best),('xgb',XGBC_best)],voting='hard', n_jobs=4)\n",
    "\n",
    "votingC = votingC.fit(X_train, y_train)\n",
    "\n",
    "prediction = votingC.predict(X_test)\n",
    "prediction"
   ]
  },
  {
   "cell_type": "code",
   "execution_count": 54,
   "metadata": {},
   "outputs": [
    {
     "name": "stdout",
     "output_type": "stream",
     "text": [
      "accuracy : 0.9285533316442868\n"
     ]
    }
   ],
   "source": [
    "print('accuracy :' , accuracy_score(prediction, y_test))"
   ]
  },
  {
   "cell_type": "code",
   "execution_count": null,
   "metadata": {},
   "outputs": [],
   "source": []
  },
  {
   "cell_type": "code",
   "execution_count": null,
   "metadata": {},
   "outputs": [],
   "source": []
  },
  {
   "cell_type": "code",
   "execution_count": null,
   "metadata": {},
   "outputs": [],
   "source": []
  },
  {
   "cell_type": "code",
   "execution_count": 494,
   "metadata": {},
   "outputs": [],
   "source": [
    "df_all_test['prediction'] = prediction"
   ]
  },
  {
   "cell_type": "markdown",
   "metadata": {},
   "source": [
    "## lable과 pred틀린 case"
   ]
  },
  {
   "cell_type": "code",
   "execution_count": 495,
   "metadata": {},
   "outputs": [
    {
     "data": {
      "text/html": [
       "<div>\n",
       "<style scoped>\n",
       "    .dataframe tbody tr th:only-of-type {\n",
       "        vertical-align: middle;\n",
       "    }\n",
       "\n",
       "    .dataframe tbody tr th {\n",
       "        vertical-align: top;\n",
       "    }\n",
       "\n",
       "    .dataframe thead th {\n",
       "        text-align: right;\n",
       "    }\n",
       "</style>\n",
       "<table border=\"1\" class=\"dataframe\">\n",
       "  <thead>\n",
       "    <tr style=\"text-align: right;\">\n",
       "      <th></th>\n",
       "      <th>lotName</th>\n",
       "      <th>waferIndex</th>\n",
       "      <th>failureType</th>\n",
       "      <th>failureNum</th>\n",
       "      <th>prediction</th>\n",
       "    </tr>\n",
       "  </thead>\n",
       "  <tbody>\n",
       "    <tr>\n",
       "      <th>56</th>\n",
       "      <td>lot40797</td>\n",
       "      <td>23.0</td>\n",
       "      <td>[[Center]]</td>\n",
       "      <td>0</td>\n",
       "      <td>4</td>\n",
       "    </tr>\n",
       "    <tr>\n",
       "      <th>66</th>\n",
       "      <td>lot40909</td>\n",
       "      <td>19.0</td>\n",
       "      <td>[[Center]]</td>\n",
       "      <td>0</td>\n",
       "      <td>4</td>\n",
       "    </tr>\n",
       "    <tr>\n",
       "      <th>183</th>\n",
       "      <td>lot42675</td>\n",
       "      <td>9.0</td>\n",
       "      <td>[[Center]]</td>\n",
       "      <td>0</td>\n",
       "      <td>4</td>\n",
       "    </tr>\n",
       "    <tr>\n",
       "      <th>188</th>\n",
       "      <td>lot42709</td>\n",
       "      <td>21.0</td>\n",
       "      <td>[[Center]]</td>\n",
       "      <td>0</td>\n",
       "      <td>4</td>\n",
       "    </tr>\n",
       "    <tr>\n",
       "      <th>194</th>\n",
       "      <td>lot42724</td>\n",
       "      <td>15.0</td>\n",
       "      <td>[[Center]]</td>\n",
       "      <td>0</td>\n",
       "      <td>4</td>\n",
       "    </tr>\n",
       "    <tr>\n",
       "      <th>...</th>\n",
       "      <td>...</td>\n",
       "      <td>...</td>\n",
       "      <td>...</td>\n",
       "      <td>...</td>\n",
       "      <td>...</td>\n",
       "    </tr>\n",
       "    <tr>\n",
       "      <th>7808</th>\n",
       "      <td>lot40869</td>\n",
       "      <td>1.0</td>\n",
       "      <td>[[Near-full]]</td>\n",
       "      <td>7</td>\n",
       "      <td>5</td>\n",
       "    </tr>\n",
       "    <tr>\n",
       "      <th>7819</th>\n",
       "      <td>lot43599</td>\n",
       "      <td>24.0</td>\n",
       "      <td>[[Near-full]]</td>\n",
       "      <td>7</td>\n",
       "      <td>5</td>\n",
       "    </tr>\n",
       "    <tr>\n",
       "      <th>7848</th>\n",
       "      <td>lot44251</td>\n",
       "      <td>7.0</td>\n",
       "      <td>[[Near-full]]</td>\n",
       "      <td>7</td>\n",
       "      <td>5</td>\n",
       "    </tr>\n",
       "    <tr>\n",
       "      <th>7860</th>\n",
       "      <td>lot45425</td>\n",
       "      <td>23.0</td>\n",
       "      <td>[[Near-full]]</td>\n",
       "      <td>7</td>\n",
       "      <td>5</td>\n",
       "    </tr>\n",
       "    <tr>\n",
       "      <th>7881</th>\n",
       "      <td>lot47003</td>\n",
       "      <td>5.0</td>\n",
       "      <td>[[Near-full]]</td>\n",
       "      <td>7</td>\n",
       "      <td>5</td>\n",
       "    </tr>\n",
       "  </tbody>\n",
       "</table>\n",
       "<p>972 rows × 5 columns</p>\n",
       "</div>"
      ],
      "text/plain": [
       "       lotName  waferIndex    failureType failureNum  prediction\n",
       "56    lot40797        23.0     [[Center]]          0           4\n",
       "66    lot40909        19.0     [[Center]]          0           4\n",
       "183   lot42675         9.0     [[Center]]          0           4\n",
       "188   lot42709        21.0     [[Center]]          0           4\n",
       "194   lot42724        15.0     [[Center]]          0           4\n",
       "...        ...         ...            ...        ...         ...\n",
       "7808  lot40869         1.0  [[Near-full]]          7           5\n",
       "7819  lot43599        24.0  [[Near-full]]          7           5\n",
       "7848  lot44251         7.0  [[Near-full]]          7           5\n",
       "7860  lot45425        23.0  [[Near-full]]          7           5\n",
       "7881  lot47003         5.0  [[Near-full]]          7           5\n",
       "\n",
       "[972 rows x 5 columns]"
      ]
     },
     "execution_count": 495,
     "metadata": {},
     "output_type": "execute_result"
    }
   ],
   "source": [
    "result1 = df_all_test[df_all_test.failureNum != df_all_test.prediction][['lotName','waferIndex','failureType','failureNum', 'prediction']]\n",
    "#{'Center':0,'Donut':1,'Edge-Loc':2,'Edge-Ring':3,'Loc4,'Random':5,'Scratch':6,'Near-full':7,'none':8}\n",
    "result1"
   ]
  },
  {
   "cell_type": "code",
   "execution_count": 496,
   "metadata": {},
   "outputs": [
    {
     "ename": "KeyError",
     "evalue": "'Only a column name can be used for the key in a dtype mappings argument.'",
     "output_type": "error",
     "traceback": [
      "\u001b[0;31m---------------------------------------------------------------------------\u001b[0m",
      "\u001b[0;31mKeyError\u001b[0m                                  Traceback (most recent call last)",
      "\u001b[0;32m<ipython-input-496-5cf216260255>\u001b[0m in \u001b[0;36m<module>\u001b[0;34m\u001b[0m\n\u001b[0;32m----> 1\u001b[0;31m \u001b[0mresult1\u001b[0m\u001b[0;34m.\u001b[0m\u001b[0mastype\u001b[0m\u001b[0;34m(\u001b[0m\u001b[0;34m{\u001b[0m\u001b[0;34m'fail_pred'\u001b[0m \u001b[0;34m:\u001b[0m \u001b[0;34m'int'\u001b[0m\u001b[0;34m}\u001b[0m\u001b[0;34m)\u001b[0m\u001b[0;34m.\u001b[0m\u001b[0mdtypes\u001b[0m\u001b[0;34m\u001b[0m\u001b[0;34m\u001b[0m\u001b[0m\n\u001b[0m",
      "\u001b[0;32m~/miniconda3/envs/dm_env/lib/python3.7/site-packages/pandas/core/generic.py\u001b[0m in \u001b[0;36mastype\u001b[0;34m(self, dtype, copy, errors, **kwargs)\u001b[0m\n\u001b[1;32m   5855\u001b[0m                 \u001b[0;32mif\u001b[0m \u001b[0mcol_name\u001b[0m \u001b[0;32mnot\u001b[0m \u001b[0;32min\u001b[0m \u001b[0mself\u001b[0m\u001b[0;34m:\u001b[0m\u001b[0;34m\u001b[0m\u001b[0;34m\u001b[0m\u001b[0m\n\u001b[1;32m   5856\u001b[0m                     raise KeyError(\n\u001b[0;32m-> 5857\u001b[0;31m                         \u001b[0;34m\"Only a column name can be used for the \"\u001b[0m\u001b[0;34m\u001b[0m\u001b[0;34m\u001b[0m\u001b[0m\n\u001b[0m\u001b[1;32m   5858\u001b[0m                         \u001b[0;34m\"key in a dtype mappings argument.\"\u001b[0m\u001b[0;34m\u001b[0m\u001b[0;34m\u001b[0m\u001b[0m\n\u001b[1;32m   5859\u001b[0m                     )\n",
      "\u001b[0;31mKeyError\u001b[0m: 'Only a column name can be used for the key in a dtype mappings argument.'"
     ]
    }
   ],
   "source": [
    "result1.astype({'fail_pred' : 'int'}).dtypes"
   ]
  },
  {
   "cell_type": "code",
   "execution_count": 497,
   "metadata": {},
   "outputs": [],
   "source": [
    "result1['fail_pred'] = result1[['failureNum', 'prediction']].apply(lambda x: '&'.join(x.astype(str)), axis=1)"
   ]
  },
  {
   "cell_type": "code",
   "execution_count": 499,
   "metadata": {},
   "outputs": [
    {
     "data": {
      "text/html": [
       "<div>\n",
       "<style scoped>\n",
       "    .dataframe tbody tr th:only-of-type {\n",
       "        vertical-align: middle;\n",
       "    }\n",
       "\n",
       "    .dataframe tbody tr th {\n",
       "        vertical-align: top;\n",
       "    }\n",
       "\n",
       "    .dataframe thead th {\n",
       "        text-align: right;\n",
       "    }\n",
       "</style>\n",
       "<table border=\"1\" class=\"dataframe\">\n",
       "  <thead>\n",
       "    <tr style=\"text-align: right;\">\n",
       "      <th></th>\n",
       "      <th>lotName</th>\n",
       "      <th>waferIndex</th>\n",
       "      <th>failureType</th>\n",
       "      <th>failureNum</th>\n",
       "      <th>prediction</th>\n",
       "      <th>fail_pred</th>\n",
       "    </tr>\n",
       "  </thead>\n",
       "  <tbody>\n",
       "    <tr>\n",
       "      <th>56</th>\n",
       "      <td>lot40797</td>\n",
       "      <td>23.0</td>\n",
       "      <td>[[Center]]</td>\n",
       "      <td>0</td>\n",
       "      <td>4</td>\n",
       "      <td>0&amp;4</td>\n",
       "    </tr>\n",
       "    <tr>\n",
       "      <th>66</th>\n",
       "      <td>lot40909</td>\n",
       "      <td>19.0</td>\n",
       "      <td>[[Center]]</td>\n",
       "      <td>0</td>\n",
       "      <td>4</td>\n",
       "      <td>0&amp;4</td>\n",
       "    </tr>\n",
       "    <tr>\n",
       "      <th>183</th>\n",
       "      <td>lot42675</td>\n",
       "      <td>9.0</td>\n",
       "      <td>[[Center]]</td>\n",
       "      <td>0</td>\n",
       "      <td>4</td>\n",
       "      <td>0&amp;4</td>\n",
       "    </tr>\n",
       "    <tr>\n",
       "      <th>188</th>\n",
       "      <td>lot42709</td>\n",
       "      <td>21.0</td>\n",
       "      <td>[[Center]]</td>\n",
       "      <td>0</td>\n",
       "      <td>4</td>\n",
       "      <td>0&amp;4</td>\n",
       "    </tr>\n",
       "    <tr>\n",
       "      <th>194</th>\n",
       "      <td>lot42724</td>\n",
       "      <td>15.0</td>\n",
       "      <td>[[Center]]</td>\n",
       "      <td>0</td>\n",
       "      <td>4</td>\n",
       "      <td>0&amp;4</td>\n",
       "    </tr>\n",
       "    <tr>\n",
       "      <th>...</th>\n",
       "      <td>...</td>\n",
       "      <td>...</td>\n",
       "      <td>...</td>\n",
       "      <td>...</td>\n",
       "      <td>...</td>\n",
       "      <td>...</td>\n",
       "    </tr>\n",
       "    <tr>\n",
       "      <th>7808</th>\n",
       "      <td>lot40869</td>\n",
       "      <td>1.0</td>\n",
       "      <td>[[Near-full]]</td>\n",
       "      <td>7</td>\n",
       "      <td>5</td>\n",
       "      <td>7&amp;5</td>\n",
       "    </tr>\n",
       "    <tr>\n",
       "      <th>7819</th>\n",
       "      <td>lot43599</td>\n",
       "      <td>24.0</td>\n",
       "      <td>[[Near-full]]</td>\n",
       "      <td>7</td>\n",
       "      <td>5</td>\n",
       "      <td>7&amp;5</td>\n",
       "    </tr>\n",
       "    <tr>\n",
       "      <th>7848</th>\n",
       "      <td>lot44251</td>\n",
       "      <td>7.0</td>\n",
       "      <td>[[Near-full]]</td>\n",
       "      <td>7</td>\n",
       "      <td>5</td>\n",
       "      <td>7&amp;5</td>\n",
       "    </tr>\n",
       "    <tr>\n",
       "      <th>7860</th>\n",
       "      <td>lot45425</td>\n",
       "      <td>23.0</td>\n",
       "      <td>[[Near-full]]</td>\n",
       "      <td>7</td>\n",
       "      <td>5</td>\n",
       "      <td>7&amp;5</td>\n",
       "    </tr>\n",
       "    <tr>\n",
       "      <th>7881</th>\n",
       "      <td>lot47003</td>\n",
       "      <td>5.0</td>\n",
       "      <td>[[Near-full]]</td>\n",
       "      <td>7</td>\n",
       "      <td>5</td>\n",
       "      <td>7&amp;5</td>\n",
       "    </tr>\n",
       "  </tbody>\n",
       "</table>\n",
       "<p>972 rows × 6 columns</p>\n",
       "</div>"
      ],
      "text/plain": [
       "       lotName  waferIndex    failureType failureNum  prediction fail_pred\n",
       "56    lot40797        23.0     [[Center]]          0           4       0&4\n",
       "66    lot40909        19.0     [[Center]]          0           4       0&4\n",
       "183   lot42675         9.0     [[Center]]          0           4       0&4\n",
       "188   lot42709        21.0     [[Center]]          0           4       0&4\n",
       "194   lot42724        15.0     [[Center]]          0           4       0&4\n",
       "...        ...         ...            ...        ...         ...       ...\n",
       "7808  lot40869         1.0  [[Near-full]]          7           5       7&5\n",
       "7819  lot43599        24.0  [[Near-full]]          7           5       7&5\n",
       "7848  lot44251         7.0  [[Near-full]]          7           5       7&5\n",
       "7860  lot45425        23.0  [[Near-full]]          7           5       7&5\n",
       "7881  lot47003         5.0  [[Near-full]]          7           5       7&5\n",
       "\n",
       "[972 rows x 6 columns]"
      ]
     },
     "execution_count": 499,
     "metadata": {},
     "output_type": "execute_result"
    }
   ],
   "source": [
    "result1"
   ]
  },
  {
   "cell_type": "code",
   "execution_count": 500,
   "metadata": {},
   "outputs": [],
   "source": [
    "result1.to_csv(\"./result1.csv\")"
   ]
  },
  {
   "cell_type": "code",
   "execution_count": null,
   "metadata": {},
   "outputs": [],
   "source": []
  },
  {
   "cell_type": "code",
   "execution_count": null,
   "metadata": {},
   "outputs": [],
   "source": []
  },
  {
   "cell_type": "code",
   "execution_count": null,
   "metadata": {},
   "outputs": [],
   "source": []
  },
  {
   "cell_type": "code",
   "execution_count": null,
   "metadata": {},
   "outputs": [],
   "source": []
  },
  {
   "cell_type": "code",
   "execution_count": null,
   "metadata": {},
   "outputs": [],
   "source": []
  },
  {
   "cell_type": "markdown",
   "metadata": {},
   "source": [
    "## MLPClassifier"
   ]
  },
  {
   "cell_type": "code",
   "execution_count": 109,
   "metadata": {},
   "outputs": [
    {
     "name": "stdout",
     "output_type": "stream",
     "text": [
      "Iteration 1, loss = 2.11200952\n",
      "Iteration 2, loss = 1.36693321\n",
      "Iteration 3, loss = 1.23935769\n",
      "Iteration 4, loss = 1.16546828\n",
      "Iteration 5, loss = 1.10121796\n",
      "Iteration 6, loss = 1.04291262\n",
      "Iteration 7, loss = 0.98749377\n",
      "Iteration 8, loss = 0.93572528\n",
      "Iteration 9, loss = 0.88730814\n",
      "Iteration 10, loss = 0.84126473\n",
      "Iteration 11, loss = 0.79729622\n",
      "Iteration 12, loss = 0.75630872\n",
      "Iteration 13, loss = 0.71826008\n",
      "Iteration 14, loss = 0.68289296\n",
      "Iteration 15, loss = 0.64989483\n",
      "Iteration 16, loss = 0.61915569\n",
      "Iteration 17, loss = 0.59045467\n",
      "Iteration 18, loss = 0.56410771\n",
      "Iteration 19, loss = 0.53974161\n",
      "Iteration 20, loss = 0.51708597\n",
      "Iteration 21, loss = 0.49595855\n",
      "Iteration 22, loss = 0.47629748\n",
      "Iteration 23, loss = 0.45794416\n",
      "Iteration 24, loss = 0.44091042\n",
      "Iteration 25, loss = 0.42499337\n",
      "Iteration 26, loss = 0.40985098\n",
      "Iteration 27, loss = 0.39556545\n",
      "Iteration 28, loss = 0.38224316\n",
      "Iteration 29, loss = 0.36970336\n",
      "Iteration 30, loss = 0.35778761\n",
      "Iteration 31, loss = 0.34639864\n",
      "Iteration 32, loss = 0.33583613\n",
      "Iteration 33, loss = 0.32564910\n",
      "Iteration 34, loss = 0.31604084\n",
      "Iteration 35, loss = 0.30702901\n",
      "Iteration 36, loss = 0.29854014\n",
      "Iteration 37, loss = 0.29047059\n",
      "Iteration 38, loss = 0.28270382\n",
      "Iteration 39, loss = 0.27523544\n",
      "Iteration 40, loss = 0.26818810\n",
      "Iteration 41, loss = 0.26141245\n",
      "Iteration 42, loss = 0.25498386\n",
      "Iteration 43, loss = 0.24876314\n",
      "Iteration 44, loss = 0.24283793\n",
      "Iteration 45, loss = 0.23717172\n",
      "Iteration 46, loss = 0.23164944\n",
      "Iteration 47, loss = 0.22643333\n",
      "Iteration 48, loss = 0.22137253\n",
      "Iteration 49, loss = 0.21655847\n",
      "Iteration 50, loss = 0.21186450\n",
      "accuracy : 0.800988\n"
     ]
    }
   ],
   "source": [
    "import sklearn.datasets as datasets\n",
    "import sklearn.model_selection as model_selection\n",
    "import sklearn.neural_network as neural_network\n",
    "import sklearn.preprocessing as preprocessing\n",
    "\n",
    "\n",
    "mlpClassifier = neural_network.MLPClassifier(hidden_layer_sizes = (300, 300, 300), max_iter = 50, solver = \"sgd\", learning_rate_init = 0.01, verbose = True)\n",
    "mlpClassifier.fit(X_train, y_train)\n",
    "print(\"accuracy : %f\" % mlpClassifier.score(X_test, y_test))"
   ]
  },
  {
   "cell_type": "code",
   "execution_count": null,
   "metadata": {},
   "outputs": [],
   "source": []
  },
  {
   "cell_type": "code",
   "execution_count": null,
   "metadata": {},
   "outputs": [],
   "source": []
  },
  {
   "cell_type": "code",
   "execution_count": null,
   "metadata": {},
   "outputs": [],
   "source": []
  },
  {
   "cell_type": "code",
   "execution_count": null,
   "metadata": {},
   "outputs": [],
   "source": []
  },
  {
   "cell_type": "code",
   "execution_count": null,
   "metadata": {},
   "outputs": [],
   "source": []
  },
  {
   "cell_type": "code",
   "execution_count": 544,
   "metadata": {},
   "outputs": [],
   "source": [
    "df_withlabel1 = df[(df['trianTestLabel']!='Training') & (df['trianTestLabel']!='Test')]\n",
    "df_withlabel1 =df_withlabel1.reset_index()\n",
    "df_withpattern1 = df[(df['trianTestLabel']!='Training') & (df['trianTestLabel']!='Test')]\n",
    "df_withpattern1 = df_withpattern1.reset_index()\n",
    "#df_nonpattern1 = df[(df['failureNum']==8)]\n",
    "#df_withlabel1.shape[0], df_withpattern.shape[0], df_nonpattern.shape[0]"
   ]
  },
  {
   "cell_type": "code",
   "execution_count": 546,
   "metadata": {},
   "outputs": [],
   "source": [
    "def change_val(img):\n",
    "    img[img==1] =0  \n",
    "    return img\n",
    "\n",
    "df_withpattern_copy1 = df_withpattern1.copy()\n",
    "df_withpattern_copy1['new_waferMap'] =df_withpattern_copy1.waferMap.apply(change_val)"
   ]
  },
  {
   "cell_type": "code",
   "execution_count": 548,
   "metadata": {},
   "outputs": [],
   "source": [
    "def cubic_inter_mean(img):\n",
    "    theta = np.linspace(0., 180., max(img.shape), endpoint=False)\n",
    "    sinogram = radon(img, theta=theta)\n",
    "    xMean_Row = np.mean(sinogram, axis = 1)\n",
    "    x = np.linspace(1, xMean_Row.size, xMean_Row.size)\n",
    "    y = xMean_Row\n",
    "    f = interpolate.interp1d(x, y, kind = 'cubic')\n",
    "    xnew = np.linspace(1, xMean_Row.size, 20)\n",
    "    ynew = f(xnew)/100   # use interpolation function returned by `interp1d`\n",
    "    return ynew\n",
    "\n",
    "def cubic_inter_std(img):\n",
    "    theta = np.linspace(0., 180., max(img.shape), endpoint=False)\n",
    "    sinogram = radon(img, theta=theta)\n",
    "    xStd_Row = np.std(sinogram, axis=1)\n",
    "    x = np.linspace(1, xStd_Row.size, xStd_Row.size)\n",
    "    y = xStd_Row\n",
    "    f = interpolate.interp1d(x, y, kind = 'cubic')\n",
    "    xnew = np.linspace(1, xStd_Row.size, 20)\n",
    "    ynew = f(xnew)/100   # use interpolation function returned by `interp1d`\n",
    "    return ynew  "
   ]
  },
  {
   "cell_type": "code",
   "execution_count": 549,
   "metadata": {},
   "outputs": [],
   "source": [
    "df_withpattern_copy1['fea_cub_mean'] =df_withpattern_copy1.waferMap.apply(cubic_inter_mean)\n",
    "df_withpattern_copy1['fea_cub_std'] =df_withpattern_copy1.waferMap.apply(cubic_inter_std)"
   ]
  },
  {
   "cell_type": "code",
   "execution_count": 550,
   "metadata": {},
   "outputs": [],
   "source": [
    "def cal_dist(img,x,y):\n",
    "    dim0=np.size(img,axis=0)    \n",
    "    dim1=np.size(img,axis=1)\n",
    "    dist = np.sqrt((x-dim0/2)**2+(y-dim1/2)**2)\n",
    "    return dist  \n",
    "\n",
    "def fea_geom(img):\n",
    "    norm_area=img.shape[0]*img.shape[1]\n",
    "    norm_perimeter=np.sqrt((img.shape[0])**2+(img.shape[1])**2)\n",
    "    \n",
    "    img_labels = measure.label(img, neighbors=4, connectivity=1, background=0)\n",
    "\n",
    "    if img_labels.max()==0:\n",
    "        img_labels[img_labels==0]=1\n",
    "        no_region = 0\n",
    "    else:\n",
    "        info_region = stats.mode(img_labels[img_labels>0], axis = None)\n",
    "        no_region = info_region[0][0]-1       \n",
    "    \n",
    "    prop = measure.regionprops(img_labels)\n",
    "    prop_area = prop[no_region].area/norm_area\n",
    "    prop_perimeter = prop[no_region].perimeter/norm_perimeter \n",
    "    \n",
    "    prop_cent = prop[no_region].local_centroid \n",
    "    prop_cent = cal_dist(img,prop_cent[0],prop_cent[1])\n",
    "    \n",
    "    prop_majaxis = prop[no_region].major_axis_length/norm_perimeter \n",
    "    prop_minaxis = prop[no_region].minor_axis_length/norm_perimeter  \n",
    "    prop_ecc = prop[no_region].eccentricity  \n",
    "    prop_solidity = prop[no_region].solidity  \n",
    "    \n",
    "    return prop_area,prop_perimeter,prop_majaxis,prop_minaxis,prop_ecc,prop_solidity\n",
    "\n",
    "df_withpattern_copy1['fea_geom'] =df_withpattern_copy1.waferMap.apply(fea_geom)"
   ]
  },
  {
   "cell_type": "code",
   "execution_count": 551,
   "metadata": {},
   "outputs": [],
   "source": [
    "df_all1=df_withpattern_copy1.copy()"
   ]
  },
  {
   "cell_type": "code",
   "execution_count": 552,
   "metadata": {},
   "outputs": [],
   "source": [
    "a1 = df_all1.groupby('lotName').lotName.agg([('count', 'count')]).reset_index()"
   ]
  },
  {
   "cell_type": "code",
   "execution_count": 553,
   "metadata": {},
   "outputs": [],
   "source": [
    "df_all1 = pd.merge(df_all1, a1, how = 'inner', on = 'lotName' )"
   ]
  },
  {
   "cell_type": "code",
   "execution_count": 561,
   "metadata": {},
   "outputs": [],
   "source": [
    "def cal_den(x):\n",
    "    return 100*(np.sum(x==2)/np.size(x))  \n",
    "\n",
    "def find_regions(x):\n",
    "    rows=np.size(x,axis=0)\n",
    "    cols=np.size(x,axis=1)\n",
    "    ind1=np.arange(0,rows,rows//5)\n",
    "    ind2=np.arange(0,cols,cols//5)\n",
    "\n",
    "   \n",
    "    reg1=x[ind1[0]:ind1[1],:]\n",
    "    reg3=x[ind1[4]:,:]\n",
    "    reg4=x[:,ind2[0]:ind2[1]]\n",
    "    reg2=x[:,ind2[4]:]\n",
    "\n",
    "\n",
    "    reg5=x[ind1[1]:ind1[2],ind2[1]:ind2[2]]\n",
    "    reg6=x[ind1[1]:ind1[2],ind2[2]:ind2[3]]\n",
    "    reg7=x[ind1[1]:ind1[2],ind2[3]:ind2[4]]\n",
    "    reg8=x[ind1[2]:ind1[3],ind2[1]:ind2[2]]\n",
    "    reg9=x[ind1[2]:ind1[3],ind2[2]:ind2[3]]\n",
    "    reg10=x[ind1[2]:ind1[3],ind2[3]:ind2[4]]\n",
    "    reg11=x[ind1[3]:ind1[4],ind2[1]:ind2[2]]\n",
    "    reg12=x[ind1[3]:ind1[4],ind2[2]:ind2[3]]\n",
    "    reg13=x[ind1[3]:ind1[4],ind2[3]:ind2[4]]\n",
    "    \n",
    "    fea_reg_den = []\n",
    "    fea_reg_den = [cal_den(reg1),cal_den(reg2),cal_den(reg3),cal_den(reg4),cal_den(reg5),cal_den(reg6),cal_den(reg7),cal_den(reg8),cal_den(reg9),cal_den(reg10),cal_den(reg11),cal_den(reg12),cal_den(reg13)]\n",
    "    return fea_reg_den"
   ]
  },
  {
   "cell_type": "code",
   "execution_count": 562,
   "metadata": {},
   "outputs": [],
   "source": [
    "df_all1['fea_reg']=df_all1.waferMap.apply(find_regions)"
   ]
  },
  {
   "cell_type": "code",
   "execution_count": 569,
   "metadata": {},
   "outputs": [
    {
     "data": {
      "text/html": [
       "<div>\n",
       "<style scoped>\n",
       "    .dataframe tbody tr th:only-of-type {\n",
       "        vertical-align: middle;\n",
       "    }\n",
       "\n",
       "    .dataframe tbody tr th {\n",
       "        vertical-align: top;\n",
       "    }\n",
       "\n",
       "    .dataframe thead th {\n",
       "        text-align: right;\n",
       "    }\n",
       "</style>\n",
       "<table border=\"1\" class=\"dataframe\">\n",
       "  <thead>\n",
       "    <tr style=\"text-align: right;\">\n",
       "      <th></th>\n",
       "      <th>failureNum</th>\n",
       "      <th>fail_all</th>\n",
       "      <th>fail_etc</th>\n",
       "      <th>fail_only</th>\n",
       "      <th>fail_cycle</th>\n",
       "    </tr>\n",
       "  </thead>\n",
       "  <tbody>\n",
       "    <tr>\n",
       "      <th>0</th>\n",
       "      <td>0</td>\n",
       "      <td>0.0023</td>\n",
       "      <td>0.3093</td>\n",
       "      <td>0.1626</td>\n",
       "      <td>0.0769</td>\n",
       "    </tr>\n",
       "    <tr>\n",
       "      <th>1</th>\n",
       "      <td>1</td>\n",
       "      <td>0.0029</td>\n",
       "      <td>0.0421</td>\n",
       "      <td>0.0161</td>\n",
       "      <td>0.0440</td>\n",
       "    </tr>\n",
       "    <tr>\n",
       "      <th>2</th>\n",
       "      <td>2</td>\n",
       "      <td>0.0073</td>\n",
       "      <td>0.2258</td>\n",
       "      <td>0.3339</td>\n",
       "      <td>0.4725</td>\n",
       "    </tr>\n",
       "    <tr>\n",
       "      <th>3</th>\n",
       "      <td>3</td>\n",
       "      <td>0.9728</td>\n",
       "      <td>0.2071</td>\n",
       "      <td>0.0745</td>\n",
       "      <td>0.2747</td>\n",
       "    </tr>\n",
       "    <tr>\n",
       "      <th>4</th>\n",
       "      <td>4</td>\n",
       "      <td>0.0040</td>\n",
       "      <td>0.1430</td>\n",
       "      <td>0.2494</td>\n",
       "      <td>0.1319</td>\n",
       "    </tr>\n",
       "    <tr>\n",
       "      <th>5</th>\n",
       "      <td>5</td>\n",
       "      <td>0.0003</td>\n",
       "      <td>0.0030</td>\n",
       "      <td>0.0133</td>\n",
       "      <td>0.0000</td>\n",
       "    </tr>\n",
       "    <tr>\n",
       "      <th>6</th>\n",
       "      <td>6</td>\n",
       "      <td>0.0104</td>\n",
       "      <td>0.0460</td>\n",
       "      <td>0.0415</td>\n",
       "      <td>0.0000</td>\n",
       "    </tr>\n",
       "    <tr>\n",
       "      <th>7</th>\n",
       "      <td>7</td>\n",
       "      <td>0.0000</td>\n",
       "      <td>0.0238</td>\n",
       "      <td>0.1086</td>\n",
       "      <td>0.0000</td>\n",
       "    </tr>\n",
       "    <tr>\n",
       "      <th>8</th>\n",
       "      <td>8</td>\n",
       "      <td>0.0000</td>\n",
       "      <td>0.0000</td>\n",
       "      <td>0.0000</td>\n",
       "      <td>0.0000</td>\n",
       "    </tr>\n",
       "  </tbody>\n",
       "</table>\n",
       "</div>"
      ],
      "text/plain": [
       "   failureNum  fail_all  fail_etc  fail_only  fail_cycle\n",
       "0           0    0.0023    0.3093     0.1626      0.0769\n",
       "1           1    0.0029    0.0421     0.0161      0.0440\n",
       "2           2    0.0073    0.2258     0.3339      0.4725\n",
       "3           3    0.9728    0.2071     0.0745      0.2747\n",
       "4           4    0.0040    0.1430     0.2494      0.1319\n",
       "5           5    0.0003    0.0030     0.0133      0.0000\n",
       "6           6    0.0104    0.0460     0.0415      0.0000\n",
       "7           7    0.0000    0.0238     0.1086      0.0000\n",
       "8           8    0.0000    0.0000     0.0000      0.0000"
      ]
     },
     "execution_count": 569,
     "metadata": {},
     "output_type": "execute_result"
    }
   ],
   "source": [
    "b1 = pd.read_csv(\"./failer.csv\")"
   ]
  },
  {
   "cell_type": "code",
   "execution_count": 555,
   "metadata": {
    "collapsed": true
   },
   "outputs": [
    {
     "ename": "ValueError",
     "evalue": "You are trying to merge on int64 and object columns. If you wish to proceed you should use pd.concat",
     "output_type": "error",
     "traceback": [
      "\u001b[0;31m---------------------------------------------------------------------------\u001b[0m",
      "\u001b[0;31mValueError\u001b[0m                                Traceback (most recent call last)",
      "\u001b[0;32m<ipython-input-555-aec916ef3e20>\u001b[0m in \u001b[0;36m<module>\u001b[0;34m\u001b[0m\n\u001b[0;32m----> 1\u001b[0;31m \u001b[0mdf_all1\u001b[0m \u001b[0;34m=\u001b[0m \u001b[0mpd\u001b[0m\u001b[0;34m.\u001b[0m\u001b[0mmerge\u001b[0m\u001b[0;34m(\u001b[0m\u001b[0mb1\u001b[0m\u001b[0;34m,\u001b[0m \u001b[0mdf_all1\u001b[0m\u001b[0;34m,\u001b[0m \u001b[0mhow\u001b[0m \u001b[0;34m=\u001b[0m \u001b[0;34m'inner'\u001b[0m\u001b[0;34m,\u001b[0m \u001b[0mon\u001b[0m \u001b[0;34m=\u001b[0m \u001b[0;34m'failureNum'\u001b[0m \u001b[0;34m)\u001b[0m\u001b[0;34m\u001b[0m\u001b[0;34m\u001b[0m\u001b[0m\n\u001b[0m",
      "\u001b[0;32m~/miniconda3/envs/dm_env/lib/python3.7/site-packages/pandas/core/reshape/merge.py\u001b[0m in \u001b[0;36mmerge\u001b[0;34m(left, right, how, on, left_on, right_on, left_index, right_index, sort, suffixes, copy, indicator, validate)\u001b[0m\n\u001b[1;32m     79\u001b[0m         \u001b[0mcopy\u001b[0m\u001b[0;34m=\u001b[0m\u001b[0mcopy\u001b[0m\u001b[0;34m,\u001b[0m\u001b[0;34m\u001b[0m\u001b[0;34m\u001b[0m\u001b[0m\n\u001b[1;32m     80\u001b[0m         \u001b[0mindicator\u001b[0m\u001b[0;34m=\u001b[0m\u001b[0mindicator\u001b[0m\u001b[0;34m,\u001b[0m\u001b[0;34m\u001b[0m\u001b[0;34m\u001b[0m\u001b[0m\n\u001b[0;32m---> 81\u001b[0;31m         \u001b[0mvalidate\u001b[0m\u001b[0;34m=\u001b[0m\u001b[0mvalidate\u001b[0m\u001b[0;34m,\u001b[0m\u001b[0;34m\u001b[0m\u001b[0;34m\u001b[0m\u001b[0m\n\u001b[0m\u001b[1;32m     82\u001b[0m     )\n\u001b[1;32m     83\u001b[0m     \u001b[0;32mreturn\u001b[0m \u001b[0mop\u001b[0m\u001b[0;34m.\u001b[0m\u001b[0mget_result\u001b[0m\u001b[0;34m(\u001b[0m\u001b[0;34m)\u001b[0m\u001b[0;34m\u001b[0m\u001b[0;34m\u001b[0m\u001b[0m\n",
      "\u001b[0;32m~/miniconda3/envs/dm_env/lib/python3.7/site-packages/pandas/core/reshape/merge.py\u001b[0m in \u001b[0;36m__init__\u001b[0;34m(self, left, right, how, on, left_on, right_on, axis, left_index, right_index, sort, suffixes, copy, indicator, validate)\u001b[0m\n\u001b[1;32m    628\u001b[0m         \u001b[0;31m# validate the merge keys dtypes. We may need to coerce\u001b[0m\u001b[0;34m\u001b[0m\u001b[0;34m\u001b[0m\u001b[0;34m\u001b[0m\u001b[0m\n\u001b[1;32m    629\u001b[0m         \u001b[0;31m# to avoid incompat dtypes\u001b[0m\u001b[0;34m\u001b[0m\u001b[0;34m\u001b[0m\u001b[0;34m\u001b[0m\u001b[0m\n\u001b[0;32m--> 630\u001b[0;31m         \u001b[0mself\u001b[0m\u001b[0;34m.\u001b[0m\u001b[0m_maybe_coerce_merge_keys\u001b[0m\u001b[0;34m(\u001b[0m\u001b[0;34m)\u001b[0m\u001b[0;34m\u001b[0m\u001b[0;34m\u001b[0m\u001b[0m\n\u001b[0m\u001b[1;32m    631\u001b[0m \u001b[0;34m\u001b[0m\u001b[0m\n\u001b[1;32m    632\u001b[0m         \u001b[0;31m# If argument passed to validate,\u001b[0m\u001b[0;34m\u001b[0m\u001b[0;34m\u001b[0m\u001b[0;34m\u001b[0m\u001b[0m\n",
      "\u001b[0;32m~/miniconda3/envs/dm_env/lib/python3.7/site-packages/pandas/core/reshape/merge.py\u001b[0m in \u001b[0;36m_maybe_coerce_merge_keys\u001b[0;34m(self)\u001b[0m\n\u001b[1;32m   1136\u001b[0m                     \u001b[0minferred_right\u001b[0m \u001b[0;32min\u001b[0m \u001b[0mstring_types\u001b[0m \u001b[0;32mand\u001b[0m \u001b[0minferred_left\u001b[0m \u001b[0;32mnot\u001b[0m \u001b[0;32min\u001b[0m \u001b[0mstring_types\u001b[0m\u001b[0;34m\u001b[0m\u001b[0;34m\u001b[0m\u001b[0m\n\u001b[1;32m   1137\u001b[0m                 ):\n\u001b[0;32m-> 1138\u001b[0;31m                     \u001b[0;32mraise\u001b[0m \u001b[0mValueError\u001b[0m\u001b[0;34m(\u001b[0m\u001b[0mmsg\u001b[0m\u001b[0;34m)\u001b[0m\u001b[0;34m\u001b[0m\u001b[0;34m\u001b[0m\u001b[0m\n\u001b[0m\u001b[1;32m   1139\u001b[0m \u001b[0;34m\u001b[0m\u001b[0m\n\u001b[1;32m   1140\u001b[0m             \u001b[0;31m# datetimelikes must match exactly\u001b[0m\u001b[0;34m\u001b[0m\u001b[0;34m\u001b[0m\u001b[0;34m\u001b[0m\u001b[0m\n",
      "\u001b[0;31mValueError\u001b[0m: You are trying to merge on int64 and object columns. If you wish to proceed you should use pd.concat"
     ]
    }
   ],
   "source": [
    "#df_all1 = pd.merge(b1, df_all1, how = 'inner', on = 'failureNum' )"
   ]
  },
  {
   "cell_type": "code",
   "execution_count": null,
   "metadata": {},
   "outputs": [],
   "source": [
    "'''\n",
    "result = []\n",
    "for i in df_all1.index:\n",
    "    a = [(x)*df_all1.fail_all[i]/(26-df_all1['count'][i]) for x in  df_all1.fea_reg[i]]\n",
    "    \n",
    "    result.append(a)\n",
    "df_all1[\"fail_list_all\"] = result      \n",
    "'''"
   ]
  },
  {
   "cell_type": "code",
   "execution_count": null,
   "metadata": {},
   "outputs": [],
   "source": [
    "'''\n",
    "result_a = []\n",
    "for i in df_all1.index:\n",
    "    b = [(x)*df_all1.fail_cycle[i]/(26-df_all1['count'][i]) for x in  df_all1.fea_reg[i]]\n",
    "    \n",
    "    result_a.append(b)\n",
    "df_all1[\"fail_list_cycle\"] = result_a    \n",
    "'''"
   ]
  },
  {
   "cell_type": "code",
   "execution_count": 564,
   "metadata": {},
   "outputs": [],
   "source": [
    "df_all_test1 = df_all1[df_all1.trianTestLabel != 'Test'].reset_index(drop=True)"
   ]
  },
  {
   "cell_type": "code",
   "execution_count": 565,
   "metadata": {},
   "outputs": [],
   "source": [
    "f=[df_all_test1.fea_reg[i] for i in df_all_test1.index] #13\n",
    "g=[df_all_test1.fea_cub_mean[i] for i in df_all_test1.index] #20\n",
    "h=[df_all_test1.fea_cub_std[i] for i in df_all_test1.index] #20\n",
    "i=[df_all_test1.fea_geom[i] for i in df_all_test1.index] #6\n",
    "#j=[df_all_test1.fail_list_all[i] for i in df_all_test1.index] \n",
    "#l=[df_all_test1.fail_list_cycle[i] for i in df_all_test1.index] \n",
    "#fea_all_test = np.concatenate((np.array(f),np.array(g),np.array(h),np.array(i),np.array(j),np.array(l)),axis=1)#63 in total\n",
    "fea_all_test1 = np.concatenate((np.array(f),np.array(g),np.array(h),np.array(i)),axis=1)#63 in total"
   ]
  },
  {
   "cell_type": "code",
   "execution_count": 566,
   "metadata": {},
   "outputs": [],
   "source": [
    "from sklearn.model_selection import train_test_split\n",
    "\n",
    "X_test1 = fea_all_test1"
   ]
  },
  {
   "cell_type": "code",
   "execution_count": 594,
   "metadata": {},
   "outputs": [
    {
     "data": {
      "text/plain": [
       "array([2, 0, 4, ..., 2, 2, 2])"
      ]
     },
     "execution_count": 594,
     "metadata": {},
     "output_type": "execute_result"
    }
   ],
   "source": [
    "prediction1 = votingC.predict(X_test1)\n",
    "prediction1"
   ]
  },
  {
   "cell_type": "code",
   "execution_count": 595,
   "metadata": {},
   "outputs": [],
   "source": [
    "df_all_test1['prediction'] = prediction1"
   ]
  },
  {
   "cell_type": "code",
   "execution_count": 599,
   "metadata": {},
   "outputs": [
    {
     "data": {
      "text/html": [
       "<div>\n",
       "<style scoped>\n",
       "    .dataframe tbody tr th:only-of-type {\n",
       "        vertical-align: middle;\n",
       "    }\n",
       "\n",
       "    .dataframe tbody tr th {\n",
       "        vertical-align: top;\n",
       "    }\n",
       "\n",
       "    .dataframe thead th {\n",
       "        text-align: right;\n",
       "    }\n",
       "</style>\n",
       "<table border=\"1\" class=\"dataframe\">\n",
       "  <thead>\n",
       "    <tr style=\"text-align: right;\">\n",
       "      <th></th>\n",
       "      <th>lotName</th>\n",
       "      <th>waferIndex</th>\n",
       "      <th>failureType</th>\n",
       "      <th>failureNum</th>\n",
       "      <th>prediction</th>\n",
       "    </tr>\n",
       "  </thead>\n",
       "  <tbody>\n",
       "    <tr>\n",
       "      <th>0</th>\n",
       "      <td>lot2</td>\n",
       "      <td>11.0</td>\n",
       "      <td>[]</td>\n",
       "      <td>[]</td>\n",
       "      <td>2</td>\n",
       "    </tr>\n",
       "    <tr>\n",
       "      <th>1</th>\n",
       "      <td>lot2</td>\n",
       "      <td>21.0</td>\n",
       "      <td>[]</td>\n",
       "      <td>[]</td>\n",
       "      <td>0</td>\n",
       "    </tr>\n",
       "    <tr>\n",
       "      <th>2</th>\n",
       "      <td>lot3</td>\n",
       "      <td>20.0</td>\n",
       "      <td>[]</td>\n",
       "      <td>[]</td>\n",
       "      <td>4</td>\n",
       "    </tr>\n",
       "    <tr>\n",
       "      <th>3</th>\n",
       "      <td>lot5</td>\n",
       "      <td>21.0</td>\n",
       "      <td>[]</td>\n",
       "      <td>[]</td>\n",
       "      <td>4</td>\n",
       "    </tr>\n",
       "    <tr>\n",
       "      <th>4</th>\n",
       "      <td>lot7</td>\n",
       "      <td>9.0</td>\n",
       "      <td>[]</td>\n",
       "      <td>[]</td>\n",
       "      <td>0</td>\n",
       "    </tr>\n",
       "    <tr>\n",
       "      <th>...</th>\n",
       "      <td>...</td>\n",
       "      <td>...</td>\n",
       "      <td>...</td>\n",
       "      <td>...</td>\n",
       "      <td>...</td>\n",
       "    </tr>\n",
       "    <tr>\n",
       "      <th>638502</th>\n",
       "      <td>lot47537</td>\n",
       "      <td>12.0</td>\n",
       "      <td>[]</td>\n",
       "      <td>[]</td>\n",
       "      <td>2</td>\n",
       "    </tr>\n",
       "    <tr>\n",
       "      <th>638503</th>\n",
       "      <td>lot47537</td>\n",
       "      <td>18.0</td>\n",
       "      <td>[]</td>\n",
       "      <td>[]</td>\n",
       "      <td>2</td>\n",
       "    </tr>\n",
       "    <tr>\n",
       "      <th>638504</th>\n",
       "      <td>lot47538</td>\n",
       "      <td>25.0</td>\n",
       "      <td>[]</td>\n",
       "      <td>[]</td>\n",
       "      <td>2</td>\n",
       "    </tr>\n",
       "    <tr>\n",
       "      <th>638505</th>\n",
       "      <td>lot47543</td>\n",
       "      <td>1.0</td>\n",
       "      <td>[]</td>\n",
       "      <td>[]</td>\n",
       "      <td>2</td>\n",
       "    </tr>\n",
       "    <tr>\n",
       "      <th>638506</th>\n",
       "      <td>lot47543</td>\n",
       "      <td>2.0</td>\n",
       "      <td>[]</td>\n",
       "      <td>[]</td>\n",
       "      <td>2</td>\n",
       "    </tr>\n",
       "  </tbody>\n",
       "</table>\n",
       "<p>638507 rows × 5 columns</p>\n",
       "</div>"
      ],
      "text/plain": [
       "         lotName  waferIndex failureType failureNum  prediction\n",
       "0           lot2        11.0          []         []           2\n",
       "1           lot2        21.0          []         []           0\n",
       "2           lot3        20.0          []         []           4\n",
       "3           lot5        21.0          []         []           4\n",
       "4           lot7         9.0          []         []           0\n",
       "...          ...         ...         ...        ...         ...\n",
       "638502  lot47537        12.0          []         []           2\n",
       "638503  lot47537        18.0          []         []           2\n",
       "638504  lot47538        25.0          []         []           2\n",
       "638505  lot47543         1.0          []         []           2\n",
       "638506  lot47543         2.0          []         []           2\n",
       "\n",
       "[638507 rows x 5 columns]"
      ]
     },
     "execution_count": 599,
     "metadata": {},
     "output_type": "execute_result"
    }
   ],
   "source": [
    "result2 = df_all_test1[['lotName','waferIndex','failureType','failureNum', 'prediction']]\n",
    "#{'Center':0,'Donut':1,'Edge-Loc':2,'Edge-Ring':3,'Loc4,'Random':5,'Scratch':6,'Near-full':7,'none':8}\n",
    "result2"
   ]
  },
  {
   "cell_type": "code",
   "execution_count": 600,
   "metadata": {},
   "outputs": [],
   "source": [
    "result2.to_csv(\"./result2.csv\")"
   ]
  },
  {
   "cell_type": "code",
   "execution_count": null,
   "metadata": {},
   "outputs": [],
   "source": [
    "df_all_test1.to_csv(\"./df_all_test1.csv\")"
   ]
  },
  {
   "cell_type": "code",
   "execution_count": null,
   "metadata": {},
   "outputs": [],
   "source": []
  },
  {
   "cell_type": "code",
   "execution_count": null,
   "metadata": {},
   "outputs": [],
   "source": []
  }
 ],
 "metadata": {
  "kernelspec": {
   "display_name": "dm_env",
   "language": "python",
   "name": "dm_env"
  },
  "language_info": {
   "codemirror_mode": {
    "name": "ipython",
    "version": 3
   },
   "file_extension": ".py",
   "mimetype": "text/x-python",
   "name": "python",
   "nbconvert_exporter": "python",
   "pygments_lexer": "ipython3",
   "version": "3.7.5"
  }
 },
 "nbformat": 4,
 "nbformat_minor": 2
}
