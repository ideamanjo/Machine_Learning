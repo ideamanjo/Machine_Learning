{
 "cells": [
  {
   "cell_type": "code",
   "execution_count": 1,
   "metadata": {},
   "outputs": [],
   "source": [
    "import pandas as pd\n",
    "import numpy as np\n",
    "import matplotlib.pyplot as plt\n",
    "import seaborn as sns\n",
    "\n",
    "from sklearn.linear_model import LinearRegression, Ridge, RidgeCV, Lasso, LassoCV\n",
    "from sklearn.decomposition import PCA\n",
    "from sklearn.cross_decomposition import PLSRegression\n",
    "from sklearn.model_selection import KFold, cross_val_score\n",
    "from sklearn.preprocessing import scale \n",
    "from sklearn import model_selection\n",
    "from sklearn.metrics import mean_squared_error\n",
    "from sklearn.model_selection import train_test_split, cross_val_score\n",
    "import warnings\n",
    "warnings.filterwarnings('ignore')\n",
    "from sklearn.metrics import mean_squared_error\n",
    "from math import sqrt\n",
    "\n",
    "%matplotlib inline\n",
    "plt.style.use('seaborn-white')"
   ]
  },
  {
   "cell_type": "code",
   "execution_count": 2,
   "metadata": {},
   "outputs": [],
   "source": [
    "import pandas as pd\n",
    "df1 = pd.read_csv(\"./test_rev5.txt\", delimiter = \"\\t\")\n",
    "df2 = pd.read_csv(\"./train_col.txt\", delimiter = \"\\t\")"
   ]
  },
  {
   "cell_type": "code",
   "execution_count": null,
   "metadata": {},
   "outputs": [],
   "source": []
  },
  {
   "cell_type": "code",
   "execution_count": 2,
   "metadata": {},
   "outputs": [],
   "source": [
    "import pandas as pd\n",
    "df1 = pd.read_excel(\"./train_rev5.xlsx\",index_col=0,parse_dates=[0])\n",
    "df2 = pd.read_excel(\"./test_rev5.xlsx\",index_col=0,parse_dates=[0])"
   ]
  },
  {
   "cell_type": "code",
   "execution_count": 3,
   "metadata": {},
   "outputs": [
    {
     "data": {
      "text/html": [
       "<div>\n",
       "<style scoped>\n",
       "    .dataframe tbody tr th:only-of-type {\n",
       "        vertical-align: middle;\n",
       "    }\n",
       "\n",
       "    .dataframe tbody tr th {\n",
       "        vertical-align: top;\n",
       "    }\n",
       "\n",
       "    .dataframe thead th {\n",
       "        text-align: right;\n",
       "    }\n",
       "</style>\n",
       "<table border=\"1\" class=\"dataframe\">\n",
       "  <thead>\n",
       "    <tr style=\"text-align: right;\">\n",
       "      <th></th>\n",
       "      <th>country</th>\n",
       "      <th>description</th>\n",
       "      <th>designation</th>\n",
       "      <th>price</th>\n",
       "      <th>province</th>\n",
       "      <th>region_1</th>\n",
       "      <th>region_2</th>\n",
       "      <th>taster_name</th>\n",
       "      <th>title</th>\n",
       "      <th>variety</th>\n",
       "      <th>...</th>\n",
       "      <th>designation_len_modify</th>\n",
       "      <th>price_modify</th>\n",
       "      <th>province_modify</th>\n",
       "      <th>continent</th>\n",
       "      <th>grade_germany</th>\n",
       "      <th>grade_italy</th>\n",
       "      <th>grade_spain</th>\n",
       "      <th>grade_france</th>\n",
       "      <th>Rating_Avg</th>\n",
       "      <th>pre_points</th>\n",
       "    </tr>\n",
       "    <tr>\n",
       "      <th>id</th>\n",
       "      <th></th>\n",
       "      <th></th>\n",
       "      <th></th>\n",
       "      <th></th>\n",
       "      <th></th>\n",
       "      <th></th>\n",
       "      <th></th>\n",
       "      <th></th>\n",
       "      <th></th>\n",
       "      <th></th>\n",
       "      <th></th>\n",
       "      <th></th>\n",
       "      <th></th>\n",
       "      <th></th>\n",
       "      <th></th>\n",
       "      <th></th>\n",
       "      <th></th>\n",
       "      <th></th>\n",
       "      <th></th>\n",
       "      <th></th>\n",
       "      <th></th>\n",
       "    </tr>\n",
       "  </thead>\n",
       "  <tbody>\n",
       "    <tr>\n",
       "      <th>1</th>\n",
       "      <td>US</td>\n",
       "      <td>Fresh and creamy, this spent time in 80% neutr...</td>\n",
       "      <td>NaN</td>\n",
       "      <td>20.0</td>\n",
       "      <td>Oregon</td>\n",
       "      <td>Eola-Amity Hills</td>\n",
       "      <td>Willamette Valley</td>\n",
       "      <td>Paul Gregutt</td>\n",
       "      <td>Keeler 2013 Pinot Gris (Eola-Amity Hills)</td>\n",
       "      <td>Pinot Gris</td>\n",
       "      <td>...</td>\n",
       "      <td>0</td>\n",
       "      <td>1</td>\n",
       "      <td>0.265387</td>\n",
       "      <td>North America</td>\n",
       "      <td>0</td>\n",
       "      <td>0</td>\n",
       "      <td>0</td>\n",
       "      <td>0</td>\n",
       "      <td>87.00</td>\n",
       "      <td>89</td>\n",
       "    </tr>\n",
       "    <tr>\n",
       "      <th>2</th>\n",
       "      <td>US</td>\n",
       "      <td>This wine smells and tastes clean and fresh, l...</td>\n",
       "      <td>NaN</td>\n",
       "      <td>14.0</td>\n",
       "      <td>California</td>\n",
       "      <td>Mendocino County</td>\n",
       "      <td>NaN</td>\n",
       "      <td>Jim Gordon</td>\n",
       "      <td>Shooting Star 2013 Chardonnay (Mendocino County)</td>\n",
       "      <td>Chardonnay</td>\n",
       "      <td>...</td>\n",
       "      <td>0</td>\n",
       "      <td>1</td>\n",
       "      <td>0.223230</td>\n",
       "      <td>North America</td>\n",
       "      <td>0</td>\n",
       "      <td>0</td>\n",
       "      <td>0</td>\n",
       "      <td>0</td>\n",
       "      <td>93.33</td>\n",
       "      <td>88</td>\n",
       "    </tr>\n",
       "    <tr>\n",
       "      <th>3</th>\n",
       "      <td>Italy</td>\n",
       "      <td>This is an easy wine to drink with a soft, gen...</td>\n",
       "      <td>NaN</td>\n",
       "      <td>25.0</td>\n",
       "      <td>Central Italy</td>\n",
       "      <td>Montefalco Rosso</td>\n",
       "      <td>NaN</td>\n",
       "      <td>NaN</td>\n",
       "      <td>Madonna Alta 2004  Montefalco Rosso</td>\n",
       "      <td>Red Blend</td>\n",
       "      <td>...</td>\n",
       "      <td>0</td>\n",
       "      <td>1</td>\n",
       "      <td>0.217760</td>\n",
       "      <td>Europe</td>\n",
       "      <td>0</td>\n",
       "      <td>0</td>\n",
       "      <td>0</td>\n",
       "      <td>0</td>\n",
       "      <td>NaN</td>\n",
       "      <td>87</td>\n",
       "    </tr>\n",
       "    <tr>\n",
       "      <th>4</th>\n",
       "      <td>US</td>\n",
       "      <td>This has an extraordinarily-high level of resi...</td>\n",
       "      <td>Trust Winery Limited</td>\n",
       "      <td>65.0</td>\n",
       "      <td>California</td>\n",
       "      <td>Mendocino Ridge</td>\n",
       "      <td>NaN</td>\n",
       "      <td>NaN</td>\n",
       "      <td>Stephen &amp; Walker 2010 Trust Winery Limited Cha...</td>\n",
       "      <td>Chardonnay</td>\n",
       "      <td>...</td>\n",
       "      <td>20</td>\n",
       "      <td>1</td>\n",
       "      <td>0.223230</td>\n",
       "      <td>North America</td>\n",
       "      <td>0</td>\n",
       "      <td>0</td>\n",
       "      <td>0</td>\n",
       "      <td>0</td>\n",
       "      <td>91.83</td>\n",
       "      <td>88</td>\n",
       "    </tr>\n",
       "    <tr>\n",
       "      <th>6</th>\n",
       "      <td>US</td>\n",
       "      <td>Soft, fruity, dry and hot, with jammy cherry a...</td>\n",
       "      <td>Reserve</td>\n",
       "      <td>24.0</td>\n",
       "      <td>California</td>\n",
       "      <td>Livermore Valley</td>\n",
       "      <td>Central Coast</td>\n",
       "      <td>NaN</td>\n",
       "      <td>Rodrigue Molyneaux 2006 Reserve Cabernet Sauvi...</td>\n",
       "      <td>Cabernet Sauvignon</td>\n",
       "      <td>...</td>\n",
       "      <td>7</td>\n",
       "      <td>1</td>\n",
       "      <td>0.223230</td>\n",
       "      <td>North America</td>\n",
       "      <td>0</td>\n",
       "      <td>0</td>\n",
       "      <td>0</td>\n",
       "      <td>0</td>\n",
       "      <td>88.00</td>\n",
       "      <td>85</td>\n",
       "    </tr>\n",
       "  </tbody>\n",
       "</table>\n",
       "<p>5 rows × 25 columns</p>\n",
       "</div>"
      ],
      "text/plain": [
       "   country                                        description  \\\n",
       "id                                                              \n",
       "1       US  Fresh and creamy, this spent time in 80% neutr...   \n",
       "2       US  This wine smells and tastes clean and fresh, l...   \n",
       "3    Italy  This is an easy wine to drink with a soft, gen...   \n",
       "4       US  This has an extraordinarily-high level of resi...   \n",
       "6       US  Soft, fruity, dry and hot, with jammy cherry a...   \n",
       "\n",
       "             designation  price       province          region_1  \\\n",
       "id                                                                 \n",
       "1                    NaN   20.0         Oregon  Eola-Amity Hills   \n",
       "2                    NaN   14.0     California  Mendocino County   \n",
       "3                    NaN   25.0  Central Italy  Montefalco Rosso   \n",
       "4   Trust Winery Limited   65.0     California   Mendocino Ridge   \n",
       "6                Reserve   24.0     California  Livermore Valley   \n",
       "\n",
       "             region_2   taster_name  \\\n",
       "id                                    \n",
       "1   Willamette Valley  Paul Gregutt   \n",
       "2                 NaN    Jim Gordon   \n",
       "3                 NaN           NaN   \n",
       "4                 NaN           NaN   \n",
       "6       Central Coast           NaN   \n",
       "\n",
       "                                                title             variety  \\\n",
       "id                                                                          \n",
       "1           Keeler 2013 Pinot Gris (Eola-Amity Hills)          Pinot Gris   \n",
       "2    Shooting Star 2013 Chardonnay (Mendocino County)          Chardonnay   \n",
       "3                 Madonna Alta 2004  Montefalco Rosso           Red Blend   \n",
       "4   Stephen & Walker 2010 Trust Winery Limited Cha...          Chardonnay   \n",
       "6   Rodrigue Molyneaux 2006 Reserve Cabernet Sauvi...  Cabernet Sauvignon   \n",
       "\n",
       "       ...     designation_len_modify  price_modify  province_modify  \\\n",
       "id     ...                                                             \n",
       "1      ...                          0             1         0.265387   \n",
       "2      ...                          0             1         0.223230   \n",
       "3      ...                          0             1         0.217760   \n",
       "4      ...                         20             1         0.223230   \n",
       "6      ...                          7             1         0.223230   \n",
       "\n",
       "        continent  grade_germany  grade_italy  grade_spain  grade_france  \\\n",
       "id                                                                         \n",
       "1   North America              0            0            0             0   \n",
       "2   North America              0            0            0             0   \n",
       "3          Europe              0            0            0             0   \n",
       "4   North America              0            0            0             0   \n",
       "6   North America              0            0            0             0   \n",
       "\n",
       "   Rating_Avg  pre_points  \n",
       "id                         \n",
       "1       87.00          89  \n",
       "2       93.33          88  \n",
       "3         NaN          87  \n",
       "4       91.83          88  \n",
       "6       88.00          85  \n",
       "\n",
       "[5 rows x 25 columns]"
      ]
     },
     "execution_count": 3,
     "metadata": {},
     "output_type": "execute_result"
    }
   ],
   "source": [
    "df1.head(5)"
   ]
  },
  {
   "cell_type": "code",
   "execution_count": 80,
   "metadata": {},
   "outputs": [],
   "source": [
    "#unique index 바꾸기\n",
    "\n",
    "df1['country'] = df1['country'].map(df1['country'].value_counts())\n",
    "df1['description'] = df1['description'].map(df1['description'].value_counts())\n",
    "df1['designation'] = df1['designation'].map(df1['designation'].value_counts())\n",
    "df1['province'] = df1['province'].map(df1['province'].value_counts())\n",
    "df1['region_1'] = df1['region_1'].map(df1['region_1'].value_counts())\n",
    "df1['region_2'] = df1['region_2'].map(df1['region_2'].value_counts())\n",
    "df1['taster_name'] = df1['taster_name'].map(df1['taster_name'].value_counts())\n",
    "df1['taster_twitter_handle'] = df1['taster_twitter_handle'].map(df1['taster_twitter_handle'].value_counts())\n",
    "df1['title'] = df1['title'].map(df1['title'].value_counts())\n",
    "df1['variety'] = df1['variety'].map(df1['variety'].value_counts())\n",
    "df1['winery'] = df1['winery'].map(df1['winery'].value_counts())\n",
    "df1['vintage'] = df1['vintage'].map(df1['vintage'].value_counts())\n",
    "df1['continent'] = df1['continent'].map(df1['continent'].value_counts())\n",
    "\n",
    "\n",
    "\n",
    "df2['country'] = df2['country'].map(df2['country'].value_counts())\n",
    "df2['description'] = df2['description'].map(df2['description'].value_counts())\n",
    "df2['designation'] = df2['designation'].map(df2['designation'].value_counts())\n",
    "df2['province'] = df2['province'].map(df2['province'].value_counts())\n",
    "df2['region_1'] = df2['region_1'].map(df2['region_1'].value_counts())\n",
    "df2['region_2'] = df2['region_2'].map(df2['region_2'].value_counts())\n",
    "df2['taster_name'] = df2['taster_name'].map(df2['taster_name'].value_counts())\n",
    "df2['taster_twitter_handle'] = df2['taster_twitter_handle'].map(df2['taster_twitter_handle'].value_counts())\n",
    "df2['title'] = df2['title'].map(df2['title'].value_counts())\n",
    "df2['variety'] = df2['variety'].map(df2['variety'].value_counts())\n",
    "df2['winery'] = df2['winery'].map(df2['winery'].value_counts())\n",
    "df2['vintage'] = df2['vintage'].map(df2['vintage'].value_counts())\n",
    "df2['continent'] = df2['continent'].map(df2['continent'].value_counts())\n"
   ]
  },
  {
   "cell_type": "code",
   "execution_count": 81,
   "metadata": {},
   "outputs": [
    {
     "data": {
      "text/html": [
       "<div>\n",
       "<style scoped>\n",
       "    .dataframe tbody tr th:only-of-type {\n",
       "        vertical-align: middle;\n",
       "    }\n",
       "\n",
       "    .dataframe tbody tr th {\n",
       "        vertical-align: top;\n",
       "    }\n",
       "\n",
       "    .dataframe thead th {\n",
       "        text-align: right;\n",
       "    }\n",
       "</style>\n",
       "<table border=\"1\" class=\"dataframe\">\n",
       "  <thead>\n",
       "    <tr style=\"text-align: right;\">\n",
       "      <th></th>\n",
       "      <th>country</th>\n",
       "      <th>description</th>\n",
       "      <th>designation_len_modify</th>\n",
       "      <th>price</th>\n",
       "      <th>province</th>\n",
       "      <th>region_1</th>\n",
       "      <th>region_2</th>\n",
       "      <th>taster_name</th>\n",
       "      <th>title</th>\n",
       "      <th>variety</th>\n",
       "      <th>...</th>\n",
       "      <th>price_modify</th>\n",
       "      <th>variety_modify</th>\n",
       "      <th>province_modify</th>\n",
       "      <th>continent</th>\n",
       "      <th>grade_germany</th>\n",
       "      <th>grade_italy</th>\n",
       "      <th>grade_spain</th>\n",
       "      <th>grade_france</th>\n",
       "      <th>aged</th>\n",
       "      <th>Rating_Avg</th>\n",
       "    </tr>\n",
       "    <tr>\n",
       "      <th>id</th>\n",
       "      <th></th>\n",
       "      <th></th>\n",
       "      <th></th>\n",
       "      <th></th>\n",
       "      <th></th>\n",
       "      <th></th>\n",
       "      <th></th>\n",
       "      <th></th>\n",
       "      <th></th>\n",
       "      <th></th>\n",
       "      <th></th>\n",
       "      <th></th>\n",
       "      <th></th>\n",
       "      <th></th>\n",
       "      <th></th>\n",
       "      <th></th>\n",
       "      <th></th>\n",
       "      <th></th>\n",
       "      <th></th>\n",
       "      <th></th>\n",
       "      <th></th>\n",
       "    </tr>\n",
       "  </thead>\n",
       "  <tbody>\n",
       "    <tr>\n",
       "      <th>5</th>\n",
       "      <td>6719.0</td>\n",
       "      <td>37138</td>\n",
       "      <td>33</td>\n",
       "      <td>95.0</td>\n",
       "      <td>1208.0</td>\n",
       "      <td>179.0</td>\n",
       "      <td>NaN</td>\n",
       "      <td>7738.0</td>\n",
       "      <td>36902</td>\n",
       "      <td>3530.0</td>\n",
       "      <td>...</td>\n",
       "      <td>1</td>\n",
       "      <td>0.229454</td>\n",
       "      <td>0.257697</td>\n",
       "      <td>18287</td>\n",
       "      <td>0</td>\n",
       "      <td>0</td>\n",
       "      <td>0</td>\n",
       "      <td>3</td>\n",
       "      <td>0</td>\n",
       "      <td>89.25</td>\n",
       "    </tr>\n",
       "    <tr>\n",
       "      <th>14</th>\n",
       "      <td>6719.0</td>\n",
       "      <td>37138</td>\n",
       "      <td>0</td>\n",
       "      <td>26.0</td>\n",
       "      <td>384.0</td>\n",
       "      <td>261.0</td>\n",
       "      <td>NaN</td>\n",
       "      <td>7738.0</td>\n",
       "      <td>36902</td>\n",
       "      <td>44.0</td>\n",
       "      <td>...</td>\n",
       "      <td>1</td>\n",
       "      <td>0.307227</td>\n",
       "      <td>0.278056</td>\n",
       "      <td>18287</td>\n",
       "      <td>0</td>\n",
       "      <td>0</td>\n",
       "      <td>0</td>\n",
       "      <td>0</td>\n",
       "      <td>0</td>\n",
       "      <td>NaN</td>\n",
       "    </tr>\n",
       "    <tr>\n",
       "      <th>15</th>\n",
       "      <td>419.0</td>\n",
       "      <td>37138</td>\n",
       "      <td>35</td>\n",
       "      <td>NaN</td>\n",
       "      <td>137.0</td>\n",
       "      <td>NaN</td>\n",
       "      <td>NaN</td>\n",
       "      <td>533.0</td>\n",
       "      <td>36902</td>\n",
       "      <td>121.0</td>\n",
       "      <td>...</td>\n",
       "      <td>0</td>\n",
       "      <td>0.114328</td>\n",
       "      <td>0.286437</td>\n",
       "      <td>426</td>\n",
       "      <td>0</td>\n",
       "      <td>0</td>\n",
       "      <td>0</td>\n",
       "      <td>0</td>\n",
       "      <td>0</td>\n",
       "      <td>NaN</td>\n",
       "    </tr>\n",
       "    <tr>\n",
       "      <th>18</th>\n",
       "      <td>1178.0</td>\n",
       "      <td>37138</td>\n",
       "      <td>23</td>\n",
       "      <td>110.0</td>\n",
       "      <td>1004.0</td>\n",
       "      <td>364.0</td>\n",
       "      <td>NaN</td>\n",
       "      <td>4594.0</td>\n",
       "      <td>36902</td>\n",
       "      <td>833.0</td>\n",
       "      <td>...</td>\n",
       "      <td>2</td>\n",
       "      <td>0.270876</td>\n",
       "      <td>0.325043</td>\n",
       "      <td>2612</td>\n",
       "      <td>0</td>\n",
       "      <td>0</td>\n",
       "      <td>0</td>\n",
       "      <td>0</td>\n",
       "      <td>0</td>\n",
       "      <td>NaN</td>\n",
       "    </tr>\n",
       "    <tr>\n",
       "      <th>21</th>\n",
       "      <td>5769.0</td>\n",
       "      <td>37138</td>\n",
       "      <td>34</td>\n",
       "      <td>30.0</td>\n",
       "      <td>376.0</td>\n",
       "      <td>208.0</td>\n",
       "      <td>NaN</td>\n",
       "      <td>3187.0</td>\n",
       "      <td>36902</td>\n",
       "      <td>2641.0</td>\n",
       "      <td>...</td>\n",
       "      <td>1</td>\n",
       "      <td>0.215757</td>\n",
       "      <td>0.306304</td>\n",
       "      <td>18287</td>\n",
       "      <td>0</td>\n",
       "      <td>0</td>\n",
       "      <td>0</td>\n",
       "      <td>0</td>\n",
       "      <td>0</td>\n",
       "      <td>96.00</td>\n",
       "    </tr>\n",
       "  </tbody>\n",
       "</table>\n",
       "<p>5 rows × 28 columns</p>\n",
       "</div>"
      ],
      "text/plain": [
       "    country  description  designation_len_modify  price  province  region_1  \\\n",
       "id                                                                            \n",
       "5    6719.0        37138                      33   95.0    1208.0     179.0   \n",
       "14   6719.0        37138                       0   26.0     384.0     261.0   \n",
       "15    419.0        37138                      35    NaN     137.0       NaN   \n",
       "18   1178.0        37138                      23  110.0    1004.0     364.0   \n",
       "21   5769.0        37138                      34   30.0     376.0     208.0   \n",
       "\n",
       "    region_2  taster_name  title  variety     ...      price_modify  \\\n",
       "id                                            ...                     \n",
       "5        NaN       7738.0  36902   3530.0     ...                 1   \n",
       "14       NaN       7738.0  36902     44.0     ...                 1   \n",
       "15       NaN        533.0  36902    121.0     ...                 0   \n",
       "18       NaN       4594.0  36902    833.0     ...                 2   \n",
       "21       NaN       3187.0  36902   2641.0     ...                 1   \n",
       "\n",
       "    variety_modify  province_modify  continent  grade_germany  grade_italy  \\\n",
       "id                                                                           \n",
       "5         0.229454         0.257697      18287              0            0   \n",
       "14        0.307227         0.278056      18287              0            0   \n",
       "15        0.114328         0.286437        426              0            0   \n",
       "18        0.270876         0.325043       2612              0            0   \n",
       "21        0.215757         0.306304      18287              0            0   \n",
       "\n",
       "    grade_spain  grade_france  aged  Rating_Avg  \n",
       "id                                               \n",
       "5             0             3     0       89.25  \n",
       "14            0             0     0         NaN  \n",
       "15            0             0     0         NaN  \n",
       "18            0             0     0         NaN  \n",
       "21            0             0     0       96.00  \n",
       "\n",
       "[5 rows x 28 columns]"
      ]
     },
     "execution_count": 81,
     "metadata": {},
     "output_type": "execute_result"
    }
   ],
   "source": [
    "#X, y 구분\n",
    "\n",
    "y = df1.points\n",
    "#X = df1[['country','description', 'designation_len_modify','price','province','region_1', 'region_2', 'taster_name', 'title','variety','winery' ]]\n",
    "#X = df1[['country','description', 'designation_len_modify','price','province','region_1', 'region_2', 'taster_name', 'title','variety','winery','vintage_','vintage_modify', 'taster_name_q2_modify','designation_len_modify','designation_modify','price_', 'price_1', 'price_modify', 'variety_modify','province_modify','continent','grade_germany','grade_italy','grade_spain','grade_france','aged','Rating_Avg']]\n",
    "#X_test_set = df2[['country','description', 'designation_len_modify','price','province','region_1', 'region_2', 'taster_name', 'title','variety','winery','vintage_','vintage_modify', 'taster_name_q2_modify','designation_len_modify','designation_modify','price_', 'price_1', 'price_modify', 'variety_modify','province_modify','continent','grade_germany','grade_italy','grade_spain','grade_france','aged','Rating_Avg']]\n",
    "\n",
    "#X = df1.drop('points', axis=1),\n",
    "#X = df1.drop(['points'], axis=1)#.astype('int')\n",
    "\n",
    "#X = df1[['vintage_','vintage_modify', 'taster_name_q2_modify','designation_len_modify','designation_modify','price_', 'price_1', 'price_modify', 'variety_modify','province_modify'  ]]\n",
    "#X_test_set = df2[['vintage_','vintage_modify', 'taster_name_q2_modify','designation_len_modify','designation_modify','price_', 'price_1', 'price_modify', 'variety_modify','province_modify'  ]]\n",
    "\n",
    "#X = X[['vintage','price']].fillna(value=0)\n",
    "#X = X.replace({'vintage': 'NV '}, {'vintage': 1})\n",
    "X_test_set.head(5)"
   ]
  },
  {
   "cell_type": "code",
   "execution_count": 82,
   "metadata": {},
   "outputs": [
    {
     "data": {
      "text/html": [
       "<div>\n",
       "<style scoped>\n",
       "    .dataframe tbody tr th:only-of-type {\n",
       "        vertical-align: middle;\n",
       "    }\n",
       "\n",
       "    .dataframe tbody tr th {\n",
       "        vertical-align: top;\n",
       "    }\n",
       "\n",
       "    .dataframe thead th {\n",
       "        text-align: right;\n",
       "    }\n",
       "</style>\n",
       "<table border=\"1\" class=\"dataframe\">\n",
       "  <thead>\n",
       "    <tr style=\"text-align: right;\">\n",
       "      <th></th>\n",
       "      <th>country</th>\n",
       "      <th>description</th>\n",
       "      <th>designation_len_modify</th>\n",
       "      <th>price</th>\n",
       "      <th>province</th>\n",
       "      <th>region_1</th>\n",
       "      <th>region_2</th>\n",
       "      <th>taster_name</th>\n",
       "      <th>title</th>\n",
       "      <th>variety</th>\n",
       "      <th>...</th>\n",
       "      <th>price_modify</th>\n",
       "      <th>variety_modify</th>\n",
       "      <th>province_modify</th>\n",
       "      <th>continent</th>\n",
       "      <th>grade_germany</th>\n",
       "      <th>grade_italy</th>\n",
       "      <th>grade_spain</th>\n",
       "      <th>grade_france</th>\n",
       "      <th>aged</th>\n",
       "      <th>Rating_Avg</th>\n",
       "    </tr>\n",
       "    <tr>\n",
       "      <th>id</th>\n",
       "      <th></th>\n",
       "      <th></th>\n",
       "      <th></th>\n",
       "      <th></th>\n",
       "      <th></th>\n",
       "      <th></th>\n",
       "      <th></th>\n",
       "      <th></th>\n",
       "      <th></th>\n",
       "      <th></th>\n",
       "      <th></th>\n",
       "      <th></th>\n",
       "      <th></th>\n",
       "      <th></th>\n",
       "      <th></th>\n",
       "      <th></th>\n",
       "      <th></th>\n",
       "      <th></th>\n",
       "      <th></th>\n",
       "      <th></th>\n",
       "      <th></th>\n",
       "    </tr>\n",
       "  </thead>\n",
       "  <tbody>\n",
       "    <tr>\n",
       "      <th>5</th>\n",
       "      <td>6719.0</td>\n",
       "      <td>37138</td>\n",
       "      <td>33</td>\n",
       "      <td>95.0</td>\n",
       "      <td>1208.0</td>\n",
       "      <td>179.0</td>\n",
       "      <td>NaN</td>\n",
       "      <td>7738.0</td>\n",
       "      <td>36902</td>\n",
       "      <td>3530.0</td>\n",
       "      <td>...</td>\n",
       "      <td>1</td>\n",
       "      <td>0.229454</td>\n",
       "      <td>0.257697</td>\n",
       "      <td>18287</td>\n",
       "      <td>0</td>\n",
       "      <td>0</td>\n",
       "      <td>0</td>\n",
       "      <td>3</td>\n",
       "      <td>0</td>\n",
       "      <td>89.25</td>\n",
       "    </tr>\n",
       "    <tr>\n",
       "      <th>14</th>\n",
       "      <td>6719.0</td>\n",
       "      <td>37138</td>\n",
       "      <td>0</td>\n",
       "      <td>26.0</td>\n",
       "      <td>384.0</td>\n",
       "      <td>261.0</td>\n",
       "      <td>NaN</td>\n",
       "      <td>7738.0</td>\n",
       "      <td>36902</td>\n",
       "      <td>44.0</td>\n",
       "      <td>...</td>\n",
       "      <td>1</td>\n",
       "      <td>0.307227</td>\n",
       "      <td>0.278056</td>\n",
       "      <td>18287</td>\n",
       "      <td>0</td>\n",
       "      <td>0</td>\n",
       "      <td>0</td>\n",
       "      <td>0</td>\n",
       "      <td>0</td>\n",
       "      <td>NaN</td>\n",
       "    </tr>\n",
       "    <tr>\n",
       "      <th>15</th>\n",
       "      <td>419.0</td>\n",
       "      <td>37138</td>\n",
       "      <td>35</td>\n",
       "      <td>NaN</td>\n",
       "      <td>137.0</td>\n",
       "      <td>NaN</td>\n",
       "      <td>NaN</td>\n",
       "      <td>533.0</td>\n",
       "      <td>36902</td>\n",
       "      <td>121.0</td>\n",
       "      <td>...</td>\n",
       "      <td>0</td>\n",
       "      <td>0.114328</td>\n",
       "      <td>0.286437</td>\n",
       "      <td>426</td>\n",
       "      <td>0</td>\n",
       "      <td>0</td>\n",
       "      <td>0</td>\n",
       "      <td>0</td>\n",
       "      <td>0</td>\n",
       "      <td>NaN</td>\n",
       "    </tr>\n",
       "    <tr>\n",
       "      <th>18</th>\n",
       "      <td>1178.0</td>\n",
       "      <td>37138</td>\n",
       "      <td>23</td>\n",
       "      <td>110.0</td>\n",
       "      <td>1004.0</td>\n",
       "      <td>364.0</td>\n",
       "      <td>NaN</td>\n",
       "      <td>4594.0</td>\n",
       "      <td>36902</td>\n",
       "      <td>833.0</td>\n",
       "      <td>...</td>\n",
       "      <td>2</td>\n",
       "      <td>0.270876</td>\n",
       "      <td>0.325043</td>\n",
       "      <td>2612</td>\n",
       "      <td>0</td>\n",
       "      <td>0</td>\n",
       "      <td>0</td>\n",
       "      <td>0</td>\n",
       "      <td>0</td>\n",
       "      <td>NaN</td>\n",
       "    </tr>\n",
       "    <tr>\n",
       "      <th>21</th>\n",
       "      <td>5769.0</td>\n",
       "      <td>37138</td>\n",
       "      <td>34</td>\n",
       "      <td>30.0</td>\n",
       "      <td>376.0</td>\n",
       "      <td>208.0</td>\n",
       "      <td>NaN</td>\n",
       "      <td>3187.0</td>\n",
       "      <td>36902</td>\n",
       "      <td>2641.0</td>\n",
       "      <td>...</td>\n",
       "      <td>1</td>\n",
       "      <td>0.215757</td>\n",
       "      <td>0.306304</td>\n",
       "      <td>18287</td>\n",
       "      <td>0</td>\n",
       "      <td>0</td>\n",
       "      <td>0</td>\n",
       "      <td>0</td>\n",
       "      <td>0</td>\n",
       "      <td>96.00</td>\n",
       "    </tr>\n",
       "  </tbody>\n",
       "</table>\n",
       "<p>5 rows × 28 columns</p>\n",
       "</div>"
      ],
      "text/plain": [
       "    country  description  designation_len_modify  price  province  region_1  \\\n",
       "id                                                                            \n",
       "5    6719.0        37138                      33   95.0    1208.0     179.0   \n",
       "14   6719.0        37138                       0   26.0     384.0     261.0   \n",
       "15    419.0        37138                      35    NaN     137.0       NaN   \n",
       "18   1178.0        37138                      23  110.0    1004.0     364.0   \n",
       "21   5769.0        37138                      34   30.0     376.0     208.0   \n",
       "\n",
       "    region_2  taster_name  title  variety     ...      price_modify  \\\n",
       "id                                            ...                     \n",
       "5        NaN       7738.0  36902   3530.0     ...                 1   \n",
       "14       NaN       7738.0  36902     44.0     ...                 1   \n",
       "15       NaN        533.0  36902    121.0     ...                 0   \n",
       "18       NaN       4594.0  36902    833.0     ...                 2   \n",
       "21       NaN       3187.0  36902   2641.0     ...                 1   \n",
       "\n",
       "    variety_modify  province_modify  continent  grade_germany  grade_italy  \\\n",
       "id                                                                           \n",
       "5         0.229454         0.257697      18287              0            0   \n",
       "14        0.307227         0.278056      18287              0            0   \n",
       "15        0.114328         0.286437        426              0            0   \n",
       "18        0.270876         0.325043       2612              0            0   \n",
       "21        0.215757         0.306304      18287              0            0   \n",
       "\n",
       "    grade_spain  grade_france  aged  Rating_Avg  \n",
       "id                                               \n",
       "5             0             3     0       89.25  \n",
       "14            0             0     0         NaN  \n",
       "15            0             0     0         NaN  \n",
       "18            0             0     0         NaN  \n",
       "21            0             0     0       96.00  \n",
       "\n",
       "[5 rows x 28 columns]"
      ]
     },
     "execution_count": 82,
     "metadata": {},
     "output_type": "execute_result"
    }
   ],
   "source": [
    "X_test_set.head(5)"
   ]
  },
  {
   "cell_type": "code",
   "execution_count": null,
   "metadata": {},
   "outputs": [],
   "source": []
  },
  {
   "cell_type": "code",
   "execution_count": 83,
   "metadata": {},
   "outputs": [],
   "source": [
    "#normalized\n",
    "\n",
    "import pandas as pd\n",
    "from sklearn import preprocessing\n",
    "\n",
    "x = X.values #returns a numpy array\n",
    "min_max_scaler = preprocessing.MinMaxScaler()\n",
    "x_scaled = min_max_scaler.fit_transform(x)\n",
    "X = pd.DataFrame(x_scaled)\n",
    "\n",
    "\n",
    "x = X_test_set.values #returns a numpy array\n",
    "min_max_scaler = preprocessing.MinMaxScaler()\n",
    "x_scaled = min_max_scaler.fit_transform(x)\n",
    "X_test_set = pd.DataFrame(x_scaled)"
   ]
  },
  {
   "cell_type": "code",
   "execution_count": 84,
   "metadata": {},
   "outputs": [],
   "source": [
    "X = X.fillna(X.median())\n",
    "X_test_set = X_test_set.fillna(X_test_set.median())"
   ]
  },
  {
   "cell_type": "code",
   "execution_count": 85,
   "metadata": {},
   "outputs": [],
   "source": [
    "# train, test 구분\n",
    "X_train, X_test, y_train, y_test = train_test_split(X, y, test_size=0.3, random_state=0)"
   ]
  },
  {
   "cell_type": "markdown",
   "metadata": {},
   "source": [
    "## 걍 Linear Model"
   ]
  },
  {
   "cell_type": "code",
   "execution_count": 88,
   "metadata": {},
   "outputs": [
    {
     "data": {
      "text/plain": [
       "2.5431736805792813"
      ]
     },
     "execution_count": 88,
     "metadata": {},
     "output_type": "execute_result"
    }
   ],
   "source": [
    "from sklearn import linear_model\n",
    "lm = linear_model.LinearRegression()\n",
    "model = lm.fit(X_train, y_train)\n",
    "predictions = lm.predict(X_test)\n",
    "sqrt(mean_squared_error(y_test, predictions))\n"
   ]
  },
  {
   "cell_type": "code",
   "execution_count": 89,
   "metadata": {},
   "outputs": [
    {
     "data": {
      "text/plain": [
       "0     -0.612743\n",
       "1      0.159601\n",
       "2      0.937426\n",
       "3     63.807185\n",
       "4     -0.073799\n",
       "5      0.174420\n",
       "6      0.643749\n",
       "7     -0.228727\n",
       "8     -0.144791\n",
       "9      0.206263\n",
       "10    -0.934769\n",
       "11    -0.699213\n",
       "12     1.887684\n",
       "13     2.261887\n",
       "14     0.937426\n",
       "15     0.616709\n",
       "16    63.724994\n",
       "17    -1.990029\n",
       "18   -29.986675\n",
       "19    -0.587162\n",
       "20     0.189330\n",
       "21     0.906889\n",
       "22     1.409113\n",
       "23    -0.084706\n",
       "24    -2.794672\n",
       "25     1.180923\n",
       "26    -0.144533\n",
       "27     0.775380\n",
       "dtype: float64"
      ]
     },
     "execution_count": 89,
     "metadata": {},
     "output_type": "execute_result"
    }
   ],
   "source": [
    "pd.Series(lm.coef_.flatten(), index=X.columns)"
   ]
  },
  {
   "cell_type": "code",
   "execution_count": null,
   "metadata": {},
   "outputs": [],
   "source": []
  },
  {
   "cell_type": "markdown",
   "metadata": {},
   "source": [
    "## Ridge coefficients"
   ]
  },
  {
   "cell_type": "code",
   "execution_count": 15,
   "metadata": {
    "scrolled": true
   },
   "outputs": [
    {
     "data": {
      "image/png": "[encoded data removed]",
      "text/plain": [
       "<Figure size 432x288 with 1 Axes>"
      ]
     },
     "metadata": {
      "needs_background": "light"
     },
     "output_type": "display_data"
    }
   ],
   "source": [
    "alphas = 10**np.linspace(10,-2,100)*0.5\n",
    "\n",
    "ridge = Ridge()\n",
    "coefs = []\n",
    "\n",
    "for a in alphas:\n",
    "    ridge.set_params(alpha=a)\n",
    "    ridge.fit(scale(X), y)\n",
    "    coefs.append(ridge.coef_)\n",
    "\n",
    "ax = plt.gca()\n",
    "ax.plot(alphas, coefs)\n",
    "ax.set_xscale('log')\n",
    "ax.set_xlim(ax.get_xlim()[::-1])  # reverse axis\n",
    "plt.axis('tight')\n",
    "plt.xlabel('alpha')\n",
    "plt.ylabel('weights')\n",
    "plt.title('Ridge coefficients as a function of the regularization');"
   ]
  },
  {
   "cell_type": "code",
   "execution_count": 90,
   "metadata": {},
   "outputs": [
    {
     "data": {
      "text/plain": [
       "RidgeCV(alphas=array([5.00000e+09, 3.78232e+09, ..., 6.60971e-03, 5.00000e-03]),\n",
       "    cv=None, fit_intercept=True, gcv_mode=None, normalize=False,\n",
       "    scoring='neg_mean_squared_error', store_cv_values=False)"
      ]
     },
     "execution_count": 90,
     "metadata": {},
     "output_type": "execute_result"
    }
   ],
   "source": [
    "ridgecv = RidgeCV(alphas=alphas, scoring='neg_mean_squared_error')\n",
    "ridgecv.fit(scale(X_train), y_train)"
   ]
  },
  {
   "cell_type": "code",
   "execution_count": 91,
   "metadata": {},
   "outputs": [
    {
     "data": {
      "text/plain": [
       "1077.2173450159412"
      ]
     },
     "execution_count": 91,
     "metadata": {},
     "output_type": "execute_result"
    }
   ],
   "source": [
    "ridgecv.alpha_"
   ]
  },
  {
   "cell_type": "code",
   "execution_count": 92,
   "metadata": {},
   "outputs": [
    {
     "data": {
      "text/plain": [
       "2.5459033379546456"
      ]
     },
     "execution_count": 92,
     "metadata": {},
     "output_type": "execute_result"
    }
   ],
   "source": [
    "ridge.set_params(alpha=ridgecv.alpha_)\n",
    "ridge.fit(scale(X_train), y_train)\n",
    "sqrt(mean_squared_error(y_test, ridge.predict(scale(X_test))))"
   ]
  },
  {
   "cell_type": "code",
   "execution_count": 93,
   "metadata": {
    "scrolled": true
   },
   "outputs": [
    {
     "data": {
      "text/plain": [
       "0    -0.215514\n",
       "1     0.033300\n",
       "2     0.101260\n",
       "3     0.886992\n",
       "4    -0.033985\n",
       "5     0.043694\n",
       "6     0.145096\n",
       "7    -0.067226\n",
       "8    -0.032066\n",
       "9     0.076513\n",
       "10   -0.291112\n",
       "11   -0.037903\n",
       "12    0.143637\n",
       "13    0.609894\n",
       "14    0.101260\n",
       "15    0.094895\n",
       "16    0.927408\n",
       "17   -0.380073\n",
       "18   -1.106249\n",
       "19   -0.057589\n",
       "20    0.016773\n",
       "21    0.243876\n",
       "22    0.064155\n",
       "23   -0.008455\n",
       "24   -0.072912\n",
       "25    0.143397\n",
       "26   -0.030794\n",
       "27    0.073306\n",
       "dtype: float64"
      ]
     },
     "execution_count": 93,
     "metadata": {},
     "output_type": "execute_result"
    }
   ],
   "source": [
    "pd.Series(ridge.coef_.flatten(), index=X.columns)"
   ]
  },
  {
   "cell_type": "code",
   "execution_count": null,
   "metadata": {},
   "outputs": [],
   "source": []
  },
  {
   "cell_type": "markdown",
   "metadata": {},
   "source": [
    "## Lasso coefficients"
   ]
  },
  {
   "cell_type": "code",
   "execution_count": 20,
   "metadata": {},
   "outputs": [
    {
     "data": {
      "image/png": "[encoded data removed]",
      "text/plain": [
       "<Figure size 432x288 with 1 Axes>"
      ]
     },
     "metadata": {
      "needs_background": "light"
     },
     "output_type": "display_data"
    }
   ],
   "source": [
    "lasso = Lasso(max_iter=10000)\n",
    "coefs = []\n",
    "\n",
    "for a in alphas*2:\n",
    "    lasso.set_params(alpha=a)\n",
    "    lasso.fit(scale(X_train), y_train)\n",
    "    coefs.append(lasso.coef_)\n",
    "\n",
    "ax = plt.gca()\n",
    "ax.plot(alphas*2, coefs)\n",
    "ax.set_xscale('log')\n",
    "ax.set_xlim(ax.get_xlim()[::-1])  # reverse axis\n",
    "plt.axis('tight')\n",
    "plt.xlabel('alpha')\n",
    "plt.ylabel('weights')\n",
    "plt.title('Lasso coefficients as a function of the regularization');"
   ]
  },
  {
   "cell_type": "code",
   "execution_count": 94,
   "metadata": {},
   "outputs": [
    {
     "data": {
      "text/plain": [
       "LassoCV(alphas=None, copy_X=True, cv=10, eps=0.001, fit_intercept=True,\n",
       "    max_iter=10000, n_alphas=100, n_jobs=None, normalize=False,\n",
       "    positive=False, precompute='auto', random_state=None,\n",
       "    selection='cyclic', tol=0.0001, verbose=False)"
      ]
     },
     "execution_count": 94,
     "metadata": {},
     "output_type": "execute_result"
    }
   ],
   "source": [
    "lassocv = LassoCV(alphas=None, cv=10, max_iter=10000)\n",
    "lassocv.fit(scale(X_train), y_train.as_matrix().ravel())"
   ]
  },
  {
   "cell_type": "code",
   "execution_count": 95,
   "metadata": {},
   "outputs": [
    {
     "data": {
      "text/plain": [
       "0.00412179160463401"
      ]
     },
     "execution_count": 95,
     "metadata": {},
     "output_type": "execute_result"
    }
   ],
   "source": [
    "lassocv.alpha_"
   ]
  },
  {
   "cell_type": "code",
   "execution_count": 96,
   "metadata": {},
   "outputs": [
    {
     "data": {
      "text/plain": [
       "2.5431170633281757"
      ]
     },
     "execution_count": 96,
     "metadata": {},
     "output_type": "execute_result"
    }
   ],
   "source": [
    "lasso.set_params(alpha=lassocv.alpha_)\n",
    "lasso.fit(scale(X_train), y_train)\n",
    "sqrt(mean_squared_error(y_test, lasso.predict(scale(X_test))))"
   ]
  },
  {
   "cell_type": "code",
   "execution_count": 97,
   "metadata": {},
   "outputs": [
    {
     "data": {
      "text/plain": [
       "0    -0.222912\n",
       "1     0.000441\n",
       "2     0.000000\n",
       "3     0.000000\n",
       "4    -0.026204\n",
       "5     0.037561\n",
       "6     0.137253\n",
       "7    -0.056050\n",
       "8    -0.000000\n",
       "9     0.065033\n",
       "10   -0.292703\n",
       "11   -0.030853\n",
       "12    0.142182\n",
       "13    0.613572\n",
       "14    0.198123\n",
       "15    0.087641\n",
       "16    1.947265\n",
       "17   -0.310329\n",
       "18   -1.255676\n",
       "19   -0.051499\n",
       "20    0.010900\n",
       "21    0.236410\n",
       "22    0.063750\n",
       "23   -0.004908\n",
       "24   -0.068760\n",
       "25    0.140839\n",
       "26   -0.026843\n",
       "27    0.068907\n",
       "dtype: float64"
      ]
     },
     "execution_count": 97,
     "metadata": {},
     "output_type": "execute_result"
    }
   ],
   "source": [
    "pd.Series(lasso.coef_, index=X.columns)"
   ]
  },
  {
   "cell_type": "code",
   "execution_count": null,
   "metadata": {},
   "outputs": [],
   "source": []
  },
  {
   "cell_type": "markdown",
   "metadata": {},
   "source": [
    "## PCR (Principal Components Regression)"
   ]
  },
  {
   "cell_type": "code",
   "execution_count": 98,
   "metadata": {},
   "outputs": [
    {
     "name": "stdout",
     "output_type": "stream",
     "text": [
      "(90980, 28)\n"
     ]
    },
    {
     "data": {
      "text/html": [
       "<div>\n",
       "<style scoped>\n",
       "    .dataframe tbody tr th:only-of-type {\n",
       "        vertical-align: middle;\n",
       "    }\n",
       "\n",
       "    .dataframe tbody tr th {\n",
       "        vertical-align: top;\n",
       "    }\n",
       "\n",
       "    .dataframe thead th {\n",
       "        text-align: right;\n",
       "    }\n",
       "</style>\n",
       "<table border=\"1\" class=\"dataframe\">\n",
       "  <thead>\n",
       "    <tr style=\"text-align: right;\">\n",
       "      <th></th>\n",
       "      <th>0</th>\n",
       "      <th>1</th>\n",
       "      <th>2</th>\n",
       "      <th>3</th>\n",
       "      <th>4</th>\n",
       "      <th>5</th>\n",
       "    </tr>\n",
       "  </thead>\n",
       "  <tbody>\n",
       "    <tr>\n",
       "      <th>0</th>\n",
       "      <td>-2.030363</td>\n",
       "      <td>1.062618</td>\n",
       "      <td>0.235529</td>\n",
       "      <td>-0.108991</td>\n",
       "      <td>-0.813978</td>\n",
       "      <td>-0.309324</td>\n",
       "    </tr>\n",
       "    <tr>\n",
       "      <th>1</th>\n",
       "      <td>-1.453365</td>\n",
       "      <td>2.123914</td>\n",
       "      <td>-1.693879</td>\n",
       "      <td>3.522590</td>\n",
       "      <td>1.526961</td>\n",
       "      <td>0.016019</td>\n",
       "    </tr>\n",
       "    <tr>\n",
       "      <th>2</th>\n",
       "      <td>-2.037659</td>\n",
       "      <td>0.417614</td>\n",
       "      <td>1.588837</td>\n",
       "      <td>-0.783603</td>\n",
       "      <td>0.636455</td>\n",
       "      <td>0.371170</td>\n",
       "    </tr>\n",
       "    <tr>\n",
       "      <th>3</th>\n",
       "      <td>2.179057</td>\n",
       "      <td>0.629817</td>\n",
       "      <td>-1.372578</td>\n",
       "      <td>2.902368</td>\n",
       "      <td>2.292497</td>\n",
       "      <td>0.687215</td>\n",
       "    </tr>\n",
       "    <tr>\n",
       "      <th>4</th>\n",
       "      <td>-0.143475</td>\n",
       "      <td>0.785357</td>\n",
       "      <td>-0.241162</td>\n",
       "      <td>-1.342350</td>\n",
       "      <td>1.234189</td>\n",
       "      <td>-0.448386</td>\n",
       "    </tr>\n",
       "  </tbody>\n",
       "</table>\n",
       "</div>"
      ],
      "text/plain": [
       "          0         1         2         3         4         5\n",
       "0 -2.030363  1.062618  0.235529 -0.108991 -0.813978 -0.309324\n",
       "1 -1.453365  2.123914 -1.693879  3.522590  1.526961  0.016019\n",
       "2 -2.037659  0.417614  1.588837 -0.783603  0.636455  0.371170\n",
       "3  2.179057  0.629817 -1.372578  2.902368  2.292497  0.687215\n",
       "4 -0.143475  0.785357 -0.241162 -1.342350  1.234189 -0.448386"
      ]
     },
     "execution_count": 98,
     "metadata": {},
     "output_type": "execute_result"
    }
   ],
   "source": [
    "pca = PCA()\n",
    "X_reduced = pca.fit_transform(scale(X))\n",
    "print(X_reduced.shape)\n",
    "pd.DataFrame(X_reduced).loc[:4,:5]"
   ]
  },
  {
   "cell_type": "code",
   "execution_count": 99,
   "metadata": {},
   "outputs": [
    {
     "data": {
      "image/png": "[encoded data removed]",
      "text/plain": [
       "<Figure size 432x288 with 1 Axes>"
      ]
     },
     "metadata": {
      "needs_background": "light"
     },
     "output_type": "display_data"
    }
   ],
   "source": [
    "# reduce 결과로 한것\n",
    "pca2 = PCA()\n",
    "X_reduced_train = pca2.fit_transform(scale(X_train))\n",
    "n = len(X_reduced_train)\n",
    "\n",
    "kf_10 = KFold(n_splits=10, shuffle=False, random_state=1)\n",
    "regr = LinearRegression()\n",
    "mse = []\n",
    "\n",
    "score = -1*cross_val_score(regr, np.ones((n,1)), y_train, cv=kf_10, scoring='neg_mean_squared_error').mean()    \n",
    "mse.append(score)\n",
    "\n",
    "for i in np.arange(1, 30):\n",
    "    score = -1*cross_val_score(regr, X_reduced_train[:,:i], y_train, cv=kf_10, scoring='neg_mean_squared_error').mean()\n",
    "    mse.append(score)\n",
    "\n",
    "plt.plot(np.array(mse), '-v')\n",
    "plt.xlabel('Number of principal components in regression')\n",
    "plt.ylabel('MSE')\n",
    "plt.title('Points')\n",
    "plt.xlim(xmin=-1);"
   ]
  },
  {
   "cell_type": "code",
   "execution_count": 100,
   "metadata": {},
   "outputs": [
    {
     "data": {
      "text/plain": [
       "2.661868509265472"
      ]
     },
     "execution_count": 100,
     "metadata": {},
     "output_type": "execute_result"
    }
   ],
   "source": [
    "X_reduced_test = pca2.transform(scale(X_test))[:,:10]\n",
    "\n",
    "# Train regression model on training data \n",
    "regr = LinearRegression()\n",
    "regr.fit(X_reduced_train[:,:10], y_train)\n",
    "\n",
    "# Prediction with test data\n",
    "pred = regr.predict(X_reduced_test)\n",
    "mean_squared_error(y_test, pred)**0.5"
   ]
  },
  {
   "cell_type": "code",
   "execution_count": null,
   "metadata": {},
   "outputs": [],
   "source": []
  },
  {
   "cell_type": "markdown",
   "metadata": {},
   "source": [
    "## Partial Least Squares"
   ]
  },
  {
   "cell_type": "code",
   "execution_count": 101,
   "metadata": {},
   "outputs": [
    {
     "data": {
      "image/png": "[encoded data removed]",
      "text/plain": [
       "<Figure size 432x288 with 1 Axes>"
      ]
     },
     "metadata": {
      "needs_background": "light"
     },
     "output_type": "display_data"
    }
   ],
   "source": [
    "\n",
    "n = len(X_train)\n",
    "\n",
    "kf_10 = KFold(n_splits=10, shuffle=False, random_state=1)\n",
    "\n",
    "mse = []\n",
    "\n",
    "for i in np.arange(1,10):\n",
    "    pls = PLSRegression(n_components=i)\n",
    "    score = cross_val_score(pls, scale(X_train), y_train, cv=kf_10, scoring='neg_mean_squared_error').mean()\n",
    "    mse.append(-score)\n",
    "\n",
    "plt.plot(np.arange(1, 10), np.array(mse), '-v')\n",
    "plt.xlabel('Number of principal components in regression')\n",
    "plt.ylabel('MSE')\n",
    "plt.title('Points')\n",
    "plt.xlim(xmin=-1);\n"
   ]
  },
  {
   "cell_type": "code",
   "execution_count": 102,
   "metadata": {},
   "outputs": [
    {
     "data": {
      "text/plain": [
       "2.542741764310806"
      ]
     },
     "execution_count": 102,
     "metadata": {},
     "output_type": "execute_result"
    }
   ],
   "source": [
    "pls = PLSRegression(n_components=8)\n",
    "pls.fit(scale(X_train), y_train)\n",
    "\n",
    "sqrt(mean_squared_error(y_test, pls.predict(scale(X_test))))\n"
   ]
  },
  {
   "cell_type": "code",
   "execution_count": null,
   "metadata": {},
   "outputs": [],
   "source": []
  },
  {
   "cell_type": "code",
   "execution_count": null,
   "metadata": {},
   "outputs": [],
   "source": [
    "GBR = GradientBoostingRegressor(loss=’ls’, learning_rate=0.1)\n",
    "GBR.fit(scale(X_train), y_train)\n",
    "\n",
    "sqrt(mean_squared_error(y_test, pls.predict(scale(X_test))))"
   ]
  },
  {
   "cell_type": "code",
   "execution_count": null,
   "metadata": {},
   "outputs": [],
   "source": []
  },
  {
   "cell_type": "code",
   "execution_count": null,
   "metadata": {},
   "outputs": [],
   "source": []
  },
  {
   "cell_type": "markdown",
   "metadata": {},
   "source": [
    "## RandomForestRegressor"
   ]
  },
  {
   "cell_type": "code",
   "execution_count": 103,
   "metadata": {},
   "outputs": [
    {
     "data": {
      "text/plain": [
       "2.5459033379546456"
      ]
     },
     "execution_count": 103,
     "metadata": {},
     "output_type": "execute_result"
    }
   ],
   "source": [
    "from sklearn.ensemble import RandomForestRegressor\n",
    "rfr = RandomForestRegressor(n_estimators=10, random_state=1)\n",
    "rfr.fit(scale(X_train), y_train)\n",
    "mean_squared_error(y_test, ridge.predict(scale(X_test)))**0.5"
   ]
  },
  {
   "cell_type": "code",
   "execution_count": null,
   "metadata": {},
   "outputs": [],
   "source": []
  },
  {
   "cell_type": "markdown",
   "metadata": {},
   "source": [
    "## ensemble"
   ]
  },
  {
   "cell_type": "code",
   "execution_count": 31,
   "metadata": {},
   "outputs": [
    {
     "ename": "ImportError",
     "evalue": "cannot import name 'VotingRegressor' from 'sklearn.ensemble' (/home/anaconda/lib/python3.7/site-packages/sklearn/ensemble/__init__.py)",
     "output_type": "error",
     "traceback": [
      "\u001b[0;31m---------------------------------------------------------------------------\u001b[0m",
      "\u001b[0;31mImportError\u001b[0m                               Traceback (most recent call last)",
      "\u001b[0;32m<ipython-input-31-53df838daec1>\u001b[0m in \u001b[0;36m<module>\u001b[0;34m\u001b[0m\n\u001b[1;32m      2\u001b[0m \u001b[0;32mfrom\u001b[0m \u001b[0msklearn\u001b[0m\u001b[0;34m.\u001b[0m\u001b[0mlinear_model\u001b[0m \u001b[0;32mimport\u001b[0m \u001b[0mLinearRegression\u001b[0m\u001b[0;34m\u001b[0m\u001b[0;34m\u001b[0m\u001b[0m\n\u001b[1;32m      3\u001b[0m \u001b[0;32mfrom\u001b[0m \u001b[0msklearn\u001b[0m\u001b[0;34m.\u001b[0m\u001b[0mensemble\u001b[0m \u001b[0;32mimport\u001b[0m \u001b[0mRandomForestRegressor\u001b[0m\u001b[0;34m\u001b[0m\u001b[0;34m\u001b[0m\u001b[0m\n\u001b[0;32m----> 4\u001b[0;31m \u001b[0;32mfrom\u001b[0m \u001b[0msklearn\u001b[0m\u001b[0;34m.\u001b[0m\u001b[0mensemble\u001b[0m \u001b[0;32mimport\u001b[0m \u001b[0mVotingRegressor\u001b[0m\u001b[0;34m\u001b[0m\u001b[0;34m\u001b[0m\u001b[0m\n\u001b[0m\u001b[1;32m      5\u001b[0m \u001b[0;31m#r1 = LinearRegression()\u001b[0m\u001b[0;34m\u001b[0m\u001b[0;34m\u001b[0m\u001b[0;34m\u001b[0m\u001b[0m\n\u001b[1;32m      6\u001b[0m \u001b[0mr1\u001b[0m \u001b[0;34m=\u001b[0m \u001b[0mridge\u001b[0m\u001b[0;34m\u001b[0m\u001b[0;34m\u001b[0m\u001b[0m\n",
      "\u001b[0;31mImportError\u001b[0m: cannot import name 'VotingRegressor' from 'sklearn.ensemble' (/home/anaconda/lib/python3.7/site-packages/sklearn/ensemble/__init__.py)"
     ]
    }
   ],
   "source": [
    "import numpy as np\n",
    "from sklearn.linear_model import LinearRegression\n",
    "from sklearn.ensemble import RandomForestRegressor\n",
    "from sklearn.ensemble import VotingRegressor\n",
    "#r1 = LinearRegression()\n",
    "r1 = ridge\n",
    "r2 = lasso\n",
    "r3 = rfr\n",
    "r4 = regr\n",
    "#r5 = pls\n",
    "\n",
    "#er = VotingRegressor([('ridge', r1), ('lasso', r2),('rfr', r3),('regr', r4),('pls',r5)])\n",
    "er = VotingRegressor([('ridge', r1), ('lasso', r2),('rfr', r3),('regr', r4)])\n",
    "er.fit(X_train, y_train)\n",
    "#print(er.fit(X_train, y_train).predict(X_test))\n",
    "mean_squared_error(y_test, er.predict(scale(X_test)))**0.5\n",
    "\n",
    "#er.predict(scale(X_test))\n",
    "#mean_squared_error(y_test, er.predict(scale(X_test)))**0.5"
   ]
  },
  {
   "cell_type": "code",
   "execution_count": null,
   "metadata": {},
   "outputs": [],
   "source": []
  },
  {
   "cell_type": "code",
   "execution_count": null,
   "metadata": {},
   "outputs": [],
   "source": []
  },
  {
   "cell_type": "code",
   "execution_count": null,
   "metadata": {},
   "outputs": [],
   "source": []
  },
  {
   "cell_type": "code",
   "execution_count": null,
   "metadata": {},
   "outputs": [],
   "source": []
  },
  {
   "cell_type": "markdown",
   "metadata": {},
   "source": [
    "## Test_Set에 prediction 넣기"
   ]
  },
  {
   "cell_type": "code",
   "execution_count": 104,
   "metadata": {
    "scrolled": true
   },
   "outputs": [
    {
     "name": "stdout",
     "output_type": "stream",
     "text": [
      "lm : 2.5431736805792813\n",
      "ridge : 2.5459033379546456\n",
      "lasso : 2.5431170633281757\n",
      "regr : 2.661868509265472\n",
      "pls : 2.542741764310806\n",
      "rfr : 2.5459033379546456\n"
     ]
    }
   ],
   "source": [
    "print('lm :',sqrt(mean_squared_error(y_test, predictions)))\n",
    "print('ridge :',sqrt(mean_squared_error(y_test, ridge.predict(scale(X_test)))))\n",
    "print('lasso :',sqrt(mean_squared_error(y_test, lasso.predict(scale(X_test)))))\n",
    "print('regr :',mean_squared_error(y_test, pred)**0.5)\n",
    "print('pls :',sqrt(mean_squared_error(y_test, pls.predict(scale(X_test)))))\n",
    "print('rfr :',mean_squared_error(y_test, ridge.predict(scale(X_test)))**0.5)"
   ]
  },
  {
   "cell_type": "code",
   "execution_count": 105,
   "metadata": {},
   "outputs": [],
   "source": [
    "#test set에 col 추가\n",
    "prediction = lm.predict(X_test_set)\n",
    "X_test_set['prediction'] = prediction"
   ]
  },
  {
   "cell_type": "code",
   "execution_count": 106,
   "metadata": {},
   "outputs": [],
   "source": [
    "X_test_set.to_excel(\"./wine_result.xlsx\")"
   ]
  },
  {
   "cell_type": "code",
   "execution_count": null,
   "metadata": {},
   "outputs": [],
   "source": []
  },
  {
   "cell_type": "code",
   "execution_count": null,
   "metadata": {},
   "outputs": [],
   "source": []
  },
  {
   "cell_type": "code",
   "execution_count": null,
   "metadata": {},
   "outputs": [],
   "source": []
  },
  {
   "cell_type": "code",
   "execution_count": 107,
   "metadata": {},
   "outputs": [],
   "source": [
    "import pandas as pd\n",
    "data = pd.read_excel(\"./train_rev2.xlsx\",index_col=0,parse_dates=[0])\n",
    "data1 = pd.read_excel(\"./test_rev2.xlsx\",index_col=0,parse_dates=[0])"
   ]
  },
  {
   "cell_type": "code",
   "execution_count": 109,
   "metadata": {},
   "outputs": [
    {
     "name": "stderr",
     "output_type": "stream",
     "text": [
      "[nltk_data] Downloading package punkt to /home/ds4user4/nltk_data...\n",
      "[nltk_data]   Unzipping tokenizers/punkt.zip.\n"
     ]
    },
    {
     "data": {
      "text/plain": [
       "True"
      ]
     },
     "execution_count": 109,
     "metadata": {},
     "output_type": "execute_result"
    }
   ],
   "source": [
    "import nltk\n",
    "nltk.download('punkt')"
   ]
  },
  {
   "cell_type": "code",
   "execution_count": 110,
   "metadata": {},
   "outputs": [
    {
     "data": {
      "image/png": "[encoded data removed]",
      "text/plain": [
       "<Figure size 432x288 with 1 Axes>"
      ]
     },
     "metadata": {},
     "output_type": "display_data"
    }
   ],
   "source": []
  },
  {
   "cell_type": "code",
   "execution_count": null,
   "metadata": {},
   "outputs": [],
   "source": []
  },
  {
   "cell_type": "code",
   "execution_count": null,
   "metadata": {},
   "outputs": [],
   "source": []
  },
  {
   "cell_type": "code",
   "execution_count": 4,
   "metadata": {},
   "outputs": [
    {
     "ename": "ImportError",
     "evalue": "cannot import name 'VotingRegressor' from 'sklearn.ensemble' (/home/anaconda/lib/python3.7/site-packages/sklearn/ensemble/__init__.py)",
     "output_type": "error",
     "traceback": [
      "\u001b[0;31m---------------------------------------------------------------------------\u001b[0m",
      "\u001b[0;31mImportError\u001b[0m                               Traceback (most recent call last)",
      "\u001b[0;32m<ipython-input-4-dd4ca06b81ad>\u001b[0m in \u001b[0;36m<module>\u001b[0;34m\u001b[0m\n\u001b[1;32m     14\u001b[0m \u001b[0;32mfrom\u001b[0m \u001b[0msklearn\u001b[0m\u001b[0;34m.\u001b[0m\u001b[0mlinear_model\u001b[0m \u001b[0;32mimport\u001b[0m \u001b[0mSGDRegressor\u001b[0m \u001b[0;32mas\u001b[0m \u001b[0mSGD\u001b[0m\u001b[0;34m\u001b[0m\u001b[0;34m\u001b[0m\u001b[0m\n\u001b[1;32m     15\u001b[0m \u001b[0;32mfrom\u001b[0m \u001b[0msklearn\u001b[0m\u001b[0;34m.\u001b[0m\u001b[0mmodel_selection\u001b[0m \u001b[0;32mimport\u001b[0m \u001b[0mtrain_test_split\u001b[0m\u001b[0;34m\u001b[0m\u001b[0;34m\u001b[0m\u001b[0m\n\u001b[0;32m---> 16\u001b[0;31m \u001b[0;32mfrom\u001b[0m \u001b[0msklearn\u001b[0m\u001b[0;34m.\u001b[0m\u001b[0mensemble\u001b[0m \u001b[0;32mimport\u001b[0m \u001b[0mVotingRegressor\u001b[0m\u001b[0;34m\u001b[0m\u001b[0;34m\u001b[0m\u001b[0m\n\u001b[0m\u001b[1;32m     17\u001b[0m \u001b[0;32mfrom\u001b[0m \u001b[0msklearn\u001b[0m\u001b[0;34m.\u001b[0m\u001b[0mdatasets\u001b[0m \u001b[0;32mimport\u001b[0m \u001b[0mmake_regression\u001b[0m\u001b[0;34m\u001b[0m\u001b[0;34m\u001b[0m\u001b[0m\n\u001b[1;32m     18\u001b[0m \u001b[0;32mfrom\u001b[0m \u001b[0msklearn\u001b[0m \u001b[0;32mimport\u001b[0m \u001b[0mpreprocessing\u001b[0m\u001b[0;34m\u001b[0m\u001b[0;34m\u001b[0m\u001b[0m\n",
      "\u001b[0;31mImportError\u001b[0m: cannot import name 'VotingRegressor' from 'sklearn.ensemble' (/home/anaconda/lib/python3.7/site-packages/sklearn/ensemble/__init__.py)"
     ]
    }
   ],
   "source": []
  },
  {
   "cell_type": "code",
   "execution_count": 6,
   "metadata": {},
   "outputs": [
    {
     "name": "stdout",
     "output_type": "stream",
     "text": [
      "\n",
      "The following command must be run outside of the IPython shell:\n",
      "\n",
      "    $ pip install VotingRegressor\n",
      "\n",
      "The Python package manager (pip) can only be used from outside of IPython.\n",
      "Please reissue the `pip` command in a separate terminal or command prompt.\n",
      "\n",
      "See the Python documentation for more information on how to install packages:\n",
      "\n",
      "    https://docs.python.org/3/installing/\n"
     ]
    }
   ],
   "source": []
  },
  {
   "cell_type": "code",
   "execution_count": null,
   "metadata": {},
   "outputs": [],
   "source": []
  },
  {
   "cell_type": "code",
   "execution_count": null,
   "metadata": {},
   "outputs": [],
   "source": []
  }
 ],
 "metadata": {
  "kernelspec": {
   "display_name": "Python 3.7",
   "language": "python",
   "name": "python3"
  },
  "language_info": {
   "codemirror_mode": {
    "name": "ipython",
    "version": 3
   },
   "file_extension": ".py",
   "mimetype": "text/x-python",
   "name": "python",
   "nbconvert_exporter": "python",
   "pygments_lexer": "ipython3",
   "version": "3.7.1"
  }
 },
 "nbformat": 4,
 "nbformat_minor": 2
}
