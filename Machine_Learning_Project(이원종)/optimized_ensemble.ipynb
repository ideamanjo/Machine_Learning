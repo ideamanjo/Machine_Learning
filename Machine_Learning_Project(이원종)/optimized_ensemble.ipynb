{
 "cells": [
  {
   "cell_type": "code",
   "execution_count": 181,
   "metadata": {},
   "outputs": [],
   "source": [
    "import os\n",
    "os.environ[\"CUDA_VISIBLE_DEVICES\"] = '1,2,3,4,5'"
   ]
  },
  {
   "cell_type": "code",
   "execution_count": 182,
   "metadata": {},
   "outputs": [],
   "source": [
    "import pandas as pd\n",
    "df1 = pd.read_excel(\"./train_rev5.xlsx\",index_col=0,parse_dates=[0])\n",
    "df2 = pd.read_excel(\"./test_rev5.xlsx\",index_col=0,parse_dates=[0])"
   ]
  },
  {
   "cell_type": "code",
   "execution_count": 183,
   "metadata": {},
   "outputs": [],
   "source": [
    "#unique index 바꾸기\n",
    "\n",
    "df1['country'] = df1['country'].map(df1['country'].value_counts())\n",
    "#df1['description'] = df1['description'].map(df1['description'].value_counts())\n",
    "df1['designation'] = df1['designation'].map(df1['designation'].value_counts())\n",
    "df1['province'] = df1['province'].map(df1['province'].value_counts())\n",
    "df1['region_1'] = df1['region_1'].map(df1['region_1'].value_counts())\n",
    "df1['region_2'] = df1['region_2'].map(df1['region_2'].value_counts())\n",
    "df1['taster_name'] = df1['taster_name'].map(df1['taster_name'].value_counts())\n",
    "#df1['taster_twitter_handle'] = df1['taster_twitter_handle'].map(df1['taster_twitter_handle'].value_counts())\n",
    "df1['title'] = df1['title'].map(df1['title'].value_counts())\n",
    "df1['variety'] = df1['variety'].map(df1['variety'].value_counts())\n",
    "df1['winery'] = df1['winery'].map(df1['winery'].value_counts())\n",
    "df1['vintage'] = df1['vintage'].map(df1['vintage'].value_counts())\n",
    "df1['continent'] = df1['continent'].map(df1['continent'].value_counts())\n",
    "df1['description_len'] = df1['description'].astype(str).map(len)\n",
    "\n",
    "\n",
    "\n",
    "df2['country'] = df2['country'].map(df2['country'].value_counts())\n",
    "#df2['description'] = df2['description'].map(df2['description'].value_counts())\n",
    "df2['designation'] = df2['designation'].map(df2['designation'].value_counts())\n",
    "df2['province'] = df2['province'].map(df2['province'].value_counts())\n",
    "df2['region_1'] = df2['region_1'].map(df2['region_1'].value_counts())\n",
    "df2['region_2'] = df2['region_2'].map(df2['region_2'].value_counts())\n",
    "df2['taster_name'] = df2['taster_name'].map(df2['taster_name'].value_counts())\n",
    "#df2['taster_twitter_handle'] = df2['taster_twitter_handle'].map(df2['taster_twitter_handle'].value_counts())\n",
    "df2['title'] = df2['title'].map(df2['title'].value_counts())\n",
    "df2['variety'] = df2['variety'].map(df2['variety'].value_counts())\n",
    "df2['winery'] = df2['winery'].map(df2['winery'].value_counts())\n",
    "df2['vintage'] = df2['vintage'].map(df2['vintage'].value_counts())\n",
    "df2['continent'] = df2['continent'].map(df2['continent'].value_counts())\n",
    "df2['description_len'] = df2['description'].astype(str).map(len)"
   ]
  },
  {
   "cell_type": "code",
   "execution_count": 191,
   "metadata": {},
   "outputs": [],
   "source": [
    "y = df1.points  \n",
    "X = df1[['price','vintage','vintage_','price_modify','grade_germany', 'grade_italy','grade_spain','grade_france','grade_italy','grade_spain','grade_france','description_len','designation_len_modify','Rating_Avg','pre_points']]\n",
    "X_test_set = df2[['price','vintage','vintage_','price_modify','grade_germany', 'grade_italy','grade_spain','grade_france','grade_italy','grade_spain','grade_france','description_len','designation_len_modify','Rating_Avg','pre_points']]\n",
    "\n",
    "#X = df1[['country','price','province','region_1', 'region_2', 'taster_name', 'title','variety','winery','vintage','vintage_','taster_name_q2_modify','price_modify','province_modify','continent',  'grade_germany', 'grade_italy','grade_spain','grade_france','grade_italy','grade_spain','grade_france','description_len','designation','Rating_Avg','pre_points']]\n",
    "#X_test_set = df2[['country','price', 'province','region_1', 'region_2', 'taster_name', 'title','variety','winery','vintage','vintage_','taster_name_q2_modify','price_modify','province_modify','continent',  'grade_germany', 'grade_italy','grade_spain','grade_france','grade_italy','grade_spain','grade_france','description_len','designation','Rating_Avg','pre_points']]\n"
   ]
  },
  {
   "cell_type": "code",
   "execution_count": 192,
   "metadata": {},
   "outputs": [],
   "source": [
    "#normalized\n",
    "\n",
    "import pandas as pd\n",
    "from sklearn import preprocessing\n",
    "\n",
    "x = X.values #returns a numpy array\n",
    "min_max_scaler = preprocessing.MinMaxScaler()\n",
    "x_scaled = min_max_scaler.fit_transform(x)\n",
    "X = pd.DataFrame(x_scaled)\n"
   ]
  },
  {
   "cell_type": "code",
   "execution_count": 193,
   "metadata": {},
   "outputs": [],
   "source": [
    "X = X.fillna((0))"
   ]
  },
  {
   "cell_type": "code",
   "execution_count": 194,
   "metadata": {},
   "outputs": [],
   "source": [
    "import numpy as np\n",
    "import random\n",
    "from tqdm import tqdm\n",
    "from sklearn.metrics import mean_absolute_error as mae\n",
    "from sklearn.metrics import mean_squared_error as mse\n",
    "from sklearn.linear_model import LinearRegression as LR\n",
    "from sklearn.ensemble import RandomForestRegressor as RFR\n",
    "from sklearn.svm import SVR \n",
    "from sklearn.ensemble import AdaBoostRegressor as ADA\n",
    "from sklearn.ensemble import BaggingRegressor as BAG\n",
    "from sklearn.ensemble import GradientBoostingRegressor as GBR\n",
    "from sklearn.linear_model import RANSACRegressor as RAN\n",
    "from sklearn.linear_model import PassiveAggressiveRegressor as PAR\n",
    "from sklearn.linear_model import SGDRegressor as SGD\n",
    "from sklearn.model_selection import train_test_split\n",
    "from sklearn.ensemble import VotingRegressor\n",
    "from sklearn.datasets import make_regression\n",
    "from sklearn import preprocessing\n",
    "import pandas as pd\n",
    "import numpy as np\n",
    "import matplotlib.pyplot as plt\n",
    "import seaborn as sns\n",
    "\n",
    "from sklearn.linear_model import LinearRegression, Ridge, RidgeCV, Lasso, LassoCV\n",
    "from sklearn.decomposition import PCA\n",
    "from sklearn.cross_decomposition import PLSRegression\n",
    "from sklearn.model_selection import KFold, cross_val_score\n",
    "from sklearn.preprocessing import scale \n",
    "from sklearn import model_selection\n",
    "from sklearn.metrics import mean_squared_error\n",
    "from sklearn.model_selection import train_test_split, cross_val_score\n",
    "import warnings\n",
    "warnings.filterwarnings('ignore')\n",
    "from sklearn.metrics import mean_squared_error\n",
    "from math import sqrt\n",
    "from keras.layers import LSTM \n",
    "from keras.models import Sequential \n",
    "from keras.layers import Dense \n",
    "import keras.backend as K \n",
    "from keras.callbacks import EarlyStopping \n",
    "\n",
    "%matplotlib inline\n",
    "plt.style.use('seaborn-white')"
   ]
  },
  {
   "cell_type": "code",
   "execution_count": 188,
   "metadata": {},
   "outputs": [
    {
     "name": "stderr",
     "output_type": "stream",
     "text": [
      "  8%|▊         | 4/50 [00:06<01:12,  1.57s/it]"
     ]
    },
    {
     "name": "stdout",
     "output_type": "stream",
     "text": [
      "second derivative:  -0.30454951366809446\n",
      "first derivative:  0.012111457339826437\n",
      "featness:  8.255222223997185\n"
     ]
    },
    {
     "name": "stderr",
     "output_type": "stream",
     "text": [
      "\r",
      " 10%|█         | 5/50 [00:07<01:09,  1.55s/it]"
     ]
    },
    {
     "name": "stdout",
     "output_type": "stream",
     "text": [
      "second derivative:  -0.6005922402790791\n",
      "first derivative:  0.5884807829392527\n",
      "featness:  8.22356155601358\n"
     ]
    },
    {
     "name": "stderr",
     "output_type": "stream",
     "text": [
      "\r",
      " 12%|█▏        | 6/50 [00:09<01:07,  1.53s/it]"
     ]
    },
    {
     "name": "stdout",
     "output_type": "stream",
     "text": [
      "second derivative:  0.7505963035163115\n",
      "first derivative:  0.1621155205770588\n",
      "featness:  8.579453265151303\n"
     ]
    },
    {
     "name": "stderr",
     "output_type": "stream",
     "text": [
      "\r",
      " 14%|█▍        | 7/50 [00:10<01:06,  1.54s/it]"
     ]
    },
    {
     "name": "stdout",
     "output_type": "stream",
     "text": [
      "second derivative:  0.3659109164464711\n",
      "first derivative:  0.5280264370235299\n",
      "featness:  9.27961443006064\n"
     ]
    },
    {
     "name": "stderr",
     "output_type": "stream",
     "text": [
      "\r",
      " 16%|█▌        | 8/50 [00:12<01:07,  1.60s/it]"
     ]
    },
    {
     "name": "stdout",
     "output_type": "stream",
     "text": [
      "second derivative:  -0.5000569529342087\n",
      "first derivative:  0.027969484089321206\n",
      "featness:  8.635392233329945\n"
     ]
    },
    {
     "name": "stderr",
     "output_type": "stream",
     "text": [
      "\r",
      " 18%|█▊        | 9/50 [00:13<01:04,  1.56s/it]"
     ]
    },
    {
     "name": "stdout",
     "output_type": "stream",
     "text": [
      "second derivative:  -0.19338119468000148\n",
      "first derivative:  0.16541171059068027\n",
      "featness:  8.94879100887928\n"
     ]
    },
    {
     "name": "stderr",
     "output_type": "stream",
     "text": [
      "\r",
      " 20%|██        | 10/50 [00:15<01:00,  1.51s/it]"
     ]
    },
    {
     "name": "stdout",
     "output_type": "stream",
     "text": [
      "second derivative:  -0.04993901736907791\n",
      "first derivative:  0.21535072795975818\n",
      "featness:  8.204690777410429\n"
     ]
    },
    {
     "name": "stderr",
     "output_type": "stream",
     "text": [
      "\r",
      " 22%|██▏       | 11/50 [00:16<00:57,  1.47s/it]"
     ]
    },
    {
     "name": "stdout",
     "output_type": "stream",
     "text": [
      "second derivative:  0.204923418202414\n",
      "first derivative:  0.010427309757344183\n",
      "featness:  8.927936389364591\n"
     ]
    },
    {
     "name": "stderr",
     "output_type": "stream",
     "text": [
      "\r",
      " 24%|██▍       | 12/50 [00:18<00:55,  1.45s/it]"
     ]
    },
    {
     "name": "stdout",
     "output_type": "stream",
     "text": [
      "second derivative:  0.1669598663890497\n",
      "first derivative:  0.1565325566317055\n",
      "featness:  8.51775589067384\n"
     ]
    },
    {
     "name": "stderr",
     "output_type": "stream",
     "text": [
      "\r",
      " 26%|██▌       | 13/50 [00:19<00:53,  1.44s/it]"
     ]
    },
    {
     "name": "stdout",
     "output_type": "stream",
     "text": [
      "second derivative:  -0.43344393247177315\n",
      "first derivative:  0.27691137584006764\n",
      "featness:  8.374113637684456\n"
     ]
    },
    {
     "name": "stderr",
     "output_type": "stream",
     "text": [
      "\r",
      " 28%|██▊       | 14/50 [00:20<00:51,  1.42s/it]"
     ]
    },
    {
     "name": "stdout",
     "output_type": "stream",
     "text": [
      "second derivative:  0.21729989284650308\n",
      "first derivative:  0.05961148299356456\n",
      "featness:  8.39853292468671\n"
     ]
    },
    {
     "name": "stderr",
     "output_type": "stream",
     "text": [
      "\r",
      " 30%|███       | 15/50 [00:22<00:48,  1.40s/it]"
     ]
    },
    {
     "name": "stdout",
     "output_type": "stream",
     "text": [
      "second derivative:  0.17363919674924677\n",
      "first derivative:  0.11402771375568221\n",
      "featness:  8.60216906519582\n"
     ]
    },
    {
     "name": "stderr",
     "output_type": "stream",
     "text": [
      "\r",
      " 32%|███▏      | 16/50 [00:23<00:46,  1.37s/it]"
     ]
    },
    {
     "name": "stdout",
     "output_type": "stream",
     "text": [
      "second derivative:  0.49405720384226104\n",
      "first derivative:  0.6080849175979433\n",
      "featness:  9.614702759882597\n"
     ]
    },
    {
     "name": "stderr",
     "output_type": "stream",
     "text": [
      "\r",
      " 34%|███▍      | 17/50 [00:24<00:45,  1.37s/it]"
     ]
    },
    {
     "name": "stdout",
     "output_type": "stream",
     "text": [
      "second derivative:  -0.34958300100130657\n",
      "first derivative:  0.2585019165966367\n",
      "featness:  9.119172898389094\n"
     ]
    },
    {
     "name": "stderr",
     "output_type": "stream",
     "text": [
      "\r",
      " 36%|███▌      | 18/50 [00:26<00:43,  1.36s/it]"
     ]
    },
    {
     "name": "stdout",
     "output_type": "stream",
     "text": [
      "second derivative:  -0.05042750578602462\n",
      "first derivative:  0.20807441081061206\n",
      "featness:  10.030851581503821\n"
     ]
    },
    {
     "name": "stderr",
     "output_type": "stream",
     "text": [
      "\r",
      " 38%|███▊      | 19/50 [00:27<00:41,  1.35s/it]"
     ]
    },
    {
     "name": "stdout",
     "output_type": "stream",
     "text": [
      "second derivative:  -0.13866315903870863\n",
      "first derivative:  0.06941125177190344\n",
      "featness:  9.2579954019329\n"
     ]
    },
    {
     "name": "stderr",
     "output_type": "stream",
     "text": [
      "\r",
      " 40%|████      | 20/50 [00:29<00:41,  1.38s/it]"
     ]
    },
    {
     "name": "stdout",
     "output_type": "stream",
     "text": [
      "second derivative:  -1.0262234749392771\n",
      "first derivative:  0.9568122231673737\n",
      "featness:  8.117227135169074\n"
     ]
    },
    {
     "name": "stderr",
     "output_type": "stream",
     "text": [
      "\r",
      " 42%|████▏     | 21/50 [00:30<00:41,  1.45s/it]"
     ]
    },
    {
     "name": "stdout",
     "output_type": "stream",
     "text": [
      "second derivative:  0.7475657122968036\n",
      "first derivative:  0.2092465108705701\n",
      "featness:  8.83950238019176\n"
     ]
    },
    {
     "name": "stderr",
     "output_type": "stream",
     "text": [
      "\r",
      " 44%|████▍     | 22/50 [00:32<00:42,  1.53s/it]"
     ]
    },
    {
     "name": "stdout",
     "output_type": "stream",
     "text": [
      "second derivative:  0.8078226995446602\n",
      "first derivative:  0.5985761886740901\n",
      "featness:  9.314379512517254\n"
     ]
    },
    {
     "name": "stderr",
     "output_type": "stream",
     "text": [
      "\r",
      " 46%|████▌     | 23/50 [00:33<00:40,  1.50s/it]"
     ]
    },
    {
     "name": "stdout",
     "output_type": "stream",
     "text": [
      "second derivative:  -0.5493573155693703\n",
      "first derivative:  0.04921887310471984\n",
      "featness:  8.9379401264012\n"
     ]
    },
    {
     "name": "stderr",
     "output_type": "stream",
     "text": [
      "\r",
      " 48%|████▊     | 24/50 [00:35<00:38,  1.49s/it]"
     ]
    },
    {
     "name": "stdout",
     "output_type": "stream",
     "text": [
      "second derivative:  -0.08747102409501739\n",
      "first derivative:  0.03825215099029755\n",
      "featness:  9.237875210536659\n"
     ]
    },
    {
     "name": "stderr",
     "output_type": "stream",
     "text": [
      "\r",
      " 50%|█████     | 25/50 [00:36<00:38,  1.54s/it]"
     ]
    },
    {
     "name": "stdout",
     "output_type": "stream",
     "text": [
      "second derivative:  -0.021336568986892956\n",
      "first derivative:  0.05958871997719051\n",
      "featness:  8.818762686446819\n"
     ]
    },
    {
     "name": "stderr",
     "output_type": "stream",
     "text": [
      "\r",
      " 52%|█████▏    | 26/50 [00:38<00:35,  1.49s/it]"
     ]
    },
    {
     "name": "stdout",
     "output_type": "stream",
     "text": [
      "second derivative:  -0.14724503670608247\n",
      "first derivative:  0.20683375668327297\n",
      "featness:  8.824207697170113\n"
     ]
    },
    {
     "name": "stderr",
     "output_type": "stream",
     "text": [
      "\r",
      " 54%|█████▍    | 27/50 [00:39<00:33,  1.46s/it]"
     ]
    },
    {
     "name": "stdout",
     "output_type": "stream",
     "text": [
      "second derivative:  0.3711907703353967\n",
      "first derivative:  0.16435701365212374\n",
      "featness:  9.147476713751066\n"
     ]
    },
    {
     "name": "stderr",
     "output_type": "stream",
     "text": [
      "\r",
      " 56%|█████▌    | 28/50 [00:41<00:32,  1.47s/it]"
     ]
    },
    {
     "name": "stdout",
     "output_type": "stream",
     "text": [
      "second derivative:  -0.37520788627434776\n",
      "first derivative:  0.21085087262222402\n",
      "featness:  8.402505951925665\n"
     ]
    },
    {
     "name": "stderr",
     "output_type": "stream",
     "text": [
      "\r",
      " 58%|█████▊    | 29/50 [00:42<00:30,  1.47s/it]"
     ]
    },
    {
     "name": "stdout",
     "output_type": "stream",
     "text": [
      "second derivative:  -0.09403047503699558\n",
      "first derivative:  0.3048813476592196\n",
      "featness:  8.537714018432627\n"
     ]
    },
    {
     "name": "stderr",
     "output_type": "stream",
     "text": [
      "\r",
      " 60%|██████    | 30/50 [00:43<00:28,  1.43s/it]"
     ]
    },
    {
     "name": "stdout",
     "output_type": "stream",
     "text": [
      "second derivative:  0.3378856457409194\n",
      "first derivative:  0.0330042980816998\n",
      "featness:  8.468514548089065\n"
     ]
    },
    {
     "name": "stderr",
     "output_type": "stream",
     "text": [
      "\r",
      " 62%|██████▏   | 31/50 [00:45<00:26,  1.40s/it]"
     ]
    },
    {
     "name": "stdout",
     "output_type": "stream",
     "text": [
      "second derivative:  0.252044099524956\n",
      "first derivative:  0.2850483976066558\n",
      "featness:  9.107810813645939\n"
     ]
    },
    {
     "name": "stderr",
     "output_type": "stream",
     "text": [
      "\r",
      " 64%|██████▍   | 32/50 [00:46<00:24,  1.39s/it]"
     ]
    },
    {
     "name": "stdout",
     "output_type": "stream",
     "text": [
      "second derivative:  0.05343790380900515\n",
      "first derivative:  0.33848630141566094\n",
      "featness:  9.145487150920387\n"
     ]
    },
    {
     "name": "stderr",
     "output_type": "stream",
     "text": [
      "\r",
      " 66%|██████▌   | 33/50 [00:48<00:23,  1.39s/it]"
     ]
    },
    {
     "name": "stdout",
     "output_type": "stream",
     "text": [
      "second derivative:  -0.6119388059505297\n",
      "first derivative:  0.2734525045348688\n",
      "featness:  8.560905804576201\n"
     ]
    },
    {
     "name": "stderr",
     "output_type": "stream",
     "text": [
      "\r",
      " 68%|██████▊   | 34/50 [00:49<00:22,  1.40s/it]"
     ]
    },
    {
     "name": "stdout",
     "output_type": "stream",
     "text": [
      "second derivative:  -0.0032390381910119004\n",
      "first derivative:  0.2766915427258807\n",
      "featness:  8.592104065468625\n"
     ]
    },
    {
     "name": "stderr",
     "output_type": "stream",
     "text": [
      "\r",
      " 70%|███████   | 35/50 [00:50<00:20,  1.38s/it]"
     ]
    },
    {
     "name": "stdout",
     "output_type": "stream",
     "text": [
      "second derivative:  0.28530940420614215\n",
      "first derivative:  0.008617861480261446\n",
      "featness:  8.578141527536724\n"
     ]
    },
    {
     "name": "stderr",
     "output_type": "stream",
     "text": [
      "\r",
      " 72%|███████▏  | 36/50 [00:52<00:19,  1.37s/it]"
     ]
    },
    {
     "name": "stdout",
     "output_type": "stream",
     "text": [
      "second derivative:  0.01812749720765172\n",
      "first derivative:  0.026745358687913168\n",
      "featness:  8.645594782844451\n"
     ]
    },
    {
     "name": "stderr",
     "output_type": "stream",
     "text": [
      "\r",
      " 74%|███████▍  | 37/50 [00:53<00:17,  1.36s/it]"
     ]
    },
    {
     "name": "stdout",
     "output_type": "stream",
     "text": [
      "second derivative:  0.028177235098574727\n",
      "first derivative:  0.054922593786487894\n",
      "featness:  8.6879867151097\n"
     ]
    },
    {
     "name": "stderr",
     "output_type": "stream",
     "text": [
      "\r",
      " 76%|███████▌  | 38/50 [00:54<00:16,  1.36s/it]"
     ]
    },
    {
     "name": "stdout",
     "output_type": "stream",
     "text": [
      "second derivative:  -0.1521097176329933\n",
      "first derivative:  0.09718712384650541\n",
      "featness:  8.45122053515144\n"
     ]
    },
    {
     "name": "stderr",
     "output_type": "stream",
     "text": [
      "\r",
      " 78%|███████▊  | 39/50 [00:56<00:14,  1.35s/it]"
     ]
    },
    {
     "name": "stdout",
     "output_type": "stream",
     "text": [
      "second derivative:  0.47727077263710793\n",
      "first derivative:  0.3800836487906025\n",
      "featness:  9.448154012690905\n"
     ]
    },
    {
     "name": "stderr",
     "output_type": "stream",
     "text": [
      "\r",
      " 80%|████████  | 40/50 [00:57<00:14,  1.40s/it]"
     ]
    },
    {
     "name": "stdout",
     "output_type": "stream",
     "text": [
      "second derivative:  0.10332340882404978\n",
      "first derivative:  0.4834070576146523\n",
      "featness:  9.418034650380745\n"
     ]
    },
    {
     "name": "stderr",
     "output_type": "stream",
     "text": [
      "\r",
      " 82%|████████▏ | 41/50 [00:59<00:12,  1.42s/it]"
     ]
    },
    {
     "name": "stdout",
     "output_type": "stream",
     "text": [
      "second derivative:  -1.0927062136752124\n",
      "first derivative:  0.6092991560605601\n",
      "featness:  8.229555700569785\n"
     ]
    },
    {
     "name": "stderr",
     "output_type": "stream",
     "text": [
      "\r",
      " 84%|████████▍ | 42/50 [01:00<00:11,  1.39s/it]"
     ]
    },
    {
     "name": "stdout",
     "output_type": "stream",
     "text": [
      "second derivative:  0.21129020713935098\n",
      "first derivative:  0.3980089489212091\n",
      "featness:  8.622016752538327\n"
     ]
    },
    {
     "name": "stderr",
     "output_type": "stream",
     "text": [
      "\r",
      " 86%|████████▌ | 43/50 [01:01<00:09,  1.41s/it]"
     ]
    },
    {
     "name": "stdout",
     "output_type": "stream",
     "text": [
      "second derivative:  0.44201548649836475\n",
      "first derivative:  0.04400653757715567\n",
      "featness:  8.317568775724096\n"
     ]
    },
    {
     "name": "stderr",
     "output_type": "stream",
     "text": [
      "\r",
      " 88%|████████▊ | 44/50 [01:03<00:08,  1.41s/it]"
     ]
    },
    {
     "name": "stdout",
     "output_type": "stream",
     "text": [
      "second derivative:  0.5230356950621324\n",
      "first derivative:  0.5670422326392881\n",
      "featness:  9.756101217816903\n"
     ]
    },
    {
     "name": "stderr",
     "output_type": "stream",
     "text": [
      "\r",
      " 90%|█████████ | 45/50 [01:04<00:07,  1.44s/it]"
     ]
    },
    {
     "name": "stdout",
     "output_type": "stream",
     "text": [
      "second derivative:  -0.23730896066630525\n",
      "first derivative:  0.32973327197298286\n",
      "featness:  8.977035319670062\n"
     ]
    },
    {
     "name": "stderr",
     "output_type": "stream",
     "text": [
      "\r",
      " 92%|█████████▏| 46/50 [01:06<00:05,  1.47s/it]"
     ]
    },
    {
     "name": "stdout",
     "output_type": "stream",
     "text": [
      "second derivative:  -0.46335386318969896\n",
      "first derivative:  0.1336205912167161\n",
      "featness:  9.488860035383471\n"
     ]
    },
    {
     "name": "stderr",
     "output_type": "stream",
     "text": [
      "\r",
      " 94%|█████████▍| 47/50 [01:07<00:04,  1.44s/it]"
     ]
    },
    {
     "name": "stdout",
     "output_type": "stream",
     "text": [
      "second derivative:  -0.0025130174522240978\n",
      "first derivative:  0.1361336086689402\n",
      "featness:  8.704768102332181\n"
     ]
    },
    {
     "name": "stderr",
     "output_type": "stream",
     "text": [
      "\r",
      " 96%|█████████▌| 48/50 [01:09<00:02,  1.47s/it]"
     ]
    },
    {
     "name": "stdout",
     "output_type": "stream",
     "text": [
      "second derivative:  0.046751664599439025\n",
      "first derivative:  0.08938194406950117\n",
      "featness:  9.310096147244469\n"
     ]
    },
    {
     "name": "stderr",
     "output_type": "stream",
     "text": [
      "\r",
      " 98%|█████████▊| 49/50 [01:10<00:01,  1.48s/it]"
     ]
    },
    {
     "name": "stdout",
     "output_type": "stream",
     "text": [
      "second derivative:  0.26440503684901273\n",
      "first derivative:  0.17502309277951156\n",
      "featness:  9.054814287891205\n"
     ]
    },
    {
     "name": "stderr",
     "output_type": "stream",
     "text": [
      "100%|██████████| 50/50 [01:12<00:00,  1.45s/it]"
     ]
    },
    {
     "name": "stdout",
     "output_type": "stream",
     "text": [
      "second derivative:  -0.7543798251424514\n",
      "first derivative:  0.5793567323629398\n",
      "featness:  8.151382682518589\n",
      "2.849074785815401\n"
     ]
    },
    {
     "name": "stderr",
     "output_type": "stream",
     "text": [
      "\n"
     ]
    }
   ],
   "source": [
    "class ensemble_search:\n",
    "    def __init__(self, X_train, y_train, X_test, y_test,\n",
    "                 size_pop=20, epochs=5, verbose=True):\n",
    "        \n",
    "        self.X_train = X_train\n",
    "        self.y_train = y_train\n",
    "        self.X_test = X_test\n",
    "        self.y_test = y_test\n",
    "        self.size_pop = size_pop\n",
    "        self.epochs = epochs\n",
    "        self.fitness_array_ = np.array([])\n",
    "        self.best_of_all_ = None\n",
    "        self.verbose_ = verbose\n",
    "\n",
    "    def gen_population(self):\n",
    "        \n",
    "        population = [[]]*self.size_pop\n",
    "        \n",
    "        for i in range(self.size_pop):\n",
    "            \n",
    "            qt_regressor = np.random.randint(2,9)\n",
    "            lista_LR = ['LR',LR(), {}]\n",
    "            \n",
    "            lista_RFR = ['RFR',RFR(), \n",
    "                         {'n_estimators':np.random.randint(1,100),\n",
    "                          'max_depth':np.random.randint(1,20),\n",
    "                          'min_samples_split':np.random.randint(2,5),      \n",
    "                          'min_samples_leaf':np.random.randint(2,10),   \n",
    "                          'min_weight_fraction_leaf':np.random.rand(1)[0]/2}]\n",
    "            \n",
    "            lista_SVR = ['SVR',SVR(),\n",
    "                         {'kernel':random.choice(['linear','rbf','poly','sigmoid']),     \n",
    "                          'epsilon':np.random.rand(1)[0]/4,\n",
    "                          'C':random.choice([1,10,100,1000]),'gamma':'auto'}]\n",
    "            \n",
    "            lista_ADA = ['ADA',ADA(), \n",
    "                         {'n_estimators':np.random.randint(1,50)}]\n",
    "            \n",
    "            lista_BAG = ['BAG',BAG(), \n",
    "                         {'n_estimators':np.random.randint(1,50),'max_samples':np.random.randint(1,20)}]\n",
    "            \n",
    "            lista_GBR = ['GBR',GBR(), \n",
    "                         {'n_estimators':np.random.randint(1,100),'max_depth':np.random.randint(1,20),        \n",
    "                          'min_samples_split':np.random.randint(2,5),      \n",
    "                          'min_samples_leaf':np.random.randint(2,10),     \n",
    "                          'min_weight_fraction_leaf':np.random.rand(1)[0]/2}]\n",
    "            \n",
    "            lista_RAN = ['RAN',RAN(), {}]\n",
    "            \n",
    "            lista_PAR = ['PAR',PAR(), \n",
    "                         {'C': np.random.randint(1,10), 'early_stopping':True,        \n",
    "                          'n_iter_no_change':np.random.randint(1,10)}]\n",
    "            \n",
    "            lista_SGD = ['SGD',SGD(), {}]\n",
    "            \n",
    "            lista_regressors = [lista_LR,lista_RFR,lista_SVR,lista_ADA,lista_BAG,\n",
    "                                lista_GBR,lista_RAN,lista_PAR,lista_SGD]\n",
    "            \n",
    "            random.shuffle(lista_regressors)\n",
    "            \n",
    "            lista_regressors = lista_regressors[0:qt_regressor]\n",
    "            \n",
    "            for j in range(len(lista_regressors)):\n",
    "                lista_regressors[j][1] = lista_regressors[j][1].set_params(**lista_regressors[j][2])\n",
    "\n",
    "            population[i] = [qt_regressor, lista_regressors, 'voting_regressor', np.inf]\n",
    "            \n",
    "        return population\n",
    "\n",
    "    def set_fitness(self, population):\n",
    "        for i in range(len(population)):\n",
    "            \n",
    "            lista_tuplas_VR = []\n",
    "            nomes = []\n",
    "            for indv in population[i][1]:\n",
    "                \n",
    "                while indv[0] in nomes: #adionar X se o nome já estiver dentro\n",
    "                    indv[0] = indv[0]+'X'\n",
    "                nomes.append(indv[0])\n",
    "                \n",
    "                lista_tuplas_VR.append((indv[0],indv[1])) #aqui vai pegando cada regressor do indivíduo (lista de regressores),\n",
    "                                                          #que é formado pelo nome do regressor e o objeto.\n",
    "                \n",
    "            Voting_regressor = VotingRegressor(lista_tuplas_VR)\n",
    "            Voting_regressor.fit(self.X_train, self.y_train)\n",
    "            \n",
    "            mae_vr = mae(Voting_regressor.predict(self.X_test), self.y_test)\n",
    "            population[i][-1] = mae_vr\n",
    "            population[i][-2] = Voting_regressor\n",
    "            \n",
    "        return population\n",
    "    \n",
    "    def next_population(self, population):\n",
    "        \n",
    "        for i in range(1, int(len(population)/2)):\n",
    "            qt_regs_pai1 = population[i][0]\n",
    "            qt_regs_pai2 = population[2*i][0]\n",
    "            \n",
    "            #aqui mistura os regressores\n",
    "            if qt_regs_pai1<=qt_regs_pai2:    \n",
    "                population[i][1][:int(qt_regs_pai1/2)] = population[2*i][1][:int(qt_regs_pai1/2)]\n",
    "            else:\n",
    "                population[i][1][:int(qt_regs_pai2/2)] = population[2*i][1][:int(qt_regs_pai2/2)]\n",
    "                \n",
    "            #modificar nomes dos regressores se houver repetido\n",
    "            nomes = []\n",
    "            for reg in population[i][1]:\n",
    "                while reg[0] in nomes: #adionar X se o nome já estiver dentro\n",
    "                    reg[0] = reg[0]+'X'\n",
    "                nomes.append(reg[0])\n",
    "        \n",
    "        return population\n",
    "    \n",
    "    def early_stop(self):\n",
    "        array = self.fitness_array_\n",
    "        to_break=False\n",
    "        if len(array) > 4:\n",
    "            array_diff1_1 = array[1:] - array[:-1]\n",
    "            array_diff2 = array_diff1_1[1:] - array_diff1_1[:-1]\n",
    "            \n",
    "            if (self.verbose_):\n",
    "                print('second derivative: ', array_diff2[-2:].mean()) \n",
    "                print('first derivative: ', abs(array_diff1_1[-2:].mean()))\n",
    "                print('featness: ', array[-1])\n",
    "                \n",
    "            if (array_diff2[-2:].mean()) > 0 and (abs(array_diff1_1[-3:].mean()) <1e-3):\n",
    "                to_break = True\n",
    "        \n",
    "        return to_break\n",
    "\n",
    "    def search_best(self):\n",
    "        population = self.gen_population()\n",
    "        population = self.set_fitness(population)\n",
    "        population.sort(key = lambda x: x[-1])  \n",
    "        self.fitness_array_ = np.append(self.fitness_array_, population[0][-1])\n",
    "        self.best_of_all_ = population[0][-2]\n",
    "        \n",
    "        for i in tqdm(range(self.epochs)):\n",
    "            population = self.next_population(population)\n",
    "            population = self.set_fitness(population)\n",
    "            population.sort(key = lambda x: x[-1])\n",
    "            \n",
    "            #pegar o melhor de todas as épocas\n",
    "            \n",
    "            if population[0][-1] < min(self.fitness_array_):\n",
    "                self.best_of_all_ = population[0][-2]\n",
    "            \n",
    "            #adicionar ao array de fitness o atual\n",
    "            self.fitness_array_ = np.append(self.fitness_array_, population[0][-1])\n",
    "\n",
    "            if self.early_stop():\n",
    "                break\n",
    "            \n",
    "        return self\n",
    "\n",
    "\n",
    "n_samples = 1000\n",
    "n_outliers = 50\n",
    "X, y, coef = make_regression(n_samples=n_samples, n_features=1,n_informative=1, noise=10,coef=True, random_state=0)\n",
    "X_train, X_test, y_train, y_test = train_test_split(X, y, test_size=0.3, random_state=1)\n",
    "\n",
    "#X_train, X_test, y_train, y_test = train_test_split(X, y, test_size=0.3, random_state=0)\n",
    "\n",
    "Ensearch = ensemble_search(X_train, y_train, X_test, y_test, size_pop=10, epochs=50).search_best()\n",
    "print(np.sqrt(mae(Ensearch.best_of_all_.predict(X_test), y_test)))"
   ]
  },
  {
   "cell_type": "code",
   "execution_count": 195,
   "metadata": {},
   "outputs": [],
   "source": [
    "X_train, X_test, y_train, y_test = train_test_split(X, y, test_size=0.3, random_state=0)"
   ]
  },
  {
   "cell_type": "code",
   "execution_count": 196,
   "metadata": {},
   "outputs": [
    {
     "data": {
      "text/plain": [
       "1.4761959237016653e-14"
      ]
     },
     "execution_count": 196,
     "metadata": {},
     "output_type": "execute_result"
    }
   ],
   "source": [
    "from sklearn import linear_model\n",
    "lm = linear_model.LinearRegression()\n",
    "model = lm.fit(X_train, y_train)\n",
    "predictions = lm.predict(X_test)\n",
    "np.sqrt(mean_squared_error(y_test, predictions))\n"
   ]
  },
  {
   "cell_type": "code",
   "execution_count": 197,
   "metadata": {},
   "outputs": [
    {
     "data": {
      "image/png": "[encoded data removed]",
      "text/plain": [
       "<Figure size 432x288 with 1 Axes>"
      ]
     },
     "metadata": {},
     "output_type": "display_data"
    }
   ],
   "source": [
    "alphas = 10**np.linspace(10,-2,100)*0.5\n",
    "\n",
    "ridge = Ridge()\n",
    "coefs = []\n",
    "\n",
    "for a in alphas:\n",
    "    ridge.set_params(alpha=a)\n",
    "    ridge.fit(scale(X), y)\n",
    "    coefs.append(ridge.coef_)\n",
    "\n",
    "ax = plt.gca()\n",
    "ax.plot(alphas, coefs)\n",
    "ax.set_xscale('log')\n",
    "ax.set_xlim(ax.get_xlim()[::-1])  # reverse axis\n",
    "plt.axis('tight')\n",
    "plt.xlabel('alpha')\n",
    "plt.ylabel('weights')\n",
    "plt.title('Ridge coefficients as a function of the regularization');"
   ]
  },
  {
   "cell_type": "code",
   "execution_count": 198,
   "metadata": {},
   "outputs": [
    {
     "data": {
      "text/plain": [
       "RidgeCV(alphas=array([5.00000000e+09, 3.78231664e+09, 2.86118383e+09, 2.16438064e+09,\n",
       "       1.63727458e+09, 1.23853818e+09, 9.36908711e+08, 7.08737081e+08,\n",
       "       5.36133611e+08, 4.05565415e+08, 3.06795364e+08, 2.32079442e+08,\n",
       "       1.75559587e+08, 1.32804389e+08, 1.00461650e+08, 7.59955541e+07,\n",
       "       5.74878498e+07, 4.34874501e+07, 3.28966612e+07, 2.48851178e+07,\n",
       "       1.88246790e+07, 1.42401793e+0...\n",
       "       3.28966612e-01, 2.48851178e-01, 1.88246790e-01, 1.42401793e-01,\n",
       "       1.07721735e-01, 8.14875417e-02, 6.16423370e-02, 4.66301673e-02,\n",
       "       3.52740116e-02, 2.66834962e-02, 2.01850863e-02, 1.52692775e-02,\n",
       "       1.15506485e-02, 8.73764200e-03, 6.60970574e-03, 5.00000000e-03]),\n",
       "        cv=None, fit_intercept=True, gcv_mode=None, normalize=False,\n",
       "        scoring='neg_mean_squared_error', store_cv_values=False)"
      ]
     },
     "execution_count": 198,
     "metadata": {},
     "output_type": "execute_result"
    }
   ],
   "source": [
    "ridgecv = RidgeCV(alphas=alphas, scoring='neg_mean_squared_error')\n",
    "ridgecv.fit(scale(X_train), y_train)"
   ]
  },
  {
   "cell_type": "code",
   "execution_count": 199,
   "metadata": {},
   "outputs": [
    {
     "data": {
      "text/plain": [
       "0.016213575314855667"
      ]
     },
     "execution_count": 199,
     "metadata": {},
     "output_type": "execute_result"
    }
   ],
   "source": [
    "ridge.set_params(alpha=ridgecv.alpha_)\n",
    "ridge.fit(scale(X_train), y_train)\n",
    "sqrt(mean_squared_error(y_test, ridge.predict(scale(X_test))))"
   ]
  },
  {
   "cell_type": "code",
   "execution_count": 200,
   "metadata": {},
   "outputs": [
    {
     "data": {
      "text/plain": [
       "0.0"
      ]
     },
     "execution_count": 200,
     "metadata": {},
     "output_type": "execute_result"
    }
   ],
   "source": [
    "from sklearn.ensemble import RandomForestRegressor\n",
    "rfr = RandomForestRegressor(n_estimators=10, random_state=1)\n",
    "rfr.fit(scale(X_train), y_train)\n",
    "mean_squared_error(y_test, rfr.predict(scale(X_test)))**0.5"
   ]
  },
  {
   "cell_type": "code",
   "execution_count": null,
   "metadata": {},
   "outputs": [
    {
     "name": "stdout",
     "output_type": "stream",
     "text": [
      "[23:43:39] WARNING: /workspace/src/objective/regression_obj.cu:152: reg:linear is now deprecated in favor of reg:squarederror.\n"
     ]
    }
   ],
   "source": [
    "from xgboost import XGBRegressor\n",
    "xgb = XGBRegressor(max_depth=10, n_estimators=250, n_jobs=-1, subsample=.7)\n",
    "xgb.fit(scale(X_train), y_train)\n",
    "\n",
    "sqrt(mean_squared_error(y_test, xgb.predict(scale(X_test))))"
   ]
  },
  {
   "cell_type": "code",
   "execution_count": 201,
   "metadata": {},
   "outputs": [
    {
     "data": {
      "text/plain": [
       "1.1143414524145385"
      ]
     },
     "execution_count": 201,
     "metadata": {},
     "output_type": "execute_result"
    }
   ],
   "source": [
    "from sklearn.ensemble import GradientBoostingRegressor\n",
    "GBR = GradientBoostingRegressor(loss= 'ls',max_depth=5, learning_rate=0.01)\n",
    "GBR.fit(scale(X_train), y_train)\n",
    "\n",
    "sqrt(mean_squared_error(y_test, GBR.predict(scale(X_test))))"
   ]
  },
  {
   "cell_type": "code",
   "execution_count": null,
   "metadata": {},
   "outputs": [],
   "source": []
  },
  {
   "cell_type": "code",
   "execution_count": null,
   "metadata": {},
   "outputs": [],
   "source": []
  },
  {
   "cell_type": "code",
   "execution_count": 202,
   "metadata": {},
   "outputs": [],
   "source": [
    "import pandas as pd\n",
    "from sklearn import preprocessing\n",
    "\n",
    "x1 = X_test_set.values #returns a numpy array\n",
    "min_max_scaler = preprocessing.MinMaxScaler()\n",
    "x_scaled1 = min_max_scaler.fit_transform(x1)\n",
    "X_test_set1 = pd.DataFrame(x_scaled1)"
   ]
  },
  {
   "cell_type": "code",
   "execution_count": null,
   "metadata": {},
   "outputs": [],
   "source": []
  },
  {
   "cell_type": "code",
   "execution_count": 203,
   "metadata": {},
   "outputs": [],
   "source": [
    "#X_test_set1 = X_test_set1.fillna(X_test_set1.median())"
   ]
  },
  {
   "cell_type": "code",
   "execution_count": 204,
   "metadata": {},
   "outputs": [],
   "source": [
    "X_test_set1 = X_test_set1.fillna((0))"
   ]
  },
  {
   "cell_type": "code",
   "execution_count": 205,
   "metadata": {},
   "outputs": [
    {
     "data": {
      "text/html": [
       "<div>\n",
       "<style scoped>\n",
       "    .dataframe tbody tr th:only-of-type {\n",
       "        vertical-align: middle;\n",
       "    }\n",
       "\n",
       "    .dataframe tbody tr th {\n",
       "        vertical-align: top;\n",
       "    }\n",
       "\n",
       "    .dataframe thead th {\n",
       "        text-align: right;\n",
       "    }\n",
       "</style>\n",
       "<table border=\"1\" class=\"dataframe\">\n",
       "  <thead>\n",
       "    <tr style=\"text-align: right;\">\n",
       "      <th></th>\n",
       "      <th>0</th>\n",
       "      <th>1</th>\n",
       "      <th>2</th>\n",
       "      <th>3</th>\n",
       "      <th>4</th>\n",
       "      <th>5</th>\n",
       "      <th>6</th>\n",
       "      <th>7</th>\n",
       "      <th>8</th>\n",
       "      <th>9</th>\n",
       "      <th>10</th>\n",
       "      <th>11</th>\n",
       "      <th>12</th>\n",
       "      <th>13</th>\n",
       "      <th>14</th>\n",
       "    </tr>\n",
       "  </thead>\n",
       "  <tbody>\n",
       "    <tr>\n",
       "      <th>0</th>\n",
       "      <td>0.027609</td>\n",
       "      <td>1.000000</td>\n",
       "      <td>0.808989</td>\n",
       "      <td>0.111111</td>\n",
       "      <td>0.0</td>\n",
       "      <td>0.0</td>\n",
       "      <td>0.0</td>\n",
       "      <td>0.75</td>\n",
       "      <td>0.0</td>\n",
       "      <td>0.0</td>\n",
       "      <td>0.75</td>\n",
       "      <td>0.277198</td>\n",
       "      <td>0.370787</td>\n",
       "      <td>0.663793</td>\n",
       "      <td>0.661001</td>\n",
       "    </tr>\n",
       "    <tr>\n",
       "      <th>1</th>\n",
       "      <td>0.006675</td>\n",
       "      <td>1.000000</td>\n",
       "      <td>0.808989</td>\n",
       "      <td>0.111111</td>\n",
       "      <td>0.0</td>\n",
       "      <td>0.0</td>\n",
       "      <td>0.0</td>\n",
       "      <td>0.00</td>\n",
       "      <td>0.0</td>\n",
       "      <td>0.0</td>\n",
       "      <td>0.00</td>\n",
       "      <td>0.259314</td>\n",
       "      <td>0.000000</td>\n",
       "      <td>0.000000</td>\n",
       "      <td>0.426165</td>\n",
       "    </tr>\n",
       "    <tr>\n",
       "      <th>2</th>\n",
       "      <td>0.000000</td>\n",
       "      <td>0.232471</td>\n",
       "      <td>0.842697</td>\n",
       "      <td>0.000000</td>\n",
       "      <td>0.0</td>\n",
       "      <td>0.0</td>\n",
       "      <td>0.0</td>\n",
       "      <td>0.00</td>\n",
       "      <td>0.0</td>\n",
       "      <td>0.0</td>\n",
       "      <td>0.00</td>\n",
       "      <td>0.636364</td>\n",
       "      <td>0.393258</td>\n",
       "      <td>0.000000</td>\n",
       "      <td>0.546345</td>\n",
       "    </tr>\n",
       "    <tr>\n",
       "      <th>3</th>\n",
       "      <td>0.032160</td>\n",
       "      <td>0.121035</td>\n",
       "      <td>0.707865</td>\n",
       "      <td>0.222222</td>\n",
       "      <td>0.0</td>\n",
       "      <td>0.0</td>\n",
       "      <td>0.0</td>\n",
       "      <td>0.00</td>\n",
       "      <td>0.0</td>\n",
       "      <td>0.0</td>\n",
       "      <td>0.00</td>\n",
       "      <td>0.521610</td>\n",
       "      <td>0.258427</td>\n",
       "      <td>0.000000</td>\n",
       "      <td>0.523927</td>\n",
       "    </tr>\n",
       "    <tr>\n",
       "      <th>4</th>\n",
       "      <td>0.007888</td>\n",
       "      <td>0.756678</td>\n",
       "      <td>0.775281</td>\n",
       "      <td>0.111111</td>\n",
       "      <td>0.0</td>\n",
       "      <td>0.0</td>\n",
       "      <td>0.0</td>\n",
       "      <td>0.00</td>\n",
       "      <td>0.0</td>\n",
       "      <td>0.0</td>\n",
       "      <td>0.00</td>\n",
       "      <td>0.269747</td>\n",
       "      <td>0.382022</td>\n",
       "      <td>0.896552</td>\n",
       "      <td>0.263579</td>\n",
       "    </tr>\n",
       "    <tr>\n",
       "      <th>...</th>\n",
       "      <td>...</td>\n",
       "      <td>...</td>\n",
       "      <td>...</td>\n",
       "      <td>...</td>\n",
       "      <td>...</td>\n",
       "      <td>...</td>\n",
       "      <td>...</td>\n",
       "      <td>...</td>\n",
       "      <td>...</td>\n",
       "      <td>...</td>\n",
       "      <td>...</td>\n",
       "      <td>...</td>\n",
       "      <td>...</td>\n",
       "      <td>...</td>\n",
       "      <td>...</td>\n",
       "    </tr>\n",
       "    <tr>\n",
       "      <th>38986</th>\n",
       "      <td>0.000000</td>\n",
       "      <td>0.000000</td>\n",
       "      <td>1.000000</td>\n",
       "      <td>0.000000</td>\n",
       "      <td>0.0</td>\n",
       "      <td>0.0</td>\n",
       "      <td>0.0</td>\n",
       "      <td>0.00</td>\n",
       "      <td>0.0</td>\n",
       "      <td>0.0</td>\n",
       "      <td>0.00</td>\n",
       "      <td>0.301043</td>\n",
       "      <td>0.134831</td>\n",
       "      <td>0.000000</td>\n",
       "      <td>0.402191</td>\n",
       "    </tr>\n",
       "    <tr>\n",
       "      <th>38987</th>\n",
       "      <td>0.004854</td>\n",
       "      <td>0.769616</td>\n",
       "      <td>0.786517</td>\n",
       "      <td>0.111111</td>\n",
       "      <td>0.0</td>\n",
       "      <td>0.0</td>\n",
       "      <td>0.0</td>\n",
       "      <td>0.00</td>\n",
       "      <td>0.0</td>\n",
       "      <td>0.0</td>\n",
       "      <td>0.00</td>\n",
       "      <td>0.248882</td>\n",
       "      <td>0.157303</td>\n",
       "      <td>0.000000</td>\n",
       "      <td>0.255095</td>\n",
       "    </tr>\n",
       "    <tr>\n",
       "      <th>38988</th>\n",
       "      <td>0.007585</td>\n",
       "      <td>0.627713</td>\n",
       "      <td>0.764045</td>\n",
       "      <td>0.111111</td>\n",
       "      <td>0.0</td>\n",
       "      <td>0.0</td>\n",
       "      <td>0.0</td>\n",
       "      <td>0.00</td>\n",
       "      <td>0.0</td>\n",
       "      <td>0.0</td>\n",
       "      <td>0.00</td>\n",
       "      <td>0.245902</td>\n",
       "      <td>0.078652</td>\n",
       "      <td>0.000000</td>\n",
       "      <td>0.076409</td>\n",
       "    </tr>\n",
       "    <tr>\n",
       "      <th>38989</th>\n",
       "      <td>0.006068</td>\n",
       "      <td>0.756678</td>\n",
       "      <td>0.775281</td>\n",
       "      <td>0.111111</td>\n",
       "      <td>0.0</td>\n",
       "      <td>0.0</td>\n",
       "      <td>0.0</td>\n",
       "      <td>0.00</td>\n",
       "      <td>0.0</td>\n",
       "      <td>0.0</td>\n",
       "      <td>0.00</td>\n",
       "      <td>0.178838</td>\n",
       "      <td>0.247191</td>\n",
       "      <td>0.836207</td>\n",
       "      <td>0.281195</td>\n",
       "    </tr>\n",
       "    <tr>\n",
       "      <th>38990</th>\n",
       "      <td>0.003641</td>\n",
       "      <td>0.464942</td>\n",
       "      <td>0.752809</td>\n",
       "      <td>0.111111</td>\n",
       "      <td>0.0</td>\n",
       "      <td>0.0</td>\n",
       "      <td>0.0</td>\n",
       "      <td>0.00</td>\n",
       "      <td>0.0</td>\n",
       "      <td>0.0</td>\n",
       "      <td>0.00</td>\n",
       "      <td>0.391952</td>\n",
       "      <td>0.112360</td>\n",
       "      <td>0.758621</td>\n",
       "      <td>0.320951</td>\n",
       "    </tr>\n",
       "  </tbody>\n",
       "</table>\n",
       "<p>38991 rows × 15 columns</p>\n",
       "</div>"
      ],
      "text/plain": [
       "              0         1         2         3    4    5    6     7    8    9  \\\n",
       "0      0.027609  1.000000  0.808989  0.111111  0.0  0.0  0.0  0.75  0.0  0.0   \n",
       "1      0.006675  1.000000  0.808989  0.111111  0.0  0.0  0.0  0.00  0.0  0.0   \n",
       "2      0.000000  0.232471  0.842697  0.000000  0.0  0.0  0.0  0.00  0.0  0.0   \n",
       "3      0.032160  0.121035  0.707865  0.222222  0.0  0.0  0.0  0.00  0.0  0.0   \n",
       "4      0.007888  0.756678  0.775281  0.111111  0.0  0.0  0.0  0.00  0.0  0.0   \n",
       "...         ...       ...       ...       ...  ...  ...  ...   ...  ...  ...   \n",
       "38986  0.000000  0.000000  1.000000  0.000000  0.0  0.0  0.0  0.00  0.0  0.0   \n",
       "38987  0.004854  0.769616  0.786517  0.111111  0.0  0.0  0.0  0.00  0.0  0.0   \n",
       "38988  0.007585  0.627713  0.764045  0.111111  0.0  0.0  0.0  0.00  0.0  0.0   \n",
       "38989  0.006068  0.756678  0.775281  0.111111  0.0  0.0  0.0  0.00  0.0  0.0   \n",
       "38990  0.003641  0.464942  0.752809  0.111111  0.0  0.0  0.0  0.00  0.0  0.0   \n",
       "\n",
       "         10        11        12        13        14  \n",
       "0      0.75  0.277198  0.370787  0.663793  0.661001  \n",
       "1      0.00  0.259314  0.000000  0.000000  0.426165  \n",
       "2      0.00  0.636364  0.393258  0.000000  0.546345  \n",
       "3      0.00  0.521610  0.258427  0.000000  0.523927  \n",
       "4      0.00  0.269747  0.382022  0.896552  0.263579  \n",
       "...     ...       ...       ...       ...       ...  \n",
       "38986  0.00  0.301043  0.134831  0.000000  0.402191  \n",
       "38987  0.00  0.248882  0.157303  0.000000  0.255095  \n",
       "38988  0.00  0.245902  0.078652  0.000000  0.076409  \n",
       "38989  0.00  0.178838  0.247191  0.836207  0.281195  \n",
       "38990  0.00  0.391952  0.112360  0.758621  0.320951  \n",
       "\n",
       "[38991 rows x 15 columns]"
      ]
     },
     "execution_count": 205,
     "metadata": {},
     "output_type": "execute_result"
    }
   ],
   "source": [
    "X_test_set1"
   ]
  },
  {
   "cell_type": "code",
   "execution_count": 206,
   "metadata": {},
   "outputs": [],
   "source": [
    "test_set = df2\n",
    "#test set에 col 추가\n",
    "prediction = lm.predict(X_test_set1)\n",
    "test_set['points'] = prediction"
   ]
  },
  {
   "cell_type": "code",
   "execution_count": 207,
   "metadata": {},
   "outputs": [
    {
     "data": {
      "text/plain": [
       "id\n",
       "5         93.220016\n",
       "14        88.523299\n",
       "15        90.926907\n",
       "18        90.478537\n",
       "21        85.271580\n",
       "            ...    \n",
       "129962    88.043828\n",
       "129964    85.101895\n",
       "129966    81.528181\n",
       "129969    85.623906\n",
       "129970    86.419019\n",
       "Name: points, Length: 38991, dtype: float64"
      ]
     },
     "execution_count": 207,
     "metadata": {},
     "output_type": "execute_result"
    }
   ],
   "source": [
    "test_set.points"
   ]
  },
  {
   "cell_type": "code",
   "execution_count": 208,
   "metadata": {},
   "outputs": [
    {
     "data": {
      "text/plain": [
       "0.31546120883734563"
      ]
     },
     "execution_count": 208,
     "metadata": {},
     "output_type": "execute_result"
    }
   ],
   "source": [
    "sqrt(mean_squared_error(test_set.pre_points,test_set.points ))"
   ]
  },
  {
   "cell_type": "code",
   "execution_count": 209,
   "metadata": {},
   "outputs": [],
   "source": [
    "test_set.to_excel(\"./result.xlsx\")"
   ]
  },
  {
   "cell_type": "code",
   "execution_count": null,
   "metadata": {},
   "outputs": [],
   "source": []
  },
  {
   "cell_type": "code",
   "execution_count": null,
   "metadata": {},
   "outputs": [],
   "source": []
  },
  {
   "cell_type": "code",
   "execution_count": null,
   "metadata": {},
   "outputs": [],
   "source": []
  },
  {
   "cell_type": "code",
   "execution_count": null,
   "metadata": {},
   "outputs": [],
   "source": []
  },
  {
   "cell_type": "code",
   "execution_count": 117,
   "metadata": {},
   "outputs": [],
   "source": [
    "df3 = pd.read_excel(\"./cc.xlsx\",index_col=0,parse_dates=[0])"
   ]
  },
  {
   "cell_type": "code",
   "execution_count": 119,
   "metadata": {},
   "outputs": [],
   "source": [
    "df4 = df3.dropna(subset = ['points1'])"
   ]
  },
  {
   "cell_type": "code",
   "execution_count": 121,
   "metadata": {},
   "outputs": [],
   "source": [
    "df4 = df4.dropna(subset = ['pre_points'])"
   ]
  },
  {
   "cell_type": "code",
   "execution_count": 122,
   "metadata": {},
   "outputs": [
    {
     "ename": "ValueError",
     "evalue": "Input contains NaN, infinity or a value too large for dtype('float64').",
     "output_type": "error",
     "traceback": [
      "\u001b[0;31m---------------------------------------------------------------------------\u001b[0m",
      "\u001b[0;31mValueError\u001b[0m                                Traceback (most recent call last)",
      "\u001b[0;32m<ipython-input-122-5ba0fb6e552f>\u001b[0m in \u001b[0;36m<module>\u001b[0;34m\u001b[0m\n\u001b[0;32m----> 1\u001b[0;31m \u001b[0msqrt\u001b[0m\u001b[0;34m(\u001b[0m\u001b[0mmean_squared_error\u001b[0m\u001b[0;34m(\u001b[0m\u001b[0mdf3\u001b[0m\u001b[0;34m.\u001b[0m\u001b[0mpre_points\u001b[0m\u001b[0;34m,\u001b[0m\u001b[0mdf3\u001b[0m\u001b[0;34m.\u001b[0m\u001b[0mpoints1\u001b[0m\u001b[0;34m)\u001b[0m\u001b[0;34m)\u001b[0m\u001b[0;34m\u001b[0m\u001b[0;34m\u001b[0m\u001b[0m\n\u001b[0m",
      "\u001b[0;32m~/miniconda3/envs/dm_env/lib/python3.7/site-packages/sklearn/metrics/regression.py\u001b[0m in \u001b[0;36mmean_squared_error\u001b[0;34m(y_true, y_pred, sample_weight, multioutput)\u001b[0m\n\u001b[1;32m    239\u001b[0m     \"\"\"\n\u001b[1;32m    240\u001b[0m     y_type, y_true, y_pred, multioutput = _check_reg_targets(\n\u001b[0;32m--> 241\u001b[0;31m         y_true, y_pred, multioutput)\n\u001b[0m\u001b[1;32m    242\u001b[0m     \u001b[0mcheck_consistent_length\u001b[0m\u001b[0;34m(\u001b[0m\u001b[0my_true\u001b[0m\u001b[0;34m,\u001b[0m \u001b[0my_pred\u001b[0m\u001b[0;34m,\u001b[0m \u001b[0msample_weight\u001b[0m\u001b[0;34m)\u001b[0m\u001b[0;34m\u001b[0m\u001b[0;34m\u001b[0m\u001b[0m\n\u001b[1;32m    243\u001b[0m     output_errors = np.average((y_true - y_pred) ** 2, axis=0,\n",
      "\u001b[0;32m~/miniconda3/envs/dm_env/lib/python3.7/site-packages/sklearn/metrics/regression.py\u001b[0m in \u001b[0;36m_check_reg_targets\u001b[0;34m(y_true, y_pred, multioutput)\u001b[0m\n\u001b[1;32m     77\u001b[0m     \u001b[0mcheck_consistent_length\u001b[0m\u001b[0;34m(\u001b[0m\u001b[0my_true\u001b[0m\u001b[0;34m,\u001b[0m \u001b[0my_pred\u001b[0m\u001b[0;34m)\u001b[0m\u001b[0;34m\u001b[0m\u001b[0;34m\u001b[0m\u001b[0m\n\u001b[1;32m     78\u001b[0m     \u001b[0my_true\u001b[0m \u001b[0;34m=\u001b[0m \u001b[0mcheck_array\u001b[0m\u001b[0;34m(\u001b[0m\u001b[0my_true\u001b[0m\u001b[0;34m,\u001b[0m \u001b[0mensure_2d\u001b[0m\u001b[0;34m=\u001b[0m\u001b[0;32mFalse\u001b[0m\u001b[0;34m)\u001b[0m\u001b[0;34m\u001b[0m\u001b[0;34m\u001b[0m\u001b[0m\n\u001b[0;32m---> 79\u001b[0;31m     \u001b[0my_pred\u001b[0m \u001b[0;34m=\u001b[0m \u001b[0mcheck_array\u001b[0m\u001b[0;34m(\u001b[0m\u001b[0my_pred\u001b[0m\u001b[0;34m,\u001b[0m \u001b[0mensure_2d\u001b[0m\u001b[0;34m=\u001b[0m\u001b[0;32mFalse\u001b[0m\u001b[0;34m)\u001b[0m\u001b[0;34m\u001b[0m\u001b[0;34m\u001b[0m\u001b[0m\n\u001b[0m\u001b[1;32m     80\u001b[0m \u001b[0;34m\u001b[0m\u001b[0m\n\u001b[1;32m     81\u001b[0m     \u001b[0;32mif\u001b[0m \u001b[0my_true\u001b[0m\u001b[0;34m.\u001b[0m\u001b[0mndim\u001b[0m \u001b[0;34m==\u001b[0m \u001b[0;36m1\u001b[0m\u001b[0;34m:\u001b[0m\u001b[0;34m\u001b[0m\u001b[0;34m\u001b[0m\u001b[0m\n",
      "\u001b[0;32m~/miniconda3/envs/dm_env/lib/python3.7/site-packages/sklearn/utils/validation.py\u001b[0m in \u001b[0;36mcheck_array\u001b[0;34m(array, accept_sparse, accept_large_sparse, dtype, order, copy, force_all_finite, ensure_2d, allow_nd, ensure_min_samples, ensure_min_features, warn_on_dtype, estimator)\u001b[0m\n\u001b[1;32m    540\u001b[0m         \u001b[0;32mif\u001b[0m \u001b[0mforce_all_finite\u001b[0m\u001b[0;34m:\u001b[0m\u001b[0;34m\u001b[0m\u001b[0;34m\u001b[0m\u001b[0m\n\u001b[1;32m    541\u001b[0m             _assert_all_finite(array,\n\u001b[0;32m--> 542\u001b[0;31m                                allow_nan=force_all_finite == 'allow-nan')\n\u001b[0m\u001b[1;32m    543\u001b[0m \u001b[0;34m\u001b[0m\u001b[0m\n\u001b[1;32m    544\u001b[0m     \u001b[0;32mif\u001b[0m \u001b[0mensure_min_samples\u001b[0m \u001b[0;34m>\u001b[0m \u001b[0;36m0\u001b[0m\u001b[0;34m:\u001b[0m\u001b[0;34m\u001b[0m\u001b[0;34m\u001b[0m\u001b[0m\n",
      "\u001b[0;32m~/miniconda3/envs/dm_env/lib/python3.7/site-packages/sklearn/utils/validation.py\u001b[0m in \u001b[0;36m_assert_all_finite\u001b[0;34m(X, allow_nan)\u001b[0m\n\u001b[1;32m     54\u001b[0m                 not allow_nan and not np.isfinite(X).all()):\n\u001b[1;32m     55\u001b[0m             \u001b[0mtype_err\u001b[0m \u001b[0;34m=\u001b[0m \u001b[0;34m'infinity'\u001b[0m \u001b[0;32mif\u001b[0m \u001b[0mallow_nan\u001b[0m \u001b[0;32melse\u001b[0m \u001b[0;34m'NaN, infinity'\u001b[0m\u001b[0;34m\u001b[0m\u001b[0;34m\u001b[0m\u001b[0m\n\u001b[0;32m---> 56\u001b[0;31m             \u001b[0;32mraise\u001b[0m \u001b[0mValueError\u001b[0m\u001b[0;34m(\u001b[0m\u001b[0mmsg_err\u001b[0m\u001b[0;34m.\u001b[0m\u001b[0mformat\u001b[0m\u001b[0;34m(\u001b[0m\u001b[0mtype_err\u001b[0m\u001b[0;34m,\u001b[0m \u001b[0mX\u001b[0m\u001b[0;34m.\u001b[0m\u001b[0mdtype\u001b[0m\u001b[0;34m)\u001b[0m\u001b[0;34m)\u001b[0m\u001b[0;34m\u001b[0m\u001b[0;34m\u001b[0m\u001b[0m\n\u001b[0m\u001b[1;32m     57\u001b[0m     \u001b[0;31m# for object dtype data, we only check for NaNs (GH-13254)\u001b[0m\u001b[0;34m\u001b[0m\u001b[0;34m\u001b[0m\u001b[0;34m\u001b[0m\u001b[0m\n\u001b[1;32m     58\u001b[0m     \u001b[0;32melif\u001b[0m \u001b[0mX\u001b[0m\u001b[0;34m.\u001b[0m\u001b[0mdtype\u001b[0m \u001b[0;34m==\u001b[0m \u001b[0mnp\u001b[0m\u001b[0;34m.\u001b[0m\u001b[0mdtype\u001b[0m\u001b[0;34m(\u001b[0m\u001b[0;34m'object'\u001b[0m\u001b[0;34m)\u001b[0m \u001b[0;32mand\u001b[0m \u001b[0;32mnot\u001b[0m \u001b[0mallow_nan\u001b[0m\u001b[0;34m:\u001b[0m\u001b[0;34m\u001b[0m\u001b[0;34m\u001b[0m\u001b[0m\n",
      "\u001b[0;31mValueError\u001b[0m: Input contains NaN, infinity or a value too large for dtype('float64')."
     ]
    }
   ],
   "source": [
    "sqrt(mean_squared_error(df3.pre_points,df3.points1))"
   ]
  },
  {
   "cell_type": "code",
   "execution_count": 214,
   "metadata": {},
   "outputs": [],
   "source": [
    "import pandas as pd\n",
    "df100 = pd.read_excel(\"./result411.xlsx\",index_col=0,parse_dates=[0])"
   ]
  },
  {
   "cell_type": "code",
   "execution_count": 215,
   "metadata": {},
   "outputs": [
    {
     "data": {
      "text/plain": [
       "1.6323336576515581"
      ]
     },
     "execution_count": 215,
     "metadata": {},
     "output_type": "execute_result"
    }
   ],
   "source": [
    "sqrt(mean_squared_error(df100.points,df100.points1))"
   ]
  },
  {
   "cell_type": "code",
   "execution_count": null,
   "metadata": {},
   "outputs": [],
   "source": []
  }
 ],
 "metadata": {
  "kernelspec": {
   "display_name": "dm_env",
   "language": "python",
   "name": "dm_env"
  },
  "language_info": {
   "codemirror_mode": {
    "name": "ipython",
    "version": 3
   },
   "file_extension": ".py",
   "mimetype": "text/x-python",
   "name": "python",
   "nbconvert_exporter": "python",
   "pygments_lexer": "ipython3",
   "version": "3.7.5"
  }
 },
 "nbformat": 4,
 "nbformat_minor": 2
}
