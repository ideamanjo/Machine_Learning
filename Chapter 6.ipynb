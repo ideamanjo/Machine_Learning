{
  "nbformat": 4,
  "nbformat_minor": 0,
  "metadata": {
    "kernelspec": {
      "display_name": "Python 3",
      "language": "python",
      "name": "python3"
    },
    "language_info": {
      "codemirror_mode": {
        "name": "ipython",
        "version": 3
      },
      "file_extension": ".py",
      "mimetype": "text/x-python",
      "name": "python",
      "nbconvert_exporter": "python",
      "pygments_lexer": "ipython3",
      "version": "3.7.1"
    },
    "colab": {
      "name": "Chapter 6.ipynb",
      "provenance": []
    }
  },
  "cells": [
    {
      "cell_type": "markdown",
      "metadata": {
        "id": "HhxyOp1tP3CG",
        "colab_type": "text"
      },
      "source": [
        "# Chapter 6 - Linear Model Selection and Regularization"
      ]
    },
    {
      "cell_type": "markdown",
      "metadata": {
        "id": "z3OxaR6XP3CM",
        "colab_type": "text"
      },
      "source": [
        "- [Lab 2: Ridge Regression](#6.6.1-Ridge-Regression)\n",
        "- [Lab 2: The Lasso](#6.6.2-The-Lasso)\n",
        "- [Lab 3: Principal Components Regression](#6.7.1-Principal-Components-Regression)\n",
        "- [Lab 3: Partial Least Squares](#6.7.2-Partial-Least-Squares)"
      ]
    },
    {
      "cell_type": "code",
      "metadata": {
        "id": "apOPMaiwP3CN",
        "colab_type": "code",
        "colab": {}
      },
      "source": [
        "# %load ../standard_import.txt\n",
        "import pandas as pd\n",
        "import numpy as np\n",
        "import matplotlib.pyplot as plt\n",
        "import seaborn as sns\n",
        "\n",
        "from sklearn.linear_model import LinearRegression, Ridge, RidgeCV, Lasso, LassoCV\n",
        "from sklearn.decomposition import PCA\n",
        "from sklearn.cross_decomposition import PLSRegression\n",
        "from sklearn.model_selection import KFold, cross_val_score\n",
        "from sklearn.preprocessing import scale \n",
        "from sklearn import model_selection\n",
        "from sklearn.metrics import mean_squared_error\n",
        "\n",
        "import warnings\n",
        "warnings.filterwarnings('ignore')\n",
        "\n",
        "%matplotlib inline\n",
        "plt.style.use('seaborn-white')\n"
      ],
      "execution_count": 0,
      "outputs": []
    },
    {
      "cell_type": "markdown",
      "metadata": {
        "id": "zOyl3jX8P3CR",
        "colab_type": "text"
      },
      "source": [
        "# Lab 2"
      ]
    },
    {
      "cell_type": "code",
      "metadata": {
        "id": "LklA0N2SP3CS",
        "colab_type": "code",
        "colab": {
          "base_uri": "https://localhost:8080/",
          "height": 204
        },
        "outputId": "67e3716d-2a26-4f6e-9af8-d9841af41d71"
      },
      "source": [
        "import pandas as pd\n",
        "url = 'https://raw.githubusercontent.com/ideamanjo/Machine_Learning/master/Hitters.csv'\n",
        "df = pd.read_csv(url,index_col=0,parse_dates=[0])\n",
        "\n",
        "df.head(5)"
      ],
      "execution_count": 27,
      "outputs": [
        {
          "output_type": "execute_result",
          "data": {
            "text/html": [
              "<div>\n",
              "<style scoped>\n",
              "    .dataframe tbody tr th:only-of-type {\n",
              "        vertical-align: middle;\n",
              "    }\n",
              "\n",
              "    .dataframe tbody tr th {\n",
              "        vertical-align: top;\n",
              "    }\n",
              "\n",
              "    .dataframe thead th {\n",
              "        text-align: right;\n",
              "    }\n",
              "</style>\n",
              "<table border=\"1\" class=\"dataframe\">\n",
              "  <thead>\n",
              "    <tr style=\"text-align: right;\">\n",
              "      <th></th>\n",
              "      <th>AtBat</th>\n",
              "      <th>Hits</th>\n",
              "      <th>HmRun</th>\n",
              "      <th>Runs</th>\n",
              "      <th>RBI</th>\n",
              "      <th>Walks</th>\n",
              "      <th>Years</th>\n",
              "      <th>CAtBat</th>\n",
              "      <th>CHits</th>\n",
              "      <th>CHmRun</th>\n",
              "      <th>CRuns</th>\n",
              "      <th>CRBI</th>\n",
              "      <th>CWalks</th>\n",
              "      <th>League</th>\n",
              "      <th>Division</th>\n",
              "      <th>PutOuts</th>\n",
              "      <th>Assists</th>\n",
              "      <th>Errors</th>\n",
              "      <th>Salary</th>\n",
              "      <th>NewLeague</th>\n",
              "    </tr>\n",
              "  </thead>\n",
              "  <tbody>\n",
              "    <tr>\n",
              "      <th>-Andy Allanson</th>\n",
              "      <td>293</td>\n",
              "      <td>66</td>\n",
              "      <td>1</td>\n",
              "      <td>30</td>\n",
              "      <td>29</td>\n",
              "      <td>14</td>\n",
              "      <td>1</td>\n",
              "      <td>293</td>\n",
              "      <td>66</td>\n",
              "      <td>1</td>\n",
              "      <td>30</td>\n",
              "      <td>29</td>\n",
              "      <td>14</td>\n",
              "      <td>A</td>\n",
              "      <td>E</td>\n",
              "      <td>446</td>\n",
              "      <td>33</td>\n",
              "      <td>20</td>\n",
              "      <td>NaN</td>\n",
              "      <td>A</td>\n",
              "    </tr>\n",
              "    <tr>\n",
              "      <th>-Alan Ashby</th>\n",
              "      <td>315</td>\n",
              "      <td>81</td>\n",
              "      <td>7</td>\n",
              "      <td>24</td>\n",
              "      <td>38</td>\n",
              "      <td>39</td>\n",
              "      <td>14</td>\n",
              "      <td>3449</td>\n",
              "      <td>835</td>\n",
              "      <td>69</td>\n",
              "      <td>321</td>\n",
              "      <td>414</td>\n",
              "      <td>375</td>\n",
              "      <td>N</td>\n",
              "      <td>W</td>\n",
              "      <td>632</td>\n",
              "      <td>43</td>\n",
              "      <td>10</td>\n",
              "      <td>475.0</td>\n",
              "      <td>N</td>\n",
              "    </tr>\n",
              "    <tr>\n",
              "      <th>-Alvin Davis</th>\n",
              "      <td>479</td>\n",
              "      <td>130</td>\n",
              "      <td>18</td>\n",
              "      <td>66</td>\n",
              "      <td>72</td>\n",
              "      <td>76</td>\n",
              "      <td>3</td>\n",
              "      <td>1624</td>\n",
              "      <td>457</td>\n",
              "      <td>63</td>\n",
              "      <td>224</td>\n",
              "      <td>266</td>\n",
              "      <td>263</td>\n",
              "      <td>A</td>\n",
              "      <td>W</td>\n",
              "      <td>880</td>\n",
              "      <td>82</td>\n",
              "      <td>14</td>\n",
              "      <td>480.0</td>\n",
              "      <td>A</td>\n",
              "    </tr>\n",
              "    <tr>\n",
              "      <th>-Andre Dawson</th>\n",
              "      <td>496</td>\n",
              "      <td>141</td>\n",
              "      <td>20</td>\n",
              "      <td>65</td>\n",
              "      <td>78</td>\n",
              "      <td>37</td>\n",
              "      <td>11</td>\n",
              "      <td>5628</td>\n",
              "      <td>1575</td>\n",
              "      <td>225</td>\n",
              "      <td>828</td>\n",
              "      <td>838</td>\n",
              "      <td>354</td>\n",
              "      <td>N</td>\n",
              "      <td>E</td>\n",
              "      <td>200</td>\n",
              "      <td>11</td>\n",
              "      <td>3</td>\n",
              "      <td>500.0</td>\n",
              "      <td>N</td>\n",
              "    </tr>\n",
              "    <tr>\n",
              "      <th>-Andres Galarraga</th>\n",
              "      <td>321</td>\n",
              "      <td>87</td>\n",
              "      <td>10</td>\n",
              "      <td>39</td>\n",
              "      <td>42</td>\n",
              "      <td>30</td>\n",
              "      <td>2</td>\n",
              "      <td>396</td>\n",
              "      <td>101</td>\n",
              "      <td>12</td>\n",
              "      <td>48</td>\n",
              "      <td>46</td>\n",
              "      <td>33</td>\n",
              "      <td>N</td>\n",
              "      <td>E</td>\n",
              "      <td>805</td>\n",
              "      <td>40</td>\n",
              "      <td>4</td>\n",
              "      <td>91.5</td>\n",
              "      <td>N</td>\n",
              "    </tr>\n",
              "  </tbody>\n",
              "</table>\n",
              "</div>"
            ],
            "text/plain": [
              "                   AtBat  Hits  HmRun  Runs  ...  Assists  Errors  Salary  NewLeague\n",
              "-Andy Allanson       293    66      1    30  ...       33      20     NaN          A\n",
              "-Alan Ashby          315    81      7    24  ...       43      10   475.0          N\n",
              "-Alvin Davis         479   130     18    66  ...       82      14   480.0          A\n",
              "-Andre Dawson        496   141     20    65  ...       11       3   500.0          N\n",
              "-Andres Galarraga    321    87     10    39  ...       40       4    91.5          N\n",
              "\n",
              "[5 rows x 20 columns]"
            ]
          },
          "metadata": {
            "tags": []
          },
          "execution_count": 27
        }
      ]
    },
    {
      "cell_type": "code",
      "metadata": {
        "id": "EToysdXaP3CU",
        "colab_type": "code",
        "colab": {
          "base_uri": "https://localhost:8080/",
          "height": 172
        },
        "outputId": "5707c9f6-9828-4242-f042-7f33c3d48ec5"
      },
      "source": [
        "df.head()"
      ],
      "execution_count": 20,
      "outputs": [
        {
          "output_type": "error",
          "ename": "AttributeError",
          "evalue": "ignored",
          "traceback": [
            "\u001b[0;31m---------------------------------------------------------------------------\u001b[0m",
            "\u001b[0;31mAttributeError\u001b[0m                            Traceback (most recent call last)",
            "\u001b[0;32m<ipython-input-20-c42a15b2c7cf>\u001b[0m in \u001b[0;36m<module>\u001b[0;34m()\u001b[0m\n\u001b[0;32m----> 1\u001b[0;31m \u001b[0mdf\u001b[0m\u001b[0;34m.\u001b[0m\u001b[0mhead\u001b[0m\u001b[0;34m(\u001b[0m\u001b[0;34m)\u001b[0m\u001b[0;34m\u001b[0m\u001b[0;34m\u001b[0m\u001b[0m\n\u001b[0m",
            "\u001b[0;31mAttributeError\u001b[0m: 'Response' object has no attribute 'head'"
          ]
        }
      ]
    },
    {
      "cell_type": "code",
      "metadata": {
        "id": "wUNchcckP3CX",
        "colab_type": "code",
        "colab": {}
      },
      "source": [
        "\n",
        "\n",
        "\n",
        "dummies = pd.get_dummies(df[['League', 'Division', 'NewLeague']])\n",
        "dummies.info()\n",
        "print(dummies.head())"
      ],
      "execution_count": 0,
      "outputs": []
    },
    {
      "cell_type": "code",
      "metadata": {
        "id": "0Eyi6XD_P3CZ",
        "colab_type": "code",
        "colab": {}
      },
      "source": [
        "y = df.Salary\n",
        "\n",
        "# Drop the column with the independent variable (Salary), and columns for which we created dummy variables\n",
        "X_ = df.drop(['Salary', 'League', 'Division', 'NewLeague'], axis=1).astype('float64')\n",
        "# Define the feature set X.\n",
        "X = pd.concat([X_, dummies[['League_N', 'Division_W', 'NewLeague_N']]], axis=1)\n",
        "X.info()"
      ],
      "execution_count": 0,
      "outputs": []
    },
    {
      "cell_type": "code",
      "metadata": {
        "id": "hixK6nJWP3Cb",
        "colab_type": "code",
        "colab": {}
      },
      "source": [
        "X.head(5)"
      ],
      "execution_count": 0,
      "outputs": []
    },
    {
      "cell_type": "markdown",
      "metadata": {
        "id": "tDotr7ZXP3Cd",
        "colab_type": "text"
      },
      "source": [
        "#### I executed the R code and downloaded the exact same training/test sets used in the book."
      ]
    },
    {
      "cell_type": "code",
      "metadata": {
        "id": "PW2Ml4l9P3Ce",
        "colab_type": "code",
        "colab": {}
      },
      "source": [
        "X_train = pd.read_csv('Data/Hitters_X_train.csv', index_col=0)\n",
        "y_train = pd.read_csv('Data/Hitters_y_train.csv', index_col=0)\n",
        "X_test = pd.read_csv('Data/Hitters_X_test.csv', index_col=0)\n",
        "y_test = pd.read_csv('Data/Hitters_y_test.csv', index_col=0)"
      ],
      "execution_count": 0,
      "outputs": []
    },
    {
      "cell_type": "markdown",
      "metadata": {
        "id": "u41Ca_70P3Cg",
        "colab_type": "text"
      },
      "source": [
        "### 6.6.1 Ridge Regression"
      ]
    },
    {
      "cell_type": "markdown",
      "metadata": {
        "id": "m1VS1J5QP3Ch",
        "colab_type": "text"
      },
      "source": [
        "### Scikit-learn"
      ]
    },
    {
      "cell_type": "markdown",
      "metadata": {
        "id": "0_wLH8cSP3Ci",
        "colab_type": "text"
      },
      "source": [
        "The __glmnet__ algorithms in R optimize the objective function using cyclical coordinate descent, while scikit-learn Ridge regression uses linear least squares with L2 regularization. They are rather different implementations, but the general principles are the same.\n",
        "\n",
        "The __glmnet() function in R__ optimizes:\n",
        "### $$ \\frac{1}{N}|| X\\beta-y||^2_2+\\lambda\\bigg(\\frac{1}{2}(1−\\alpha)||\\beta||^2_2 \\ +\\ \\alpha||\\beta||_1\\bigg) $$\n",
        "(See R documentation and https://cran.r-project.org/web/packages/glmnet/vignettes/glmnet_beta.pdf)<BR>\n",
        "The function supports L1 and L2 regularization. For just Ridge regression we need to use $\\alpha = 0 $. This reduces the above cost function to\n",
        "### $$ \\frac{1}{N}|| X\\beta-y||^2_2+\\frac{1}{2}\\lambda ||\\beta||^2_2 $$\n",
        "The __sklearn Ridge()__ function optimizes:\n",
        "### $$ ||X\\beta - y||^2_2 + \\alpha ||\\beta||^2_2 $$\n",
        "which is equivalent to optimizing\n",
        "### $$ \\frac{1}{N}||X\\beta - y||^2_2 + \\frac{\\alpha}{N} ||\\beta||^2_2 $$"
      ]
    },
    {
      "cell_type": "code",
      "metadata": {
        "id": "qD7tgkRaP3Ci",
        "colab_type": "code",
        "colab": {}
      },
      "source": [
        "alphas = 10**np.linspace(10,-2,100)*0.5\n",
        "\n",
        "ridge = Ridge()\n",
        "coefs = []\n",
        "\n",
        "for a in alphas:\n",
        "    ridge.set_params(alpha=a)\n",
        "    ridge.fit(scale(X), y)\n",
        "    coefs.append(ridge.coef_)\n",
        "\n",
        "ax = plt.gca()\n",
        "ax.plot(alphas, coefs)\n",
        "ax.set_xscale('log')\n",
        "ax.set_xlim(ax.get_xlim()[::-1])  # reverse axis\n",
        "plt.axis('tight')\n",
        "plt.xlabel('alpha')\n",
        "plt.ylabel('weights')\n",
        "plt.title('Ridge coefficients as a function of the regularization');"
      ],
      "execution_count": 0,
      "outputs": []
    },
    {
      "cell_type": "markdown",
      "metadata": {
        "id": "B85iixMKP3Cl",
        "colab_type": "text"
      },
      "source": [
        "The above plot shows that the Ridge coefficients get larger when we decrease alpha."
      ]
    },
    {
      "cell_type": "markdown",
      "metadata": {
        "id": "pR8mB8W2P3Cm",
        "colab_type": "text"
      },
      "source": [
        "#### Alpha = 4"
      ]
    },
    {
      "cell_type": "code",
      "metadata": {
        "id": "0CtDOMILP3Cm",
        "colab_type": "code",
        "colab": {}
      },
      "source": [
        "from sklearn.preprocessing import StandardScaler\n",
        "\n",
        "scaler = StandardScaler().fit(X_train)"
      ],
      "execution_count": 0,
      "outputs": []
    },
    {
      "cell_type": "code",
      "metadata": {
        "id": "28oi_aknP3Cp",
        "colab_type": "code",
        "colab": {}
      },
      "source": [
        "ridge2 = Ridge(alpha=len(X_)*11498/2)\n",
        "ridge2.fit(scaler.transform(X_train), y_train)\n",
        "pred = ridge2.predict(scaler.transform(X_test))\n",
        "mean_squared_error(y_test, pred)"
      ],
      "execution_count": 0,
      "outputs": []
    },
    {
      "cell_type": "code",
      "metadata": {
        "id": "YqdTcWQSP3Cr",
        "colab_type": "code",
        "colab": {}
      },
      "source": [
        "pd.Series(ridge2.coef_.flatten(), index=X.columns)"
      ],
      "execution_count": 0,
      "outputs": []
    },
    {
      "cell_type": "markdown",
      "metadata": {
        "id": "Y9hHbB7rP3Cu",
        "colab_type": "text"
      },
      "source": [
        "#### Alpha = $10^{10}$ \n",
        "This big penalty shrinks the coefficients to a very large degree and makes the model more biased, resulting in a higher MSE."
      ]
    },
    {
      "cell_type": "code",
      "metadata": {
        "id": "XC6in9PXP3Cu",
        "colab_type": "code",
        "colab": {}
      },
      "source": [
        "ridge2.set_params(alpha=10**10)\n",
        "ridge2.fit(scale(X_train), y_train)\n",
        "pred = ridge2.predict(scale(X_test))\n",
        "mean_squared_error(y_test, pred)"
      ],
      "execution_count": 0,
      "outputs": []
    },
    {
      "cell_type": "markdown",
      "metadata": {
        "id": "InIEzdzSP3Cx",
        "colab_type": "text"
      },
      "source": [
        "#### Compute the regularization path using RidgeCV"
      ]
    },
    {
      "cell_type": "code",
      "metadata": {
        "id": "65OdzvWvP3Cy",
        "colab_type": "code",
        "colab": {}
      },
      "source": [
        "ridgecv = RidgeCV(alphas=alphas, scoring='neg_mean_squared_error')\n",
        "ridgecv.fit(scale(X_train), y_train)"
      ],
      "execution_count": 0,
      "outputs": []
    },
    {
      "cell_type": "code",
      "metadata": {
        "id": "1a52s1B4P3C0",
        "colab_type": "code",
        "colab": {}
      },
      "source": [
        "ridgecv.alpha_"
      ],
      "execution_count": 0,
      "outputs": []
    },
    {
      "cell_type": "code",
      "metadata": {
        "id": "ejGvkbKZP3C2",
        "colab_type": "code",
        "colab": {}
      },
      "source": [
        "ridge2.set_params(alpha=ridgecv.alpha_)\n",
        "ridge2.fit(scale(X_train), y_train)\n",
        "mean_squared_error(y_test, ridge2.predict(scale(X_test)))"
      ],
      "execution_count": 0,
      "outputs": []
    },
    {
      "cell_type": "code",
      "metadata": {
        "id": "3S16YauTP3C4",
        "colab_type": "code",
        "colab": {}
      },
      "source": [
        "pd.Series(ridge2.coef_.flatten(), index=X.columns)"
      ],
      "execution_count": 0,
      "outputs": []
    },
    {
      "cell_type": "markdown",
      "metadata": {
        "id": "CqUVv3HQP3C7",
        "colab_type": "text"
      },
      "source": [
        "### 6.6.2 The Lasso"
      ]
    },
    {
      "cell_type": "markdown",
      "metadata": {
        "id": "6J9m2KbVP3C7",
        "colab_type": "text"
      },
      "source": [
        "### Scikit-learn"
      ]
    },
    {
      "cell_type": "markdown",
      "metadata": {
        "id": "3p6DZCIeP3C8",
        "colab_type": "text"
      },
      "source": [
        "\n",
        "\n",
        "For both __glmnet__ in R and sklearn __Lasso()__ function the standard L1 penalty is:\n",
        "### $$ \\lambda |\\beta|_1 $$"
      ]
    },
    {
      "cell_type": "code",
      "metadata": {
        "scrolled": false,
        "id": "TjrMbLeIP3C-",
        "colab_type": "code",
        "colab": {}
      },
      "source": [
        "lasso = Lasso(max_iter=10000)\n",
        "coefs = []\n",
        "\n",
        "for a in alphas*2:\n",
        "    lasso.set_params(alpha=a)\n",
        "    lasso.fit(scale(X_train), y_train)\n",
        "    coefs.append(lasso.coef_)\n",
        "\n",
        "ax = plt.gca()\n",
        "ax.plot(alphas*2, coefs)\n",
        "ax.set_xscale('log')\n",
        "ax.set_xlim(ax.get_xlim()[::-1])  # reverse axis\n",
        "plt.axis('tight')\n",
        "plt.xlabel('alpha')\n",
        "plt.ylabel('weights')\n",
        "plt.title('Lasso coefficients as a function of the regularization');"
      ],
      "execution_count": 0,
      "outputs": []
    },
    {
      "cell_type": "code",
      "metadata": {
        "id": "esR4PTWNP3DD",
        "colab_type": "code",
        "colab": {}
      },
      "source": [
        "lassocv = LassoCV(alphas=None, cv=10, max_iter=10000)\n",
        "lassocv.fit(scale(X_train), y_train.as_matrix().ravel())"
      ],
      "execution_count": 0,
      "outputs": []
    },
    {
      "cell_type": "code",
      "metadata": {
        "id": "cytMcE6EP3DG",
        "colab_type": "code",
        "colab": {}
      },
      "source": [
        "lassocv.alpha_"
      ],
      "execution_count": 0,
      "outputs": []
    },
    {
      "cell_type": "code",
      "metadata": {
        "id": "tXXkAU4LP3DI",
        "colab_type": "code",
        "colab": {}
      },
      "source": [
        "lasso.set_params(alpha=lassocv.alpha_)\n",
        "lasso.fit(scale(X_train), y_train)\n",
        "mean_squared_error(y_test, lasso.predict(scale(X_test)))"
      ],
      "execution_count": 0,
      "outputs": []
    },
    {
      "cell_type": "code",
      "metadata": {
        "id": "mrK1XveRP3DK",
        "colab_type": "code",
        "colab": {}
      },
      "source": [
        "# Some of the coefficients are now reduced to exactly zero.\n",
        "pd.Series(lasso.coef_, index=X.columns)"
      ],
      "execution_count": 0,
      "outputs": []
    },
    {
      "cell_type": "markdown",
      "metadata": {
        "id": "relceIicP3DN",
        "colab_type": "text"
      },
      "source": [
        "# Lab 3"
      ]
    },
    {
      "cell_type": "markdown",
      "metadata": {
        "id": "C9xa7wMTP3DO",
        "colab_type": "text"
      },
      "source": [
        "### 6.7.1 Principal Components Regression"
      ]
    },
    {
      "cell_type": "markdown",
      "metadata": {
        "id": "eEXpz9veP3DP",
        "colab_type": "text"
      },
      "source": [
        "Scikit-klearn does not have an implementation of PCA and regression combined like the 'pls' package in R.\n",
        "https://cran.r-project.org/web/packages/pls/vignettes/pls-manual.pdf"
      ]
    },
    {
      "cell_type": "code",
      "metadata": {
        "id": "Zk9GBQAoP3DP",
        "colab_type": "code",
        "colab": {}
      },
      "source": [
        "pca = PCA()\n",
        "X_reduced = pca.fit_transform(scale(X))\n",
        "\n",
        "print(pca.components_.shape)\n",
        "pd.DataFrame(pca.components_.T).loc[:4,:5]"
      ],
      "execution_count": 0,
      "outputs": []
    },
    {
      "cell_type": "markdown",
      "metadata": {
        "id": "rHjsXFVlP3DS",
        "colab_type": "text"
      },
      "source": [
        "The above loadings are the same as in R."
      ]
    },
    {
      "cell_type": "code",
      "metadata": {
        "id": "O1QYYnlZP3DS",
        "colab_type": "code",
        "colab": {}
      },
      "source": [
        "print(X_reduced.shape)\n",
        "pd.DataFrame(X_reduced).loc[:4,:5]"
      ],
      "execution_count": 0,
      "outputs": []
    },
    {
      "cell_type": "markdown",
      "metadata": {
        "id": "G0JybK6eP3DU",
        "colab_type": "text"
      },
      "source": [
        "The above principal components are the same as in R."
      ]
    },
    {
      "cell_type": "code",
      "metadata": {
        "id": "LilvdYHtP3DV",
        "colab_type": "code",
        "colab": {}
      },
      "source": [
        "# Variance explained by the principal components\n",
        "np.cumsum(np.round(pca.explained_variance_ratio_, decimals=4)*100)"
      ],
      "execution_count": 0,
      "outputs": []
    },
    {
      "cell_type": "code",
      "metadata": {
        "id": "chJ4m6eSP3DX",
        "colab_type": "code",
        "colab": {}
      },
      "source": [
        "# 10-fold CV, with shuffle\n",
        "n = len(X_reduced)\n",
        "kf_10 = KFold(n_splits=10, shuffle=True, random_state=1)\n",
        "\n",
        "regr = LinearRegression()\n",
        "mse = []\n",
        "\n",
        "# Calculate MSE with only the intercept (no principal components in regression)\n",
        "score = -1*cross_val_score(regr, np.ones((n,1)), y.ravel(), cv=kf_10, scoring='neg_mean_squared_error').mean()    \n",
        "mse.append(score)\n",
        "\n",
        "# Calculate MSE using CV for the 19 principle components, adding one component at the time.\n",
        "for i in np.arange(1, 20):\n",
        "    score = -1*cross_val_score(regr, X_reduced[:,:i], y.ravel(), cv=kf_10, scoring='neg_mean_squared_error').mean()\n",
        "    mse.append(score)\n",
        "    \n",
        "plt.plot(mse, '-v')\n",
        "plt.xlabel('Number of principal components in regression')\n",
        "plt.ylabel('MSE')\n",
        "plt.title('Salary')\n",
        "plt.xlim(xmin=-1);"
      ],
      "execution_count": 0,
      "outputs": []
    },
    {
      "cell_type": "markdown",
      "metadata": {
        "id": "n8EeTLvpP3Da",
        "colab_type": "text"
      },
      "source": [
        "The above plot indicates that the lowest training MSE is reached when doing regression on 18 components."
      ]
    },
    {
      "cell_type": "code",
      "metadata": {
        "id": "js34E8r6P3Db",
        "colab_type": "code",
        "colab": {}
      },
      "source": [
        "regr_test = LinearRegression()\n",
        "regr_test.fit(X_reduced, y)\n",
        "regr_test.coef_"
      ],
      "execution_count": 0,
      "outputs": []
    },
    {
      "cell_type": "markdown",
      "metadata": {
        "id": "mP4XXiDXP3Dd",
        "colab_type": "text"
      },
      "source": [
        "#### Fitting PCA with training data"
      ]
    },
    {
      "cell_type": "code",
      "metadata": {
        "id": "duFebVfDP3Dd",
        "colab_type": "code",
        "colab": {}
      },
      "source": [
        "pca2 = PCA()\n",
        "X_reduced_train = pca2.fit_transform(scale(X_train))\n",
        "n = len(X_reduced_train)\n",
        "\n",
        "# 10-fold CV, with shuffle\n",
        "kf_10 = KFold(n_splits=10, shuffle=False, random_state=1)\n",
        "\n",
        "mse = []\n",
        "\n",
        "# Calculate MSE with only the intercept (no principal components in regression)\n",
        "score = -1*cross_val_score(regr, np.ones((n,1)), y_train, cv=kf_10, scoring='neg_mean_squared_error').mean()    \n",
        "mse.append(score)\n",
        "\n",
        "# Calculate MSE using CV for the 19 principle components, adding one component at the time.\n",
        "for i in np.arange(1, 20):\n",
        "    score = -1*cross_val_score(regr, X_reduced_train[:,:i], y_train, cv=kf_10, scoring='neg_mean_squared_error').mean()\n",
        "    mse.append(score)\n",
        "\n",
        "plt.plot(np.array(mse), '-v')\n",
        "plt.xlabel('Number of principal components in regression')\n",
        "plt.ylabel('MSE')\n",
        "plt.title('Salary')\n",
        "plt.xlim(xmin=-1);"
      ],
      "execution_count": 0,
      "outputs": []
    },
    {
      "cell_type": "markdown",
      "metadata": {
        "id": "gWaqk2gGP3Df",
        "colab_type": "text"
      },
      "source": [
        "The above plot indicates that the lowest training MSE is reached when doing regression on 6 components."
      ]
    },
    {
      "cell_type": "markdown",
      "metadata": {
        "id": "mqj2aI3XP3Dh",
        "colab_type": "text"
      },
      "source": [
        "#### Transform test data with PCA loadings and fit regression on 6 principal components"
      ]
    },
    {
      "cell_type": "code",
      "metadata": {
        "id": "_oPv99oXP3Di",
        "colab_type": "code",
        "colab": {}
      },
      "source": [
        "X_reduced_test = pca2.transform(scale(X_test))[:,:7]\n",
        "\n",
        "# Train regression model on training data \n",
        "regr = LinearRegression()\n",
        "regr.fit(X_reduced_train[:,:7], y_train)\n",
        "\n",
        "# Prediction with test data\n",
        "pred = regr.predict(X_reduced_test)\n",
        "mean_squared_error(y_test, pred)"
      ],
      "execution_count": 0,
      "outputs": []
    },
    {
      "cell_type": "markdown",
      "metadata": {
        "id": "AzfZCXsPP3Dk",
        "colab_type": "text"
      },
      "source": [
        "### 6.7.2 Partial Least Squares"
      ]
    },
    {
      "cell_type": "markdown",
      "metadata": {
        "id": "WNSXBh5oP3Dl",
        "colab_type": "text"
      },
      "source": [
        "Scikit-learn PLSRegression gives same results as the pls package in R when using 'method='oscorespls'. In the LAB excercise, the standard method is used which is 'kernelpls'. \n",
        "\n",
        "When doing a slightly different fitting in R, the result is close to the one obtained using scikit-learn.\n",
        "\n",
        "    pls.fit=plsr(Salary~., data=Hitters, subset=train, scale=TRUE, validation=\"CV\", method='oscorespls')\n",
        "    validationplot(pls.fit,val.type=\"MSEP\", intercept = FALSE)\n",
        "   \n",
        "See documentation:\n",
        "http://scikit-learn.org/dev/modules/generated/sklearn.cross_decomposition.PLSRegression.html#sklearn.cross_decomposition.PLSRegression"
      ]
    },
    {
      "cell_type": "code",
      "metadata": {
        "id": "p9uxhLMuP3Dl",
        "colab_type": "code",
        "colab": {}
      },
      "source": [
        "n = len(X_train)\n",
        "\n",
        "# 10-fold CV, with shuffle\n",
        "kf_10 = KFold(n_splits=10, shuffle=False, random_state=1)\n",
        "\n",
        "mse = []\n",
        "\n",
        "for i in np.arange(1, 20):\n",
        "    pls = PLSRegression(n_components=i)\n",
        "    score = cross_val_score(pls, scale(X_train), y_train, cv=kf_10, scoring='neg_mean_squared_error').mean()\n",
        "    mse.append(-score)\n",
        "\n",
        "plt.plot(np.arange(1, 20), np.array(mse), '-v')\n",
        "plt.xlabel('Number of principal components in regression')\n",
        "plt.ylabel('MSE')\n",
        "plt.title('Salary')\n",
        "plt.xlim(xmin=-1);"
      ],
      "execution_count": 0,
      "outputs": []
    },
    {
      "cell_type": "code",
      "metadata": {
        "id": "1jqyvKCzP3Dn",
        "colab_type": "code",
        "colab": {}
      },
      "source": [
        "pls = PLSRegression(n_components=2)\n",
        "pls.fit(scale(X_train), y_train)\n",
        "\n",
        "mean_squared_error(y_test, pls.predict(scale(X_test)))"
      ],
      "execution_count": 0,
      "outputs": []
    }
  ]
}